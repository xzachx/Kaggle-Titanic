{
 "cells": [
  {
   "cell_type": "markdown",
   "metadata": {},
   "source": [
    "# Titanic: Machine Learning from Disaster"
   ]
  },
  {
   "cell_type": "markdown",
   "metadata": {},
   "source": [
    "---\n",
    "## Table of Contents  \n",
    "* [1. Data Overview](#1)  \n",
    "    * [1.1 Competition Description](#1.1)  \n",
    "    * [1.2 Data Dictionary](#1.2)  \n",
    "    * [1.3 Variable Notes](#1.3)  \n",
    "* [2. Exploratory Data Analysis](#2)  \n",
    "    * [2.1 Univariate Analysis](#2.1)  \n",
    "        * [2.1.1 Continuous Variables](#2.1.1)  \n",
    "        * [2.1.2 Categorical Variables](#2.1.2)  \n",
    "    * [2.2 Bivariate Analysis](#2.2)\n",
    "        * [2.2.1 Continuous Variables vs. Continuous Variables](#2.2.1)\n",
    "        * [2.2.2 Categorical Variables vs. Categorical Variables](#2.2.2)  \n",
    "        * [2.2.3 Categorical Variables vs. Continuous Variables](#2.2.3)\n",
    "* [3. Missing Value Treatment](#3)\n",
    "* [4. Feature Engineering](#4)\n",
    "* [5. Model Creation](#5)\n",
    "    * [5.1 Data Preparation](#5.1)  \n",
    "    * [5.2 Logistic Regression](#5.2)  \n",
    "    * [5.3 K-Nearest Neighbors](#5.3)\n",
    "    * [5.4 Random Forest Classifier](#5.4)\n",
    "    * [5.5 Gradient Boosted Classifier](#5.5)\n",
    "* [6. Conclusions and Future Work](#6)"
   ]
  },
  {
   "cell_type": "markdown",
   "metadata": {},
   "source": [
    "---\n",
    "<a id='1'></a>\n",
    "## 1. Data Overview"
   ]
  },
  {
   "cell_type": "markdown",
   "metadata": {},
   "source": [
    "<a id='1.1'></a>\n",
    "### 1.1 Competition Description  \n",
    "In this project, we will be applying several different machine learning techniques to the Titanic dataset hosted on [Kaggle](https://www.kaggle.com/c/titanic).  The purpose of this exercise is to predict whether a passenger on the Titanic survived or not with model accuracy being the measure of success.  The competition is descrbed as follows on the Kaggle website:\n",
    "> The sinking of the RMS Titanic is one of the most infamous shipwrecks in history.  On April 15, 1912, during her maiden voyage, the Titanic sank after colliding with an iceberg, killing 1502 out of 2224 passengers and crew. This sensational tragedy shocked the international community and led to better safety regulations for ships.\n",
    "\n",
    "> One of the reasons that the shipwreck led to such loss of life was that there were not enough lifeboats for the passengers and crew. Although there was some element of luck involved in surviving the sinking, some groups of people were more likely to survive than others, such as women, children, and the upper-class.\n",
    "\n",
    "> In this challenge, we ask you to complete the analysis of what sorts of people were likely to survive. In particular, we ask you to apply the tools of machine learning to predict which passengers survived the tragedy."
   ]
  },
  {
   "cell_type": "markdown",
   "metadata": {},
   "source": [
    "<a id='1.2'></a>\n",
    "### 1.2 Data Dictionary  \n",
    "|Variable|Definition|Key|Type of Variable|Data Type|Variable Category|\n",
    "|--------|----------|---|----------------|---------|-----------------|\n",
    "|survival|Survival|0 = No, 1 = Yes|Target variable|Numeric|Categorical|\n",
    "|pclass|Ticket class||Predictor variable|Numeric|Categorical|\n",
    "|name|Passenger name||Predictor variable|Character|Categorical|\n",
    "|sex|Sex||Predictor variable|Character|Categorical|\n",
    "|Age|Age in years||Predictor varible|Numeric|Continuous|\n",
    "|sibsp|# of siblings / spouses aboard the Titanic||Predictor variable|Numeric|Continuous|\n",
    "|parch|# of parents / children aboard the Titanic||Predictor variable|Numeric|Continuous|\n",
    "|ticket|Ticket number||Predictor variable|Character|Categorical|\n",
    "|fare|Passenger fare||Predictor variable|Numeric|Continuous|\n",
    "|cabin|Cabin number||Predictor variable|Character|Categorical|\n",
    "|embarked|Port of Embarkation|C = Cherbourg, Q = Queenstown, S = Southampton|Predictor variable|Character|Categorical|"
   ]
  },
  {
   "cell_type": "markdown",
   "metadata": {},
   "source": [
    "<a id='1.3'></a>\n",
    "### 1.3 Variable Notes  \n",
    "__pclass__: A proxy for socio-economic status (SES)  \n",
    "1st = Upper  \n",
    "2nd = Middle  \n",
    "3rd = Lower  \n",
    "  \n",
    "__age__: Age is fractional if less than 1.  If the age is estimated, it is in the form of xx.5  \n",
    "\n",
    "__sibsp__: The dataset defines family relations in this way...  \n",
    "Sibling = brother, sister, stepbrother, stepsister  \n",
    "Spouse = husband, wife (mistresses and fiancés were ignored)  \n",
    "\n",
    "__parch__: The dataset defines family relations in this way...  \n",
    "Parent = mother, father  \n",
    "Child = daughter, son, stepdaughter, stepson  \n",
    "Some children travelled only with a nanny, therefore parch=0 for them."
   ]
  },
  {
   "cell_type": "markdown",
   "metadata": {},
   "source": [
    "---\n",
    "<a id='2'></a>\n",
    "## 2 Exploratory Data Analysis"
   ]
  },
  {
   "cell_type": "markdown",
   "metadata": {},
   "source": [
    "<a id='2.1'></a>\n",
    "### 2.1 Univariate Analysis"
   ]
  },
  {
   "cell_type": "code",
   "execution_count": 1,
   "metadata": {
    "collapsed": true
   },
   "outputs": [],
   "source": [
    "import pandas as pd\n",
    "import numpy as np\n",
    "import matplotlib.pyplot as plt\n",
    "import seaborn as sns\n",
    "\n",
    "%matplotlib inline\n",
    "sns.set_style('darkgrid')"
   ]
  },
  {
   "cell_type": "markdown",
   "metadata": {},
   "source": [
    "First, we need to read in the test and train data sets.  Both data sets were provided by Kaggle.  The training set includes Survived values and the test set does not.  Predictions for test set values must be submitted to Kaggle in order to determine accuracy."
   ]
  },
  {
   "cell_type": "code",
   "execution_count": 2,
   "metadata": {
    "collapsed": true
   },
   "outputs": [],
   "source": [
    "train = pd.read_csv('Data/train.csv')\n",
    "test = pd.read_csv('Data/test.csv')"
   ]
  },
  {
   "cell_type": "markdown",
   "metadata": {},
   "source": [
    "Now that the data has been imported, we can use the Pandas info() method to see some basic information about the training set."
   ]
  },
  {
   "cell_type": "code",
   "execution_count": 3,
   "metadata": {
    "collapsed": false
   },
   "outputs": [
    {
     "name": "stdout",
     "output_type": "stream",
     "text": [
      "<class 'pandas.core.frame.DataFrame'>\n",
      "RangeIndex: 891 entries, 0 to 890\n",
      "Data columns (total 12 columns):\n",
      "PassengerId    891 non-null int64\n",
      "Survived       891 non-null int64\n",
      "Pclass         891 non-null int64\n",
      "Name           891 non-null object\n",
      "Sex            891 non-null object\n",
      "Age            714 non-null float64\n",
      "SibSp          891 non-null int64\n",
      "Parch          891 non-null int64\n",
      "Ticket         891 non-null object\n",
      "Fare           891 non-null float64\n",
      "Cabin          204 non-null object\n",
      "Embarked       889 non-null object\n",
      "dtypes: float64(2), int64(5), object(5)\n",
      "memory usage: 83.6+ KB\n"
     ]
    }
   ],
   "source": [
    "train.info()"
   ]
  },
  {
   "cell_type": "markdown",
   "metadata": {},
   "source": [
    "The training  data contains 891 records.  The Age, Cabin, and Embarked variables all appear to be missing some values and will most likely require some sort of imputation.  We may also want to modify the data types for some of these variables.  For example, the Sex variable is currently a default Pandas object, but may prove more useful if converted to a boolean value."
   ]
  },
  {
   "cell_type": "code",
   "execution_count": 4,
   "metadata": {
    "collapsed": false,
    "scrolled": false
   },
   "outputs": [
    {
     "data": {
      "text/html": [
       "<div>\n",
       "<style scoped>\n",
       "    .dataframe tbody tr th:only-of-type {\n",
       "        vertical-align: middle;\n",
       "    }\n",
       "\n",
       "    .dataframe tbody tr th {\n",
       "        vertical-align: top;\n",
       "    }\n",
       "\n",
       "    .dataframe thead th {\n",
       "        text-align: right;\n",
       "    }\n",
       "</style>\n",
       "<table border=\"1\" class=\"dataframe\">\n",
       "  <thead>\n",
       "    <tr style=\"text-align: right;\">\n",
       "      <th></th>\n",
       "      <th>PassengerId</th>\n",
       "      <th>Survived</th>\n",
       "      <th>Pclass</th>\n",
       "      <th>Name</th>\n",
       "      <th>Sex</th>\n",
       "      <th>Age</th>\n",
       "      <th>SibSp</th>\n",
       "      <th>Parch</th>\n",
       "      <th>Ticket</th>\n",
       "      <th>Fare</th>\n",
       "      <th>Cabin</th>\n",
       "      <th>Embarked</th>\n",
       "    </tr>\n",
       "  </thead>\n",
       "  <tbody>\n",
       "    <tr>\n",
       "      <th>0</th>\n",
       "      <td>1</td>\n",
       "      <td>0</td>\n",
       "      <td>3</td>\n",
       "      <td>Braund, Mr. Owen Harris</td>\n",
       "      <td>male</td>\n",
       "      <td>22.0</td>\n",
       "      <td>1</td>\n",
       "      <td>0</td>\n",
       "      <td>A/5 21171</td>\n",
       "      <td>7.2500</td>\n",
       "      <td>NaN</td>\n",
       "      <td>S</td>\n",
       "    </tr>\n",
       "    <tr>\n",
       "      <th>1</th>\n",
       "      <td>2</td>\n",
       "      <td>1</td>\n",
       "      <td>1</td>\n",
       "      <td>Cumings, Mrs. John Bradley (Florence Briggs Th...</td>\n",
       "      <td>female</td>\n",
       "      <td>38.0</td>\n",
       "      <td>1</td>\n",
       "      <td>0</td>\n",
       "      <td>PC 17599</td>\n",
       "      <td>71.2833</td>\n",
       "      <td>C85</td>\n",
       "      <td>C</td>\n",
       "    </tr>\n",
       "    <tr>\n",
       "      <th>2</th>\n",
       "      <td>3</td>\n",
       "      <td>1</td>\n",
       "      <td>3</td>\n",
       "      <td>Heikkinen, Miss. Laina</td>\n",
       "      <td>female</td>\n",
       "      <td>26.0</td>\n",
       "      <td>0</td>\n",
       "      <td>0</td>\n",
       "      <td>STON/O2. 3101282</td>\n",
       "      <td>7.9250</td>\n",
       "      <td>NaN</td>\n",
       "      <td>S</td>\n",
       "    </tr>\n",
       "    <tr>\n",
       "      <th>3</th>\n",
       "      <td>4</td>\n",
       "      <td>1</td>\n",
       "      <td>1</td>\n",
       "      <td>Futrelle, Mrs. Jacques Heath (Lily May Peel)</td>\n",
       "      <td>female</td>\n",
       "      <td>35.0</td>\n",
       "      <td>1</td>\n",
       "      <td>0</td>\n",
       "      <td>113803</td>\n",
       "      <td>53.1000</td>\n",
       "      <td>C123</td>\n",
       "      <td>S</td>\n",
       "    </tr>\n",
       "    <tr>\n",
       "      <th>4</th>\n",
       "      <td>5</td>\n",
       "      <td>0</td>\n",
       "      <td>3</td>\n",
       "      <td>Allen, Mr. William Henry</td>\n",
       "      <td>male</td>\n",
       "      <td>35.0</td>\n",
       "      <td>0</td>\n",
       "      <td>0</td>\n",
       "      <td>373450</td>\n",
       "      <td>8.0500</td>\n",
       "      <td>NaN</td>\n",
       "      <td>S</td>\n",
       "    </tr>\n",
       "  </tbody>\n",
       "</table>\n",
       "</div>"
      ],
      "text/plain": [
       "   PassengerId  Survived  Pclass  \\\n",
       "0            1         0       3   \n",
       "1            2         1       1   \n",
       "2            3         1       3   \n",
       "3            4         1       1   \n",
       "4            5         0       3   \n",
       "\n",
       "                                                Name     Sex   Age  SibSp  \\\n",
       "0                            Braund, Mr. Owen Harris    male  22.0      1   \n",
       "1  Cumings, Mrs. John Bradley (Florence Briggs Th...  female  38.0      1   \n",
       "2                             Heikkinen, Miss. Laina  female  26.0      0   \n",
       "3       Futrelle, Mrs. Jacques Heath (Lily May Peel)  female  35.0      1   \n",
       "4                           Allen, Mr. William Henry    male  35.0      0   \n",
       "\n",
       "   Parch            Ticket     Fare Cabin Embarked  \n",
       "0      0         A/5 21171   7.2500   NaN        S  \n",
       "1      0          PC 17599  71.2833   C85        C  \n",
       "2      0  STON/O2. 3101282   7.9250   NaN        S  \n",
       "3      0            113803  53.1000  C123        S  \n",
       "4      0            373450   8.0500   NaN        S  "
      ]
     },
     "execution_count": 4,
     "metadata": {},
     "output_type": "execute_result"
    }
   ],
   "source": [
    "train.head()"
   ]
  },
  {
   "cell_type": "markdown",
   "metadata": {},
   "source": [
    "The Name, Sex, Ticket, Cabin, and Embarked columns are currently text values.  We will most likely want to replace at least some of these with dummy variables in order to include them in the models.  \n",
    "\n",
    "The ticket variable seems to have different formats for different values.  Further investigation will need to be done in order to determine if this variable can provide any value.  \n",
    "\n",
    "The Cabin variable is farely sparse, but the missing values may not be random.  It is likely that cabins were only assigned to higher passenger classes.  In this very small sample of data, the two records with Cabin values are for first class passengers and the three records with null Cabin values are third class passengers.  This will require further investigation."
   ]
  },
  {
   "cell_type": "code",
   "execution_count": 5,
   "metadata": {
    "collapsed": false
   },
   "outputs": [
    {
     "data": {
      "text/html": [
       "<div>\n",
       "<style scoped>\n",
       "    .dataframe tbody tr th:only-of-type {\n",
       "        vertical-align: middle;\n",
       "    }\n",
       "\n",
       "    .dataframe tbody tr th {\n",
       "        vertical-align: top;\n",
       "    }\n",
       "\n",
       "    .dataframe thead th {\n",
       "        text-align: right;\n",
       "    }\n",
       "</style>\n",
       "<table border=\"1\" class=\"dataframe\">\n",
       "  <thead>\n",
       "    <tr style=\"text-align: right;\">\n",
       "      <th></th>\n",
       "      <th>PassengerId</th>\n",
       "      <th>Survived</th>\n",
       "      <th>Pclass</th>\n",
       "      <th>Age</th>\n",
       "      <th>SibSp</th>\n",
       "      <th>Parch</th>\n",
       "      <th>Fare</th>\n",
       "    </tr>\n",
       "  </thead>\n",
       "  <tbody>\n",
       "    <tr>\n",
       "      <th>count</th>\n",
       "      <td>891.000000</td>\n",
       "      <td>891.000000</td>\n",
       "      <td>891.000000</td>\n",
       "      <td>714.000000</td>\n",
       "      <td>891.000000</td>\n",
       "      <td>891.000000</td>\n",
       "      <td>891.000000</td>\n",
       "    </tr>\n",
       "    <tr>\n",
       "      <th>mean</th>\n",
       "      <td>446.000000</td>\n",
       "      <td>0.383838</td>\n",
       "      <td>2.308642</td>\n",
       "      <td>29.699118</td>\n",
       "      <td>0.523008</td>\n",
       "      <td>0.381594</td>\n",
       "      <td>32.204208</td>\n",
       "    </tr>\n",
       "    <tr>\n",
       "      <th>std</th>\n",
       "      <td>257.353842</td>\n",
       "      <td>0.486592</td>\n",
       "      <td>0.836071</td>\n",
       "      <td>14.526497</td>\n",
       "      <td>1.102743</td>\n",
       "      <td>0.806057</td>\n",
       "      <td>49.693429</td>\n",
       "    </tr>\n",
       "    <tr>\n",
       "      <th>min</th>\n",
       "      <td>1.000000</td>\n",
       "      <td>0.000000</td>\n",
       "      <td>1.000000</td>\n",
       "      <td>0.420000</td>\n",
       "      <td>0.000000</td>\n",
       "      <td>0.000000</td>\n",
       "      <td>0.000000</td>\n",
       "    </tr>\n",
       "    <tr>\n",
       "      <th>25%</th>\n",
       "      <td>223.500000</td>\n",
       "      <td>0.000000</td>\n",
       "      <td>2.000000</td>\n",
       "      <td>20.125000</td>\n",
       "      <td>0.000000</td>\n",
       "      <td>0.000000</td>\n",
       "      <td>7.910400</td>\n",
       "    </tr>\n",
       "    <tr>\n",
       "      <th>50%</th>\n",
       "      <td>446.000000</td>\n",
       "      <td>0.000000</td>\n",
       "      <td>3.000000</td>\n",
       "      <td>28.000000</td>\n",
       "      <td>0.000000</td>\n",
       "      <td>0.000000</td>\n",
       "      <td>14.454200</td>\n",
       "    </tr>\n",
       "    <tr>\n",
       "      <th>75%</th>\n",
       "      <td>668.500000</td>\n",
       "      <td>1.000000</td>\n",
       "      <td>3.000000</td>\n",
       "      <td>38.000000</td>\n",
       "      <td>1.000000</td>\n",
       "      <td>0.000000</td>\n",
       "      <td>31.000000</td>\n",
       "    </tr>\n",
       "    <tr>\n",
       "      <th>max</th>\n",
       "      <td>891.000000</td>\n",
       "      <td>1.000000</td>\n",
       "      <td>3.000000</td>\n",
       "      <td>80.000000</td>\n",
       "      <td>8.000000</td>\n",
       "      <td>6.000000</td>\n",
       "      <td>512.329200</td>\n",
       "    </tr>\n",
       "  </tbody>\n",
       "</table>\n",
       "</div>"
      ],
      "text/plain": [
       "       PassengerId    Survived      Pclass         Age       SibSp  \\\n",
       "count   891.000000  891.000000  891.000000  714.000000  891.000000   \n",
       "mean    446.000000    0.383838    2.308642   29.699118    0.523008   \n",
       "std     257.353842    0.486592    0.836071   14.526497    1.102743   \n",
       "min       1.000000    0.000000    1.000000    0.420000    0.000000   \n",
       "25%     223.500000    0.000000    2.000000   20.125000    0.000000   \n",
       "50%     446.000000    0.000000    3.000000   28.000000    0.000000   \n",
       "75%     668.500000    1.000000    3.000000   38.000000    1.000000   \n",
       "max     891.000000    1.000000    3.000000   80.000000    8.000000   \n",
       "\n",
       "            Parch        Fare  \n",
       "count  891.000000  891.000000  \n",
       "mean     0.381594   32.204208  \n",
       "std      0.806057   49.693429  \n",
       "min      0.000000    0.000000  \n",
       "25%      0.000000    7.910400  \n",
       "50%      0.000000   14.454200  \n",
       "75%      0.000000   31.000000  \n",
       "max      6.000000  512.329200  "
      ]
     },
     "execution_count": 5,
     "metadata": {},
     "output_type": "execute_result"
    }
   ],
   "source": [
    "train.describe()"
   ]
  },
  {
   "cell_type": "markdown",
   "metadata": {},
   "source": [
    "<a id='2.1.1'></a>\n",
    "#### 2.1.1 Continuous Variables"
   ]
  },
  {
   "cell_type": "code",
   "execution_count": 6,
   "metadata": {
    "collapsed": false
   },
   "outputs": [
    {
     "data": {
      "text/plain": [
       "[Text(0,0,'Age')]"
      ]
     },
     "execution_count": 6,
     "metadata": {},
     "output_type": "execute_result"
    },
    {
     "data": {
      "image/png": "[encoded data removed]",
      "text/plain": [
       "<matplotlib.figure.Figure at 0x19aa558ee10>"
      ]
     },
     "metadata": {},
     "output_type": "display_data"
    }
   ],
   "source": [
    "sns.violinplot(data=train['Age'])\n",
    "sns.boxplot(data=train['Age'], showbox=False, width=0.25).set_xticklabels(['Age'])"
   ]
  },
  {
   "cell_type": "markdown",
   "metadata": {},
   "source": [
    "The Age variable has a min of 0.42 years and a max of 80.  Both of these values seem reasonable.  The distribution of ages is slightly bimodal.  There appear to have been more children on the ship than elderly people.  The mean age is slightly below 30."
   ]
  },
  {
   "cell_type": "code",
   "execution_count": 7,
   "metadata": {
    "collapsed": false,
    "scrolled": true
   },
   "outputs": [
    {
     "data": {
      "text/plain": [
       "<matplotlib.axes._subplots.AxesSubplot at 0x19aa9e410f0>"
      ]
     },
     "execution_count": 7,
     "metadata": {},
     "output_type": "execute_result"
    },
    {
     "data": {
      "image/png": "[encoded data removed]",
      "text/plain": [
       "<matplotlib.figure.Figure at 0x19aa65bbf98>"
      ]
     },
     "metadata": {},
     "output_type": "display_data"
    }
   ],
   "source": [
    "sns.violinplot(data=train[['SibSp','Parch']])\n",
    "sns.boxplot(data=train[['SibSp','Parch']], showbox=False, width=0.25)"
   ]
  },
  {
   "cell_type": "markdown",
   "metadata": {},
   "source": [
    "The SibSp and Parch variables are both extremely right-tailed.  We will most likely want to use a transform on these variables if they are going to be included in models that assume a normal distribution.  The bulk of the records have values of 0 for SibSp and Parch.  The maximum value for SibSp is 8 and the max for Parch is 6."
   ]
  },
  {
   "cell_type": "code",
   "execution_count": 8,
   "metadata": {
    "collapsed": false
   },
   "outputs": [
    {
     "data": {
      "text/plain": [
       "[Text(0,0,'Fare')]"
      ]
     },
     "execution_count": 8,
     "metadata": {},
     "output_type": "execute_result"
    },
    {
     "data": {
      "image/png": "[encoded data removed]",
      "text/plain": [
       "<matplotlib.figure.Figure at 0x19aa9e595f8>"
      ]
     },
     "metadata": {},
     "output_type": "display_data"
    }
   ],
   "source": [
    "sns.violinplot(data=train['Fare'])\n",
    "sns.boxplot(data=train['Fare'], showbox=False, width=0.25).set_xticklabels(['Fare'])"
   ]
  },
  {
   "cell_type": "markdown",
   "metadata": {},
   "source": [
    "The Fare variable is also somewhat skewed.  If you look closely though, it appears that the distribution is fairly normal, but being skewed by a few severe outliers.  We will need to investigate these outliers and try to determine if they are valid."
   ]
  },
  {
   "cell_type": "code",
   "execution_count": 9,
   "metadata": {
    "collapsed": false
   },
   "outputs": [
    {
     "data": {
      "text/html": [
       "<div>\n",
       "<style scoped>\n",
       "    .dataframe tbody tr th:only-of-type {\n",
       "        vertical-align: middle;\n",
       "    }\n",
       "\n",
       "    .dataframe tbody tr th {\n",
       "        vertical-align: top;\n",
       "    }\n",
       "\n",
       "    .dataframe thead th {\n",
       "        text-align: right;\n",
       "    }\n",
       "</style>\n",
       "<table border=\"1\" class=\"dataframe\">\n",
       "  <thead>\n",
       "    <tr style=\"text-align: right;\">\n",
       "      <th></th>\n",
       "      <th>PassengerId</th>\n",
       "      <th>Survived</th>\n",
       "      <th>Pclass</th>\n",
       "      <th>Name</th>\n",
       "      <th>Sex</th>\n",
       "      <th>Age</th>\n",
       "      <th>SibSp</th>\n",
       "      <th>Parch</th>\n",
       "      <th>Ticket</th>\n",
       "      <th>Fare</th>\n",
       "      <th>Cabin</th>\n",
       "      <th>Embarked</th>\n",
       "    </tr>\n",
       "  </thead>\n",
       "  <tbody>\n",
       "    <tr>\n",
       "      <th>258</th>\n",
       "      <td>259</td>\n",
       "      <td>1</td>\n",
       "      <td>1</td>\n",
       "      <td>Ward, Miss. Anna</td>\n",
       "      <td>female</td>\n",
       "      <td>35.0</td>\n",
       "      <td>0</td>\n",
       "      <td>0</td>\n",
       "      <td>PC 17755</td>\n",
       "      <td>512.3292</td>\n",
       "      <td>NaN</td>\n",
       "      <td>C</td>\n",
       "    </tr>\n",
       "    <tr>\n",
       "      <th>737</th>\n",
       "      <td>738</td>\n",
       "      <td>1</td>\n",
       "      <td>1</td>\n",
       "      <td>Lesurer, Mr. Gustave J</td>\n",
       "      <td>male</td>\n",
       "      <td>35.0</td>\n",
       "      <td>0</td>\n",
       "      <td>0</td>\n",
       "      <td>PC 17755</td>\n",
       "      <td>512.3292</td>\n",
       "      <td>B101</td>\n",
       "      <td>C</td>\n",
       "    </tr>\n",
       "    <tr>\n",
       "      <th>679</th>\n",
       "      <td>680</td>\n",
       "      <td>1</td>\n",
       "      <td>1</td>\n",
       "      <td>Cardeza, Mr. Thomas Drake Martinez</td>\n",
       "      <td>male</td>\n",
       "      <td>36.0</td>\n",
       "      <td>0</td>\n",
       "      <td>1</td>\n",
       "      <td>PC 17755</td>\n",
       "      <td>512.3292</td>\n",
       "      <td>B51 B53 B55</td>\n",
       "      <td>C</td>\n",
       "    </tr>\n",
       "    <tr>\n",
       "      <th>88</th>\n",
       "      <td>89</td>\n",
       "      <td>1</td>\n",
       "      <td>1</td>\n",
       "      <td>Fortune, Miss. Mabel Helen</td>\n",
       "      <td>female</td>\n",
       "      <td>23.0</td>\n",
       "      <td>3</td>\n",
       "      <td>2</td>\n",
       "      <td>19950</td>\n",
       "      <td>263.0000</td>\n",
       "      <td>C23 C25 C27</td>\n",
       "      <td>S</td>\n",
       "    </tr>\n",
       "    <tr>\n",
       "      <th>27</th>\n",
       "      <td>28</td>\n",
       "      <td>0</td>\n",
       "      <td>1</td>\n",
       "      <td>Fortune, Mr. Charles Alexander</td>\n",
       "      <td>male</td>\n",
       "      <td>19.0</td>\n",
       "      <td>3</td>\n",
       "      <td>2</td>\n",
       "      <td>19950</td>\n",
       "      <td>263.0000</td>\n",
       "      <td>C23 C25 C27</td>\n",
       "      <td>S</td>\n",
       "    </tr>\n",
       "    <tr>\n",
       "      <th>341</th>\n",
       "      <td>342</td>\n",
       "      <td>1</td>\n",
       "      <td>1</td>\n",
       "      <td>Fortune, Miss. Alice Elizabeth</td>\n",
       "      <td>female</td>\n",
       "      <td>24.0</td>\n",
       "      <td>3</td>\n",
       "      <td>2</td>\n",
       "      <td>19950</td>\n",
       "      <td>263.0000</td>\n",
       "      <td>C23 C25 C27</td>\n",
       "      <td>S</td>\n",
       "    </tr>\n",
       "    <tr>\n",
       "      <th>438</th>\n",
       "      <td>439</td>\n",
       "      <td>0</td>\n",
       "      <td>1</td>\n",
       "      <td>Fortune, Mr. Mark</td>\n",
       "      <td>male</td>\n",
       "      <td>64.0</td>\n",
       "      <td>1</td>\n",
       "      <td>4</td>\n",
       "      <td>19950</td>\n",
       "      <td>263.0000</td>\n",
       "      <td>C23 C25 C27</td>\n",
       "      <td>S</td>\n",
       "    </tr>\n",
       "    <tr>\n",
       "      <th>311</th>\n",
       "      <td>312</td>\n",
       "      <td>1</td>\n",
       "      <td>1</td>\n",
       "      <td>Ryerson, Miss. Emily Borie</td>\n",
       "      <td>female</td>\n",
       "      <td>18.0</td>\n",
       "      <td>2</td>\n",
       "      <td>2</td>\n",
       "      <td>PC 17608</td>\n",
       "      <td>262.3750</td>\n",
       "      <td>B57 B59 B63 B66</td>\n",
       "      <td>C</td>\n",
       "    </tr>\n",
       "    <tr>\n",
       "      <th>742</th>\n",
       "      <td>743</td>\n",
       "      <td>1</td>\n",
       "      <td>1</td>\n",
       "      <td>Ryerson, Miss. Susan Parker \"Suzette\"</td>\n",
       "      <td>female</td>\n",
       "      <td>21.0</td>\n",
       "      <td>2</td>\n",
       "      <td>2</td>\n",
       "      <td>PC 17608</td>\n",
       "      <td>262.3750</td>\n",
       "      <td>B57 B59 B63 B66</td>\n",
       "      <td>C</td>\n",
       "    </tr>\n",
       "    <tr>\n",
       "      <th>118</th>\n",
       "      <td>119</td>\n",
       "      <td>0</td>\n",
       "      <td>1</td>\n",
       "      <td>Baxter, Mr. Quigg Edmond</td>\n",
       "      <td>male</td>\n",
       "      <td>24.0</td>\n",
       "      <td>0</td>\n",
       "      <td>1</td>\n",
       "      <td>PC 17558</td>\n",
       "      <td>247.5208</td>\n",
       "      <td>B58 B60</td>\n",
       "      <td>C</td>\n",
       "    </tr>\n",
       "    <tr>\n",
       "      <th>299</th>\n",
       "      <td>300</td>\n",
       "      <td>1</td>\n",
       "      <td>1</td>\n",
       "      <td>Baxter, Mrs. James (Helene DeLaudeniere Chaput)</td>\n",
       "      <td>female</td>\n",
       "      <td>50.0</td>\n",
       "      <td>0</td>\n",
       "      <td>1</td>\n",
       "      <td>PC 17558</td>\n",
       "      <td>247.5208</td>\n",
       "      <td>B58 B60</td>\n",
       "      <td>C</td>\n",
       "    </tr>\n",
       "    <tr>\n",
       "      <th>557</th>\n",
       "      <td>558</td>\n",
       "      <td>0</td>\n",
       "      <td>1</td>\n",
       "      <td>Robbins, Mr. Victor</td>\n",
       "      <td>male</td>\n",
       "      <td>NaN</td>\n",
       "      <td>0</td>\n",
       "      <td>0</td>\n",
       "      <td>PC 17757</td>\n",
       "      <td>227.5250</td>\n",
       "      <td>NaN</td>\n",
       "      <td>C</td>\n",
       "    </tr>\n",
       "    <tr>\n",
       "      <th>700</th>\n",
       "      <td>701</td>\n",
       "      <td>1</td>\n",
       "      <td>1</td>\n",
       "      <td>Astor, Mrs. John Jacob (Madeleine Talmadge Force)</td>\n",
       "      <td>female</td>\n",
       "      <td>18.0</td>\n",
       "      <td>1</td>\n",
       "      <td>0</td>\n",
       "      <td>PC 17757</td>\n",
       "      <td>227.5250</td>\n",
       "      <td>C62 C64</td>\n",
       "      <td>C</td>\n",
       "    </tr>\n",
       "    <tr>\n",
       "      <th>380</th>\n",
       "      <td>381</td>\n",
       "      <td>1</td>\n",
       "      <td>1</td>\n",
       "      <td>Bidois, Miss. Rosalie</td>\n",
       "      <td>female</td>\n",
       "      <td>42.0</td>\n",
       "      <td>0</td>\n",
       "      <td>0</td>\n",
       "      <td>PC 17757</td>\n",
       "      <td>227.5250</td>\n",
       "      <td>NaN</td>\n",
       "      <td>C</td>\n",
       "    </tr>\n",
       "    <tr>\n",
       "      <th>716</th>\n",
       "      <td>717</td>\n",
       "      <td>1</td>\n",
       "      <td>1</td>\n",
       "      <td>Endres, Miss. Caroline Louise</td>\n",
       "      <td>female</td>\n",
       "      <td>38.0</td>\n",
       "      <td>0</td>\n",
       "      <td>0</td>\n",
       "      <td>PC 17757</td>\n",
       "      <td>227.5250</td>\n",
       "      <td>C45</td>\n",
       "      <td>C</td>\n",
       "    </tr>\n",
       "  </tbody>\n",
       "</table>\n",
       "</div>"
      ],
      "text/plain": [
       "     PassengerId  Survived  Pclass  \\\n",
       "258          259         1       1   \n",
       "737          738         1       1   \n",
       "679          680         1       1   \n",
       "88            89         1       1   \n",
       "27            28         0       1   \n",
       "341          342         1       1   \n",
       "438          439         0       1   \n",
       "311          312         1       1   \n",
       "742          743         1       1   \n",
       "118          119         0       1   \n",
       "299          300         1       1   \n",
       "557          558         0       1   \n",
       "700          701         1       1   \n",
       "380          381         1       1   \n",
       "716          717         1       1   \n",
       "\n",
       "                                                  Name     Sex   Age  SibSp  \\\n",
       "258                                   Ward, Miss. Anna  female  35.0      0   \n",
       "737                             Lesurer, Mr. Gustave J    male  35.0      0   \n",
       "679                 Cardeza, Mr. Thomas Drake Martinez    male  36.0      0   \n",
       "88                          Fortune, Miss. Mabel Helen  female  23.0      3   \n",
       "27                      Fortune, Mr. Charles Alexander    male  19.0      3   \n",
       "341                     Fortune, Miss. Alice Elizabeth  female  24.0      3   \n",
       "438                                  Fortune, Mr. Mark    male  64.0      1   \n",
       "311                         Ryerson, Miss. Emily Borie  female  18.0      2   \n",
       "742              Ryerson, Miss. Susan Parker \"Suzette\"  female  21.0      2   \n",
       "118                           Baxter, Mr. Quigg Edmond    male  24.0      0   \n",
       "299    Baxter, Mrs. James (Helene DeLaudeniere Chaput)  female  50.0      0   \n",
       "557                                Robbins, Mr. Victor    male   NaN      0   \n",
       "700  Astor, Mrs. John Jacob (Madeleine Talmadge Force)  female  18.0      1   \n",
       "380                              Bidois, Miss. Rosalie  female  42.0      0   \n",
       "716                      Endres, Miss. Caroline Louise  female  38.0      0   \n",
       "\n",
       "     Parch    Ticket      Fare            Cabin Embarked  \n",
       "258      0  PC 17755  512.3292              NaN        C  \n",
       "737      0  PC 17755  512.3292             B101        C  \n",
       "679      1  PC 17755  512.3292      B51 B53 B55        C  \n",
       "88       2     19950  263.0000      C23 C25 C27        S  \n",
       "27       2     19950  263.0000      C23 C25 C27        S  \n",
       "341      2     19950  263.0000      C23 C25 C27        S  \n",
       "438      4     19950  263.0000      C23 C25 C27        S  \n",
       "311      2  PC 17608  262.3750  B57 B59 B63 B66        C  \n",
       "742      2  PC 17608  262.3750  B57 B59 B63 B66        C  \n",
       "118      1  PC 17558  247.5208          B58 B60        C  \n",
       "299      1  PC 17558  247.5208          B58 B60        C  \n",
       "557      0  PC 17757  227.5250              NaN        C  \n",
       "700      0  PC 17757  227.5250          C62 C64        C  \n",
       "380      0  PC 17757  227.5250              NaN        C  \n",
       "716      0  PC 17757  227.5250              C45        C  "
      ]
     },
     "execution_count": 9,
     "metadata": {},
     "output_type": "execute_result"
    }
   ],
   "source": [
    "train.sort_values('Fare',ascending=False).head(15)"
   ]
  },
  {
   "cell_type": "markdown",
   "metadata": {},
   "source": [
    "Upon further inspection, we can see that most of these outlier fares occur multiple times with more than one person having the same ticket number.  We can try to create a new feature for the individual fare, which would just be the fare divided by the number of people.  However, this method is flawed, because there are most likely instances where some of a party's members are in the training set and some are in the test set.  In order to deal with this issue, we will get a count of ticket numbers from both sets and use that to determine individual fare.  \n",
    "\n",
    "Let's take a closer look at the values in the Ticket column before calculating these counts though."
   ]
  },
  {
   "cell_type": "code",
   "execution_count": 10,
   "metadata": {
    "collapsed": false
   },
   "outputs": [
    {
     "data": {
      "text/plain": [
       "array(['A/5 21171', 'PC 17599', 'STON/O2. 3101282', '113803', '373450',\n",
       "       '330877', '17463', '349909', '347742', '237736', 'PP 9549',\n",
       "       '113783', 'A/5. 2151', '347082', '350406', '248706', '382652',\n",
       "       '244373', '345763', '2649', '239865', '248698', '330923', '113788',\n",
       "       '347077', '2631', '19950', '330959', '349216', 'PC 17601',\n",
       "       'PC 17569', '335677', 'C.A. 24579', 'PC 17604', '113789', '2677',\n",
       "       'A./5. 2152', '345764', '2651', '7546', '11668', '349253',\n",
       "       'SC/Paris 2123', '330958', 'S.C./A.4. 23567', '370371', '14311',\n",
       "       '2662', '349237', '3101295', 'A/4. 39886', 'PC 17572', '2926',\n",
       "       '113509', '19947', 'C.A. 31026', '2697', 'C.A. 34651', 'CA 2144',\n",
       "       '2669', '113572', '36973', '347088', 'PC 17605', '2661',\n",
       "       'C.A. 29395', 'S.P. 3464', '3101281', '315151', 'C.A. 33111',\n",
       "       'S.O.C. 14879', '2680', '1601', '348123', '349208', '374746',\n",
       "       '248738', '364516', '345767', '345779', '330932', '113059',\n",
       "       'SO/C 14885', '3101278', 'W./C. 6608', 'SOTON/OQ 392086', '343275',\n",
       "       '343276', '347466', 'W.E.P. 5734', 'C.A. 2315', '364500', '374910',\n",
       "       'PC 17754', 'PC 17759', '231919', '244367', '349245', '349215',\n",
       "       '35281', '7540', '3101276', '349207', '343120', '312991', '349249',\n",
       "       '371110', '110465', '2665', '324669', '4136', '2627',\n",
       "       'STON/O 2. 3101294', '370369', 'PC 17558', 'A4. 54510', '27267',\n",
       "       '370372', 'C 17369', '2668', '347061', '349241',\n",
       "       'SOTON/O.Q. 3101307', 'A/5. 3337', '228414', 'C.A. 29178',\n",
       "       'SC/PARIS 2133', '11752', '7534', 'PC 17593', '2678', '347081',\n",
       "       'STON/O2. 3101279', '365222', '231945', 'C.A. 33112', '350043',\n",
       "       '230080', '244310', 'S.O.P. 1166', '113776', 'A.5. 11206',\n",
       "       'A/5. 851', 'Fa 265302', 'PC 17597', '35851', 'SOTON/OQ 392090',\n",
       "       '315037', 'CA. 2343', '371362', 'C.A. 33595', '347068', '315093',\n",
       "       '363291', '113505', 'PC 17318', '111240', 'STON/O 2. 3101280',\n",
       "       '17764', '350404', '4133', 'PC 17595', '250653', 'LINE',\n",
       "       'SC/PARIS 2131', '230136', '315153', '113767', '370365', '111428',\n",
       "       '364849', '349247', '234604', '28424', '350046', 'PC 17610',\n",
       "       '368703', '4579', '370370', '248747', '345770', '3101264', '2628',\n",
       "       'A/5 3540', '347054', '2699', '367231', '112277',\n",
       "       'SOTON/O.Q. 3101311', 'F.C.C. 13528', 'A/5 21174', '250646',\n",
       "       '367229', '35273', 'STON/O2. 3101283', '243847', '11813',\n",
       "       'W/C 14208', 'SOTON/OQ 392089', '220367', '21440', '349234',\n",
       "       '19943', 'PP 4348', 'SW/PP 751', 'A/5 21173', '236171', '347067',\n",
       "       '237442', 'C.A. 29566', 'W./C. 6609', '26707', 'C.A. 31921',\n",
       "       '28665', 'SCO/W 1585', '367230', 'W./C. 14263', 'STON/O 2. 3101275',\n",
       "       '2694', '19928', '347071', '250649', '11751', '244252', '362316',\n",
       "       '113514', 'A/5. 3336', '370129', '2650', 'PC 17585', '110152',\n",
       "       'PC 17755', '230433', '384461', '110413', '112059', '382649',\n",
       "       'C.A. 17248', '347083', 'PC 17582', 'PC 17760', '113798', '250644',\n",
       "       'PC 17596', '370375', '13502', '347073', '239853', 'C.A. 2673',\n",
       "       '336439', '347464', '345778', 'A/5. 10482', '113056', '349239',\n",
       "       '345774', '349206', '237798', '370373', '19877', '11967',\n",
       "       'SC/Paris 2163', '349236', '349233', 'PC 17612', '2693', '113781',\n",
       "       '19988', '9234', '367226', '226593', 'A/5 2466', '17421',\n",
       "       'PC 17758', 'P/PP 3381', 'PC 17485', '11767', 'PC 17608', '250651',\n",
       "       '349243', 'F.C.C. 13529', '347470', '29011', '36928', '16966',\n",
       "       'A/5 21172', '349219', '234818', '345364', '28551', '111361',\n",
       "       '113043', 'PC 17611', '349225', '7598', '113784', '248740',\n",
       "       '244361', '229236', '248733', '31418', '386525', 'C.A. 37671',\n",
       "       '315088', '7267', '113510', '2695', '2647', '345783', '237671',\n",
       "       '330931', '330980', 'SC/PARIS 2167', '2691', 'SOTON/O.Q. 3101310',\n",
       "       'C 7076', '110813', '2626', '14313', 'PC 17477', '11765', '3101267',\n",
       "       '323951', 'C 7077', '113503', '2648', '347069', 'PC 17757', '2653',\n",
       "       'STON/O 2. 3101293', '349227', '27849', '367655', 'SC 1748',\n",
       "       '113760', '350034', '3101277', '350052', '350407', '28403',\n",
       "       '244278', '240929', 'STON/O 2. 3101289', '341826', '4137', '315096',\n",
       "       '28664', '347064', '29106', '312992', '349222', '394140',\n",
       "       'STON/O 2. 3101269', '343095', '28220', '250652', '28228', '345773',\n",
       "       '349254', 'A/5. 13032', '315082', '347080', 'A/4. 34244', '2003',\n",
       "       '250655', '364851', 'SOTON/O.Q. 392078', '110564', '376564',\n",
       "       'SC/AH 3085', 'STON/O 2. 3101274', '13507', 'C.A. 18723', '345769',\n",
       "       '347076', '230434', '65306', '33638', '113794', '2666', '113786',\n",
       "       '65303', '113051', '17453', 'A/5 2817', '349240', '13509', '17464',\n",
       "       'F.C.C. 13531', '371060', '19952', '364506', '111320', '234360',\n",
       "       'A/S 2816', 'SOTON/O.Q. 3101306', '113792', '36209', '323592',\n",
       "       '315089', 'SC/AH Basle 541', '7553', '31027', '3460', '350060',\n",
       "       '3101298', '239854', 'A/5 3594', '4134', '11771', 'A.5. 18509',\n",
       "       '65304', 'SOTON/OQ 3101317', '113787', 'PC 17609', 'A/4 45380',\n",
       "       '36947', 'C.A. 6212', '350035', '315086', '364846', '330909',\n",
       "       '4135', '26360', '111427', 'C 4001', '382651', 'SOTON/OQ 3101316',\n",
       "       'PC 17473', 'PC 17603', '349209', '36967', 'C.A. 34260', '226875',\n",
       "       '349242', '12749', '349252', '2624', '2700', '367232',\n",
       "       'W./C. 14258', 'PC 17483', '3101296', '29104', '2641', '2690',\n",
       "       '315084', '113050', 'PC 17761', '364498', '13568', 'WE/P 5735',\n",
       "       '2908', '693', 'SC/PARIS 2146', '244358', '330979', '2620',\n",
       "       '347085', '113807', '11755', '345572', '372622', '349251', '218629',\n",
       "       'SOTON/OQ 392082', 'SOTON/O.Q. 392087', 'A/4 48871', '349205',\n",
       "       '2686', '350417', 'S.W./PP 752', '11769', 'PC 17474', '14312',\n",
       "       'A/4. 20589', '358585', '243880', '2689', 'STON/O 2. 3101286',\n",
       "       '237789', '13049', '3411', '237565', '13567', '14973', 'A./5. 3235',\n",
       "       'STON/O 2. 3101273', 'A/5 3902', '364848', 'SC/AH 29037', '248727',\n",
       "       '2664', '349214', '113796', '364511', '111426', '349910', '349246',\n",
       "       '113804', 'SOTON/O.Q. 3101305', '370377', '364512', '220845',\n",
       "       '31028', '2659', '11753', '350029', '54636', '36963', '219533',\n",
       "       '349224', '334912', '27042', '347743', '13214', '112052', '237668',\n",
       "       'STON/O 2. 3101292', '350050', '349231', '13213', 'S.O./P.P. 751',\n",
       "       'CA. 2314', '349221', '8475', '330919', '365226', '349223', '29751',\n",
       "       '2623', '5727', '349210', 'STON/O 2. 3101285', '234686', '312993',\n",
       "       'A/5 3536', '19996', '29750', 'F.C. 12750', 'C.A. 24580', '244270',\n",
       "       '239856', '349912', '342826', '4138', '330935', '6563', '349228',\n",
       "       '350036', '24160', '17474', '349256', '2672', '113800', '248731',\n",
       "       '363592', '35852', '348121', 'PC 17475', '36864', '350025',\n",
       "       '223596', 'PC 17476', 'PC 17482', '113028', '7545', '250647',\n",
       "       '348124', '34218', '36568', '347062', '350048', '12233', '250643',\n",
       "       '113806', '315094', '36866', '236853', 'STON/O2. 3101271', '239855',\n",
       "       '28425', '233639', '349201', '349218', '16988', '376566',\n",
       "       'STON/O 2. 3101288', '250648', '113773', '335097', '29103',\n",
       "       '392096', '345780', '349204', '350042', '29108', '363294',\n",
       "       'SOTON/O2 3101272', '2663', '347074', '112379', '364850', '8471',\n",
       "       '345781', '350047', 'S.O./P.P. 3', '2674', '29105', '347078',\n",
       "       '383121', '36865', '2687', '113501', 'W./C. 6607',\n",
       "       'SOTON/O.Q. 3101312', '374887', '3101265', '12460', 'PC 17600',\n",
       "       '349203', '28213', '17465', '349244', '2685', '2625', '347089',\n",
       "       '347063', '112050', '347087', '248723', '3474', '28206', '364499',\n",
       "       '112058', 'STON/O2. 3101290', 'S.C./PARIS 2079', 'C 7075', '315098',\n",
       "       '19972', '368323', '367228', '2671', '347468', '2223', 'PC 17756',\n",
       "       '315097', '392092', '11774', 'SOTON/O2 3101287', '2683', '315090',\n",
       "       'C.A. 5547', '349213', '347060', 'PC 17592', '392091', '113055',\n",
       "       '2629', '350026', '28134', '17466', '233866', '236852',\n",
       "       'SC/PARIS 2149', 'PC 17590', '345777', '349248', '695', '345765',\n",
       "       '2667', '349212', '349217', '349257', '7552', 'C.A./SOTON 34068',\n",
       "       'SOTON/OQ 392076', '211536', '112053', '111369', '370376'], dtype=object)"
      ]
     },
     "execution_count": 10,
     "metadata": {},
     "output_type": "execute_result"
    }
   ],
   "source": [
    "train['Ticket'].unique()"
   ]
  },
  {
   "cell_type": "markdown",
   "metadata": {},
   "source": [
    "We can see that the prefixes for some ticket numbers are not always formatted the same way.  For example, there are values that start with 'CA', 'CA.', and 'C.A.'.  There are also prefixes with different cases.  For example, there are tickets with prefixes of 'SC/PARIS' and also 'SC/Paris'.  In order to deal with these cases, we will write a function to remove all punction and whitespace and convert all letters to upper case.  We will also create duplicate dataframes for the test and train sets in order to leave the originals in tact."
   ]
  },
  {
   "cell_type": "code",
   "execution_count": 11,
   "metadata": {
    "collapsed": true
   },
   "outputs": [],
   "source": [
    "import re, string\n",
    "\n",
    "def clean_ticket(ticket):\n",
    "    ticket = ticket.upper()\n",
    "    ticket = ''.join(ticket.split())\n",
    "    ticket = ''.join(ticket.split(string.punctuation))\n",
    "    \n",
    "    regex = re.compile('[%s]' % re.escape(string.punctuation))\n",
    "    ticket = regex.sub('', ticket)\n",
    "    \n",
    "    return ticket"
   ]
  },
  {
   "cell_type": "code",
   "execution_count": 12,
   "metadata": {
    "collapsed": false
   },
   "outputs": [
    {
     "data": {
      "text/plain": [
       "array(['A521171', 'PC17599', 'STONO23101282', '113803', '373450', '330877',\n",
       "       '17463', '349909', '347742', '237736', 'PP9549', '113783', 'A52151',\n",
       "       '347082', '350406', '248706', '382652', '244373', '345763', '2649',\n",
       "       '239865', '248698', '330923', '113788', '347077', '2631', '19950',\n",
       "       '330959', '349216', 'PC17601', 'PC17569', '335677', 'CA24579',\n",
       "       'PC17604', '113789', '2677', 'A52152', '345764', '2651', '7546',\n",
       "       '11668', '349253', 'SCPARIS2123', '330958', 'SCA423567', '370371',\n",
       "       '14311', '2662', '349237', '3101295', 'A439886', 'PC17572', '2926',\n",
       "       '113509', '19947', 'CA31026', '2697', 'CA34651', 'CA2144', '2669',\n",
       "       '113572', '36973', '347088', 'PC17605', '2661', 'CA29395', 'SP3464',\n",
       "       '3101281', '315151', 'CA33111', 'SOC14879', '2680', '1601',\n",
       "       '348123', '349208', '374746', '248738', '364516', '345767',\n",
       "       '345779', '330932', '113059', 'SOC14885', '3101278', 'WC6608',\n",
       "       'SOTONOQ392086', '343275', '343276', '347466', 'WEP5734', 'CA2315',\n",
       "       '364500', '374910', 'PC17754', 'PC17759', '231919', '244367',\n",
       "       '349245', '349215', '35281', '7540', '3101276', '349207', '343120',\n",
       "       '312991', '349249', '371110', '110465', '2665', '324669', '4136',\n",
       "       '2627', 'STONO23101294', '370369', 'PC17558', 'A454510', '27267',\n",
       "       '370372', 'C17369', '2668', '347061', '349241', 'SOTONOQ3101307',\n",
       "       'A53337', '228414', 'CA29178', 'SCPARIS2133', '11752', '7534',\n",
       "       'PC17593', '2678', '347081', 'STONO23101279', '365222', '231945',\n",
       "       'CA33112', '350043', '230080', '244310', 'SOP1166', '113776',\n",
       "       'A511206', 'A5851', 'FA265302', 'PC17597', '35851', 'SOTONOQ392090',\n",
       "       '315037', 'CA2343', '371362', 'CA33595', '347068', '315093',\n",
       "       '363291', '113505', 'PC17318', '111240', 'STONO23101280', '17764',\n",
       "       '350404', '4133', 'PC17595', '250653', 'LINE', 'SCPARIS2131',\n",
       "       '230136', '315153', '113767', '370365', '111428', '364849',\n",
       "       '349247', '234604', '28424', '350046', 'PC17610', '368703', '4579',\n",
       "       '370370', '248747', '345770', '3101264', '2628', 'A53540', '347054',\n",
       "       '2699', '367231', '112277', 'SOTONOQ3101311', 'FCC13528', 'A521174',\n",
       "       '250646', '367229', '35273', 'STONO23101283', '243847', '11813',\n",
       "       'WC14208', 'SOTONOQ392089', '220367', '21440', '349234', '19943',\n",
       "       'PP4348', 'SWPP751', 'A521173', '236171', '347067', '237442',\n",
       "       'CA29566', 'WC6609', '26707', 'CA31921', '28665', 'SCOW1585',\n",
       "       '367230', 'WC14263', 'STONO23101275', '2694', '19928', '347071',\n",
       "       '250649', '11751', '244252', '362316', '113514', 'A53336', '370129',\n",
       "       '2650', 'PC17585', '110152', 'PC17755', '230433', '384461',\n",
       "       '110413', '112059', '382649', 'CA17248', '347083', 'PC17582',\n",
       "       'PC17760', '113798', '250644', 'PC17596', '370375', '13502',\n",
       "       '347073', '239853', 'CA2673', '336439', '347464', '345778',\n",
       "       'A510482', '113056', '349239', '345774', '349206', '237798',\n",
       "       '370373', '19877', '11967', 'SCPARIS2163', '349236', '349233',\n",
       "       'PC17612', '2693', '113781', '19988', '9234', '367226', '226593',\n",
       "       'A52466', '17421', 'PC17758', 'PPP3381', 'PC17485', '11767',\n",
       "       'PC17608', '250651', '349243', 'FCC13529', '347470', '29011',\n",
       "       '36928', '16966', 'A521172', '349219', '234818', '345364', '28551',\n",
       "       '111361', '113043', 'PC17611', '349225', '7598', '113784', '248740',\n",
       "       '244361', '229236', '248733', '31418', '386525', 'CA37671',\n",
       "       '315088', '7267', '113510', '2695', '2647', '345783', '237671',\n",
       "       '330931', '330980', 'SCPARIS2167', '2691', 'SOTONOQ3101310',\n",
       "       'C7076', '110813', '2626', '14313', 'PC17477', '11765', '3101267',\n",
       "       '323951', 'C7077', '113503', '2648', '347069', 'PC17757', '2653',\n",
       "       'STONO23101293', '349227', '27849', '367655', 'SC1748', '113760',\n",
       "       '350034', '3101277', '350052', '350407', '28403', '244278',\n",
       "       '240929', 'STONO23101289', '341826', '4137', '315096', '28664',\n",
       "       '347064', '29106', '312992', '349222', '394140', 'STONO23101269',\n",
       "       '343095', '28220', '250652', '28228', '345773', '349254', 'A513032',\n",
       "       '315082', '347080', 'A434244', '2003', '250655', '364851',\n",
       "       'SOTONOQ392078', '110564', '376564', 'SCAH3085', 'STONO23101274',\n",
       "       '13507', 'CA18723', '345769', '347076', '230434', '65306', '33638',\n",
       "       '113794', '2666', '113786', '65303', '113051', '17453', 'A52817',\n",
       "       '349240', '13509', '17464', 'FCC13531', '371060', '19952', '364506',\n",
       "       '111320', '234360', 'AS2816', 'SOTONOQ3101306', '113792', '36209',\n",
       "       '323592', '315089', 'SCAHBASLE541', '7553', '31027', '3460',\n",
       "       '350060', '3101298', '239854', 'A53594', '4134', '11771', 'A518509',\n",
       "       '65304', 'SOTONOQ3101317', '113787', 'PC17609', 'A445380', '36947',\n",
       "       'CA6212', '350035', '315086', '364846', '330909', '4135', '26360',\n",
       "       '111427', 'C4001', '382651', 'SOTONOQ3101316', 'PC17473', 'PC17603',\n",
       "       '349209', '36967', 'CA34260', '226875', '349242', '12749', '349252',\n",
       "       '2624', '2700', '367232', 'WC14258', 'PC17483', '3101296', '29104',\n",
       "       '2641', '2690', '315084', '113050', 'PC17761', '364498', '13568',\n",
       "       'WEP5735', '2908', '693', 'SCPARIS2146', '244358', '330979', '2620',\n",
       "       '347085', '113807', '11755', '345572', '372622', '349251', '218629',\n",
       "       'SOTONOQ392082', 'SOTONOQ392087', 'A448871', '349205', '2686',\n",
       "       '350417', 'SWPP752', '11769', 'PC17474', '14312', 'A420589',\n",
       "       '358585', '243880', '2689', 'STONO23101286', '237789', '13049',\n",
       "       '3411', '237565', '13567', '14973', 'A53235', 'STONO23101273',\n",
       "       'A53902', '364848', 'SCAH29037', '248727', '2664', '349214',\n",
       "       '113796', '364511', '111426', '349910', '349246', '113804',\n",
       "       'SOTONOQ3101305', '370377', '364512', '220845', '31028', '2659',\n",
       "       '11753', '350029', '54636', '36963', '219533', '349224', '334912',\n",
       "       '27042', '347743', '13214', '112052', '237668', 'STONO23101292',\n",
       "       '350050', '349231', '13213', 'SOPP751', 'CA2314', '349221', '8475',\n",
       "       '330919', '365226', '349223', '29751', '2623', '5727', '349210',\n",
       "       'STONO23101285', '234686', '312993', 'A53536', '19996', '29750',\n",
       "       'FC12750', 'CA24580', '244270', '239856', '349912', '342826',\n",
       "       '4138', '330935', '6563', '349228', '350036', '24160', '17474',\n",
       "       '349256', '2672', '113800', '248731', '363592', '35852', '348121',\n",
       "       'PC17475', '36864', '350025', '223596', 'PC17476', 'PC17482',\n",
       "       '113028', '7545', '250647', '348124', '34218', '36568', '347062',\n",
       "       '350048', '12233', '250643', '113806', '315094', '36866', '236853',\n",
       "       'STONO23101271', '239855', '28425', '233639', '349201', '349218',\n",
       "       '16988', '376566', 'STONO23101288', '250648', '113773', '335097',\n",
       "       '29103', '392096', '345780', '349204', '350042', '29108', '363294',\n",
       "       'SOTONO23101272', '2663', '347074', '112379', '364850', '8471',\n",
       "       '345781', '350047', 'SOPP3', '2674', '29105', '347078', '383121',\n",
       "       '36865', '2687', '113501', 'WC6607', 'SOTONOQ3101312', '374887',\n",
       "       '3101265', '12460', 'PC17600', '349203', '28213', '17465', '349244',\n",
       "       '2685', '2625', '347089', '347063', '112050', '347087', '248723',\n",
       "       '3474', '28206', '364499', '112058', 'STONO23101290', 'SCPARIS2079',\n",
       "       'C7075', '315098', '19972', '368323', '367228', '2671', '347468',\n",
       "       '2223', 'PC17756', '315097', '392092', '11774', 'SOTONO23101287',\n",
       "       '2683', '315090', 'CA5547', '349213', '347060', 'PC17592', '392091',\n",
       "       '113055', '2629', '350026', '28134', '17466', '233866', '236852',\n",
       "       'SCPARIS2149', 'PC17590', '345777', '349248', '695', '345765',\n",
       "       '2667', '349212', '349217', '349257', '7552', 'CASOTON34068',\n",
       "       'SOTONOQ392076', '211536', '112053', '111369', '370376'], dtype=object)"
      ]
     },
     "execution_count": 12,
     "metadata": {},
     "output_type": "execute_result"
    }
   ],
   "source": [
    "# Create duplicate dataframes in order to leave the original data in tact\n",
    "df_train = train.copy()\n",
    "df_test = test.copy()\n",
    "\n",
    "# Create a new column with the clean versions of the ticket values\n",
    "df_train['clean_ticket'] = df_train['Ticket'].apply(clean_ticket)\n",
    "df_test['clean_ticket'] = df_test['Ticket'].apply(clean_ticket)\n",
    "\n",
    "df_train['clean_ticket'].unique()"
   ]
  },
  {
   "cell_type": "markdown",
   "metadata": {},
   "source": [
    "The new 'clean_ticket' column now contains the ticket numbers in all caps with no punctuation marks or whitespace.  Now we can generate the counts for each ticket number.  We will do this by creating a new vector containing the clean_ticket values from both the train and test sets and then create a dictinary of the value counts for that vector.  We will then divide the fare for each passenger by their corresponding value in that dictionary and sotre the result in a new column called 'ind_fare.'"
   ]
  },
  {
   "cell_type": "code",
   "execution_count": 13,
   "metadata": {
    "collapsed": false
   },
   "outputs": [],
   "source": [
    "df_ticket = df_train['clean_ticket'].append(df_test['clean_ticket'])\n",
    "ticket_counts = dict(df_ticket.value_counts())\n",
    "\n",
    "def divide_fare(fare, ticket, lookup):\n",
    "    try:\n",
    "        return fare / lookup[ticket]\n",
    "    except:\n",
    "        return fare\n",
    "    \n",
    "df_train['ind_fare'] = df_train.apply(lambda x: divide_fare(x['Fare'], x['clean_ticket'], ticket_counts), axis=1)\n",
    "df_test['ind_fare'] = df_test.apply(lambda x: divide_fare(x['Fare'], x['clean_ticket'], ticket_counts), axis=1)"
   ]
  },
  {
   "cell_type": "markdown",
   "metadata": {},
   "source": [
    "Now, let's look at the distribution for the new ind_fare column."
   ]
  },
  {
   "cell_type": "code",
   "execution_count": 14,
   "metadata": {
    "collapsed": false
   },
   "outputs": [
    {
     "data": {
      "text/plain": [
       "[Text(0,0,'ind_fare')]"
      ]
     },
     "execution_count": 14,
     "metadata": {},
     "output_type": "execute_result"
    },
    {
     "data": {
      "image/png": "[encoded data removed]",
      "text/plain": [
       "<matplotlib.figure.Figure at 0x19aa9ff90f0>"
      ]
     },
     "metadata": {},
     "output_type": "display_data"
    }
   ],
   "source": [
    "sns.violinplot(data=df_train['ind_fare'])\n",
    "sns.boxplot(data=df_train['ind_fare'], showbox=False, width=0.25).set_xticklabels(['ind_fare'])"
   ]
  },
  {
   "cell_type": "markdown",
   "metadata": {},
   "source": [
    "The values have come down quite a bit, but we still have some outliers.  Let's look a little closer at those and see if we've missed something."
   ]
  },
  {
   "cell_type": "code",
   "execution_count": 15,
   "metadata": {
    "collapsed": false
   },
   "outputs": [
    {
     "data": {
      "text/html": [
       "<div>\n",
       "<style scoped>\n",
       "    .dataframe tbody tr th:only-of-type {\n",
       "        vertical-align: middle;\n",
       "    }\n",
       "\n",
       "    .dataframe tbody tr th {\n",
       "        vertical-align: top;\n",
       "    }\n",
       "\n",
       "    .dataframe thead th {\n",
       "        text-align: right;\n",
       "    }\n",
       "</style>\n",
       "<table border=\"1\" class=\"dataframe\">\n",
       "  <thead>\n",
       "    <tr style=\"text-align: right;\">\n",
       "      <th></th>\n",
       "      <th>PassengerId</th>\n",
       "      <th>Survived</th>\n",
       "      <th>Pclass</th>\n",
       "      <th>Name</th>\n",
       "      <th>Sex</th>\n",
       "      <th>Age</th>\n",
       "      <th>SibSp</th>\n",
       "      <th>Parch</th>\n",
       "      <th>Ticket</th>\n",
       "      <th>Fare</th>\n",
       "      <th>Cabin</th>\n",
       "      <th>Embarked</th>\n",
       "      <th>clean_ticket</th>\n",
       "      <th>ind_fare</th>\n",
       "    </tr>\n",
       "  </thead>\n",
       "  <tbody>\n",
       "    <tr>\n",
       "      <th>679</th>\n",
       "      <td>680</td>\n",
       "      <td>1</td>\n",
       "      <td>1</td>\n",
       "      <td>Cardeza, Mr. Thomas Drake Martinez</td>\n",
       "      <td>male</td>\n",
       "      <td>36.0</td>\n",
       "      <td>0</td>\n",
       "      <td>1</td>\n",
       "      <td>PC 17755</td>\n",
       "      <td>512.3292</td>\n",
       "      <td>B51 B53 B55</td>\n",
       "      <td>C</td>\n",
       "      <td>PC17755</td>\n",
       "      <td>128.082300</td>\n",
       "    </tr>\n",
       "    <tr>\n",
       "      <th>737</th>\n",
       "      <td>738</td>\n",
       "      <td>1</td>\n",
       "      <td>1</td>\n",
       "      <td>Lesurer, Mr. Gustave J</td>\n",
       "      <td>male</td>\n",
       "      <td>35.0</td>\n",
       "      <td>0</td>\n",
       "      <td>0</td>\n",
       "      <td>PC 17755</td>\n",
       "      <td>512.3292</td>\n",
       "      <td>B101</td>\n",
       "      <td>C</td>\n",
       "      <td>PC17755</td>\n",
       "      <td>128.082300</td>\n",
       "    </tr>\n",
       "    <tr>\n",
       "      <th>258</th>\n",
       "      <td>259</td>\n",
       "      <td>1</td>\n",
       "      <td>1</td>\n",
       "      <td>Ward, Miss. Anna</td>\n",
       "      <td>female</td>\n",
       "      <td>35.0</td>\n",
       "      <td>0</td>\n",
       "      <td>0</td>\n",
       "      <td>PC 17755</td>\n",
       "      <td>512.3292</td>\n",
       "      <td>NaN</td>\n",
       "      <td>C</td>\n",
       "      <td>PC17755</td>\n",
       "      <td>128.082300</td>\n",
       "    </tr>\n",
       "    <tr>\n",
       "      <th>118</th>\n",
       "      <td>119</td>\n",
       "      <td>0</td>\n",
       "      <td>1</td>\n",
       "      <td>Baxter, Mr. Quigg Edmond</td>\n",
       "      <td>male</td>\n",
       "      <td>24.0</td>\n",
       "      <td>0</td>\n",
       "      <td>1</td>\n",
       "      <td>PC 17558</td>\n",
       "      <td>247.5208</td>\n",
       "      <td>B58 B60</td>\n",
       "      <td>C</td>\n",
       "      <td>PC17558</td>\n",
       "      <td>82.506933</td>\n",
       "    </tr>\n",
       "    <tr>\n",
       "      <th>299</th>\n",
       "      <td>300</td>\n",
       "      <td>1</td>\n",
       "      <td>1</td>\n",
       "      <td>Baxter, Mrs. James (Helene DeLaudeniere Chaput)</td>\n",
       "      <td>female</td>\n",
       "      <td>50.0</td>\n",
       "      <td>0</td>\n",
       "      <td>1</td>\n",
       "      <td>PC 17558</td>\n",
       "      <td>247.5208</td>\n",
       "      <td>B58 B60</td>\n",
       "      <td>C</td>\n",
       "      <td>PC17558</td>\n",
       "      <td>82.506933</td>\n",
       "    </tr>\n",
       "    <tr>\n",
       "      <th>660</th>\n",
       "      <td>661</td>\n",
       "      <td>1</td>\n",
       "      <td>1</td>\n",
       "      <td>Frauenthal, Dr. Henry William</td>\n",
       "      <td>male</td>\n",
       "      <td>50.0</td>\n",
       "      <td>2</td>\n",
       "      <td>0</td>\n",
       "      <td>PC 17611</td>\n",
       "      <td>133.6500</td>\n",
       "      <td>NaN</td>\n",
       "      <td>S</td>\n",
       "      <td>PC17611</td>\n",
       "      <td>66.825000</td>\n",
       "    </tr>\n",
       "    <tr>\n",
       "      <th>334</th>\n",
       "      <td>335</td>\n",
       "      <td>1</td>\n",
       "      <td>1</td>\n",
       "      <td>Frauenthal, Mrs. Henry William (Clara Heinshei...</td>\n",
       "      <td>female</td>\n",
       "      <td>NaN</td>\n",
       "      <td>1</td>\n",
       "      <td>0</td>\n",
       "      <td>PC 17611</td>\n",
       "      <td>133.6500</td>\n",
       "      <td>NaN</td>\n",
       "      <td>S</td>\n",
       "      <td>PC17611</td>\n",
       "      <td>66.825000</td>\n",
       "    </tr>\n",
       "    <tr>\n",
       "      <th>527</th>\n",
       "      <td>528</td>\n",
       "      <td>0</td>\n",
       "      <td>1</td>\n",
       "      <td>Farthing, Mr. John</td>\n",
       "      <td>male</td>\n",
       "      <td>NaN</td>\n",
       "      <td>0</td>\n",
       "      <td>0</td>\n",
       "      <td>PC 17483</td>\n",
       "      <td>221.7792</td>\n",
       "      <td>C95</td>\n",
       "      <td>S</td>\n",
       "      <td>PC17483</td>\n",
       "      <td>55.444800</td>\n",
       "    </tr>\n",
       "    <tr>\n",
       "      <th>730</th>\n",
       "      <td>731</td>\n",
       "      <td>1</td>\n",
       "      <td>1</td>\n",
       "      <td>Allen, Miss. Elisabeth Walton</td>\n",
       "      <td>female</td>\n",
       "      <td>29.0</td>\n",
       "      <td>0</td>\n",
       "      <td>0</td>\n",
       "      <td>24160</td>\n",
       "      <td>211.3375</td>\n",
       "      <td>B5</td>\n",
       "      <td>S</td>\n",
       "      <td>24160</td>\n",
       "      <td>52.834375</td>\n",
       "    </tr>\n",
       "    <tr>\n",
       "      <th>689</th>\n",
       "      <td>690</td>\n",
       "      <td>1</td>\n",
       "      <td>1</td>\n",
       "      <td>Madill, Miss. Georgette Alexandra</td>\n",
       "      <td>female</td>\n",
       "      <td>15.0</td>\n",
       "      <td>0</td>\n",
       "      <td>1</td>\n",
       "      <td>24160</td>\n",
       "      <td>211.3375</td>\n",
       "      <td>B5</td>\n",
       "      <td>S</td>\n",
       "      <td>24160</td>\n",
       "      <td>52.834375</td>\n",
       "    </tr>\n",
       "    <tr>\n",
       "      <th>779</th>\n",
       "      <td>780</td>\n",
       "      <td>1</td>\n",
       "      <td>1</td>\n",
       "      <td>Robert, Mrs. Edward Scott (Elisabeth Walton Mc...</td>\n",
       "      <td>female</td>\n",
       "      <td>43.0</td>\n",
       "      <td>0</td>\n",
       "      <td>1</td>\n",
       "      <td>24160</td>\n",
       "      <td>211.3375</td>\n",
       "      <td>B3</td>\n",
       "      <td>S</td>\n",
       "      <td>24160</td>\n",
       "      <td>52.834375</td>\n",
       "    </tr>\n",
       "    <tr>\n",
       "      <th>268</th>\n",
       "      <td>269</td>\n",
       "      <td>1</td>\n",
       "      <td>1</td>\n",
       "      <td>Graham, Mrs. William Thompson (Edith Junkins)</td>\n",
       "      <td>female</td>\n",
       "      <td>58.0</td>\n",
       "      <td>0</td>\n",
       "      <td>1</td>\n",
       "      <td>PC 17582</td>\n",
       "      <td>153.4625</td>\n",
       "      <td>C125</td>\n",
       "      <td>S</td>\n",
       "      <td>PC17582</td>\n",
       "      <td>51.154167</td>\n",
       "    </tr>\n",
       "    <tr>\n",
       "      <th>609</th>\n",
       "      <td>610</td>\n",
       "      <td>1</td>\n",
       "      <td>1</td>\n",
       "      <td>Shutes, Miss. Elizabeth W</td>\n",
       "      <td>female</td>\n",
       "      <td>40.0</td>\n",
       "      <td>0</td>\n",
       "      <td>0</td>\n",
       "      <td>PC 17582</td>\n",
       "      <td>153.4625</td>\n",
       "      <td>C125</td>\n",
       "      <td>S</td>\n",
       "      <td>PC17582</td>\n",
       "      <td>51.154167</td>\n",
       "    </tr>\n",
       "    <tr>\n",
       "      <th>332</th>\n",
       "      <td>333</td>\n",
       "      <td>0</td>\n",
       "      <td>1</td>\n",
       "      <td>Graham, Mr. George Edward</td>\n",
       "      <td>male</td>\n",
       "      <td>38.0</td>\n",
       "      <td>0</td>\n",
       "      <td>1</td>\n",
       "      <td>PC 17582</td>\n",
       "      <td>153.4625</td>\n",
       "      <td>C91</td>\n",
       "      <td>S</td>\n",
       "      <td>PC17582</td>\n",
       "      <td>51.154167</td>\n",
       "    </tr>\n",
       "    <tr>\n",
       "      <th>867</th>\n",
       "      <td>868</td>\n",
       "      <td>0</td>\n",
       "      <td>1</td>\n",
       "      <td>Roebling, Mr. Washington Augustus II</td>\n",
       "      <td>male</td>\n",
       "      <td>31.0</td>\n",
       "      <td>0</td>\n",
       "      <td>0</td>\n",
       "      <td>PC 17590</td>\n",
       "      <td>50.4958</td>\n",
       "      <td>A24</td>\n",
       "      <td>S</td>\n",
       "      <td>PC17590</td>\n",
       "      <td>50.495800</td>\n",
       "    </tr>\n",
       "  </tbody>\n",
       "</table>\n",
       "</div>"
      ],
      "text/plain": [
       "     PassengerId  Survived  Pclass  \\\n",
       "679          680         1       1   \n",
       "737          738         1       1   \n",
       "258          259         1       1   \n",
       "118          119         0       1   \n",
       "299          300         1       1   \n",
       "660          661         1       1   \n",
       "334          335         1       1   \n",
       "527          528         0       1   \n",
       "730          731         1       1   \n",
       "689          690         1       1   \n",
       "779          780         1       1   \n",
       "268          269         1       1   \n",
       "609          610         1       1   \n",
       "332          333         0       1   \n",
       "867          868         0       1   \n",
       "\n",
       "                                                  Name     Sex   Age  SibSp  \\\n",
       "679                 Cardeza, Mr. Thomas Drake Martinez    male  36.0      0   \n",
       "737                             Lesurer, Mr. Gustave J    male  35.0      0   \n",
       "258                                   Ward, Miss. Anna  female  35.0      0   \n",
       "118                           Baxter, Mr. Quigg Edmond    male  24.0      0   \n",
       "299    Baxter, Mrs. James (Helene DeLaudeniere Chaput)  female  50.0      0   \n",
       "660                      Frauenthal, Dr. Henry William    male  50.0      2   \n",
       "334  Frauenthal, Mrs. Henry William (Clara Heinshei...  female   NaN      1   \n",
       "527                                 Farthing, Mr. John    male   NaN      0   \n",
       "730                      Allen, Miss. Elisabeth Walton  female  29.0      0   \n",
       "689                  Madill, Miss. Georgette Alexandra  female  15.0      0   \n",
       "779  Robert, Mrs. Edward Scott (Elisabeth Walton Mc...  female  43.0      0   \n",
       "268      Graham, Mrs. William Thompson (Edith Junkins)  female  58.0      0   \n",
       "609                          Shutes, Miss. Elizabeth W  female  40.0      0   \n",
       "332                          Graham, Mr. George Edward    male  38.0      0   \n",
       "867               Roebling, Mr. Washington Augustus II    male  31.0      0   \n",
       "\n",
       "     Parch    Ticket      Fare        Cabin Embarked clean_ticket    ind_fare  \n",
       "679      1  PC 17755  512.3292  B51 B53 B55        C      PC17755  128.082300  \n",
       "737      0  PC 17755  512.3292         B101        C      PC17755  128.082300  \n",
       "258      0  PC 17755  512.3292          NaN        C      PC17755  128.082300  \n",
       "118      1  PC 17558  247.5208      B58 B60        C      PC17558   82.506933  \n",
       "299      1  PC 17558  247.5208      B58 B60        C      PC17558   82.506933  \n",
       "660      0  PC 17611  133.6500          NaN        S      PC17611   66.825000  \n",
       "334      0  PC 17611  133.6500          NaN        S      PC17611   66.825000  \n",
       "527      0  PC 17483  221.7792          C95        S      PC17483   55.444800  \n",
       "730      0     24160  211.3375           B5        S        24160   52.834375  \n",
       "689      1     24160  211.3375           B5        S        24160   52.834375  \n",
       "779      1     24160  211.3375           B3        S        24160   52.834375  \n",
       "268      1  PC 17582  153.4625         C125        S      PC17582   51.154167  \n",
       "609      0  PC 17582  153.4625         C125        S      PC17582   51.154167  \n",
       "332      1  PC 17582  153.4625          C91        S      PC17582   51.154167  \n",
       "867      0  PC 17590   50.4958          A24        S      PC17590   50.495800  "
      ]
     },
     "execution_count": 15,
     "metadata": {},
     "output_type": "execute_result"
    }
   ],
   "source": [
    "df_train.sort_values('ind_fare',ascending=False).head(15)"
   ]
  },
  {
   "cell_type": "markdown",
   "metadata": {},
   "source": [
    "The max value for individual fare is \\$128.  This equates to about $3130 in 2017 dollars.  While fairly pricey, this does not seem inconceivable for first class accommodations on the maiden voyage of a luxury cruise ship. Since we can not find a valid reason to modify or remove these outliers, we will keep them in the dataset."
   ]
  },
  {
   "cell_type": "markdown",
   "metadata": {},
   "source": [
    "<a id='2.1.2'></a>\n",
    "#### 2.1.2 Categorical Variables"
   ]
  },
  {
   "cell_type": "code",
   "execution_count": 16,
   "metadata": {
    "collapsed": false
   },
   "outputs": [
    {
     "data": {
      "text/html": [
       "<div>\n",
       "<style scoped>\n",
       "    .dataframe tbody tr th:only-of-type {\n",
       "        vertical-align: middle;\n",
       "    }\n",
       "\n",
       "    .dataframe tbody tr th {\n",
       "        vertical-align: top;\n",
       "    }\n",
       "\n",
       "    .dataframe thead th {\n",
       "        text-align: right;\n",
       "    }\n",
       "</style>\n",
       "<table border=\"1\" class=\"dataframe\">\n",
       "  <thead>\n",
       "    <tr style=\"text-align: right;\">\n",
       "      <th>col_0</th>\n",
       "      <th>count</th>\n",
       "    </tr>\n",
       "    <tr>\n",
       "      <th>Survived</th>\n",
       "      <th></th>\n",
       "    </tr>\n",
       "  </thead>\n",
       "  <tbody>\n",
       "    <tr>\n",
       "      <th>0</th>\n",
       "      <td>549</td>\n",
       "    </tr>\n",
       "    <tr>\n",
       "      <th>1</th>\n",
       "      <td>342</td>\n",
       "    </tr>\n",
       "  </tbody>\n",
       "</table>\n",
       "</div>"
      ],
      "text/plain": [
       "col_0     count\n",
       "Survived       \n",
       "0           549\n",
       "1           342"
      ]
     },
     "execution_count": 16,
     "metadata": {},
     "output_type": "execute_result"
    }
   ],
   "source": [
    "pd.crosstab(index=df_train['Survived'],columns='count')"
   ]
  },
  {
   "cell_type": "code",
   "execution_count": 17,
   "metadata": {
    "collapsed": false
   },
   "outputs": [
    {
     "data": {
      "text/plain": [
       "<matplotlib.axes._subplots.AxesSubplot at 0x19aaa39f0f0>"
      ]
     },
     "execution_count": 17,
     "metadata": {},
     "output_type": "execute_result"
    },
    {
     "data": {
      "image/png": "[encoded data removed]",
      "text/plain": [
       "<matplotlib.figure.Figure at 0x19aaa37f048>"
      ]
     },
     "metadata": {},
     "output_type": "display_data"
    }
   ],
   "source": [
    "sns.countplot(x='Survived',data=df_train)"
   ]
  },
  {
   "cell_type": "markdown",
   "metadata": {
    "collapsed": true
   },
   "source": [
    "We can see that the counts of people who survived and people who died are not distributed evenly.  About two thirds of the passengers in the training data set died.  We will need to take this into consideration later on when we are contructing our models."
   ]
  },
  {
   "cell_type": "code",
   "execution_count": 18,
   "metadata": {
    "collapsed": false
   },
   "outputs": [
    {
     "data": {
      "text/html": [
       "<div>\n",
       "<style scoped>\n",
       "    .dataframe tbody tr th:only-of-type {\n",
       "        vertical-align: middle;\n",
       "    }\n",
       "\n",
       "    .dataframe tbody tr th {\n",
       "        vertical-align: top;\n",
       "    }\n",
       "\n",
       "    .dataframe thead th {\n",
       "        text-align: right;\n",
       "    }\n",
       "</style>\n",
       "<table border=\"1\" class=\"dataframe\">\n",
       "  <thead>\n",
       "    <tr style=\"text-align: right;\">\n",
       "      <th>col_0</th>\n",
       "      <th>count</th>\n",
       "    </tr>\n",
       "    <tr>\n",
       "      <th>Pclass</th>\n",
       "      <th></th>\n",
       "    </tr>\n",
       "  </thead>\n",
       "  <tbody>\n",
       "    <tr>\n",
       "      <th>1</th>\n",
       "      <td>216</td>\n",
       "    </tr>\n",
       "    <tr>\n",
       "      <th>2</th>\n",
       "      <td>184</td>\n",
       "    </tr>\n",
       "    <tr>\n",
       "      <th>3</th>\n",
       "      <td>491</td>\n",
       "    </tr>\n",
       "  </tbody>\n",
       "</table>\n",
       "</div>"
      ],
      "text/plain": [
       "col_0   count\n",
       "Pclass       \n",
       "1         216\n",
       "2         184\n",
       "3         491"
      ]
     },
     "execution_count": 18,
     "metadata": {},
     "output_type": "execute_result"
    }
   ],
   "source": [
    "pd.crosstab(index=df_train['Pclass'],columns='count')"
   ]
  },
  {
   "cell_type": "code",
   "execution_count": 19,
   "metadata": {
    "collapsed": false
   },
   "outputs": [
    {
     "data": {
      "text/plain": [
       "<matplotlib.axes._subplots.AxesSubplot at 0x19aaa3c9fd0>"
      ]
     },
     "execution_count": 19,
     "metadata": {},
     "output_type": "execute_result"
    },
    {
     "data": {
      "image/png": "[encoded data removed]",
      "text/plain": [
       "<matplotlib.figure.Figure at 0x19aa9fb4588>"
      ]
     },
     "metadata": {},
     "output_type": "display_data"
    }
   ],
   "source": [
    "sns.countplot(x='Pclass',data=df_train)"
   ]
  },
  {
   "cell_type": "markdown",
   "metadata": {
    "collapsed": true
   },
   "source": [
    "A little more than half of the passengers had third class accommodations.  Somewhat surprisingly, there were more first class passengers than second class in the training set."
   ]
  },
  {
   "cell_type": "code",
   "execution_count": 20,
   "metadata": {
    "collapsed": false
   },
   "outputs": [
    {
     "data": {
      "text/html": [
       "<div>\n",
       "<style scoped>\n",
       "    .dataframe tbody tr th:only-of-type {\n",
       "        vertical-align: middle;\n",
       "    }\n",
       "\n",
       "    .dataframe tbody tr th {\n",
       "        vertical-align: top;\n",
       "    }\n",
       "\n",
       "    .dataframe thead th {\n",
       "        text-align: right;\n",
       "    }\n",
       "</style>\n",
       "<table border=\"1\" class=\"dataframe\">\n",
       "  <thead>\n",
       "    <tr style=\"text-align: right;\">\n",
       "      <th>col_0</th>\n",
       "      <th>count</th>\n",
       "    </tr>\n",
       "    <tr>\n",
       "      <th>Sex</th>\n",
       "      <th></th>\n",
       "    </tr>\n",
       "  </thead>\n",
       "  <tbody>\n",
       "    <tr>\n",
       "      <th>female</th>\n",
       "      <td>314</td>\n",
       "    </tr>\n",
       "    <tr>\n",
       "      <th>male</th>\n",
       "      <td>577</td>\n",
       "    </tr>\n",
       "  </tbody>\n",
       "</table>\n",
       "</div>"
      ],
      "text/plain": [
       "col_0   count\n",
       "Sex          \n",
       "female    314\n",
       "male      577"
      ]
     },
     "execution_count": 20,
     "metadata": {},
     "output_type": "execute_result"
    }
   ],
   "source": [
    "pd.crosstab(index=df_train['Sex'],columns='count')"
   ]
  },
  {
   "cell_type": "code",
   "execution_count": 21,
   "metadata": {
    "collapsed": false
   },
   "outputs": [
    {
     "data": {
      "text/plain": [
       "<matplotlib.axes._subplots.AxesSubplot at 0x19aaa42bb70>"
      ]
     },
     "execution_count": 21,
     "metadata": {},
     "output_type": "execute_result"
    },
    {
     "data": {
      "image/png": "[encoded data removed]",
      "text/plain": [
       "<matplotlib.figure.Figure at 0x19aaa402a90>"
      ]
     },
     "metadata": {},
     "output_type": "display_data"
    }
   ],
   "source": [
    "sns.countplot(x='Sex',data=df_train)"
   ]
  },
  {
   "cell_type": "markdown",
   "metadata": {
    "collapsed": true
   },
   "source": [
    "Interestingly, there are twice as many male passengers as female passengers in the training data."
   ]
  },
  {
   "cell_type": "code",
   "execution_count": 22,
   "metadata": {
    "collapsed": false
   },
   "outputs": [
    {
     "data": {
      "text/html": [
       "<div>\n",
       "<style scoped>\n",
       "    .dataframe tbody tr th:only-of-type {\n",
       "        vertical-align: middle;\n",
       "    }\n",
       "\n",
       "    .dataframe tbody tr th {\n",
       "        vertical-align: top;\n",
       "    }\n",
       "\n",
       "    .dataframe thead th {\n",
       "        text-align: right;\n",
       "    }\n",
       "</style>\n",
       "<table border=\"1\" class=\"dataframe\">\n",
       "  <thead>\n",
       "    <tr style=\"text-align: right;\">\n",
       "      <th>col_0</th>\n",
       "      <th>count</th>\n",
       "    </tr>\n",
       "    <tr>\n",
       "      <th>Embarked</th>\n",
       "      <th></th>\n",
       "    </tr>\n",
       "  </thead>\n",
       "  <tbody>\n",
       "    <tr>\n",
       "      <th>C</th>\n",
       "      <td>168</td>\n",
       "    </tr>\n",
       "    <tr>\n",
       "      <th>Q</th>\n",
       "      <td>77</td>\n",
       "    </tr>\n",
       "    <tr>\n",
       "      <th>S</th>\n",
       "      <td>644</td>\n",
       "    </tr>\n",
       "  </tbody>\n",
       "</table>\n",
       "</div>"
      ],
      "text/plain": [
       "col_0     count\n",
       "Embarked       \n",
       "C           168\n",
       "Q            77\n",
       "S           644"
      ]
     },
     "execution_count": 22,
     "metadata": {},
     "output_type": "execute_result"
    }
   ],
   "source": [
    "pd.crosstab(index=df_train['Embarked'],columns='count')"
   ]
  },
  {
   "cell_type": "code",
   "execution_count": 23,
   "metadata": {
    "collapsed": false
   },
   "outputs": [
    {
     "data": {
      "text/plain": [
       "<matplotlib.axes._subplots.AxesSubplot at 0x19aaa42ef28>"
      ]
     },
     "execution_count": 23,
     "metadata": {},
     "output_type": "execute_result"
    },
    {
     "data": {
      "image/png": "[encoded data removed]",
      "text/plain": [
       "<matplotlib.figure.Figure at 0x19aaa412860>"
      ]
     },
     "metadata": {},
     "output_type": "display_data"
    }
   ],
   "source": [
    "sns.countplot(x='Embarked',data=df_train)"
   ]
  },
  {
   "cell_type": "markdown",
   "metadata": {},
   "source": [
    "The vast majority of the passengers embarked at the origin port of Southampton.  Of the remaining passengers, the number of passengers who boarded in Cherbourg was about twice as many as those who boarded in Queenstown."
   ]
  },
  {
   "cell_type": "markdown",
   "metadata": {},
   "source": [
    "<a id='2.2'></a>\n",
    "### 2.2 Bivariate Analysis"
   ]
  },
  {
   "cell_type": "markdown",
   "metadata": {},
   "source": [
    "Next, we'll plot a correlation matrix of the training data to see if any of the features are correlated with each other."
   ]
  },
  {
   "cell_type": "code",
   "execution_count": 24,
   "metadata": {
    "collapsed": false
   },
   "outputs": [
    {
     "data": {
      "text/plain": [
       "<matplotlib.axes._subplots.AxesSubplot at 0x19aaa498a20>"
      ]
     },
     "execution_count": 24,
     "metadata": {},
     "output_type": "execute_result"
    },
    {
     "data": {
      "image/png": "[encoded data removed]",
      "text/plain": [
       "<matplotlib.figure.Figure at 0x19aaa4635c0>"
      ]
     },
     "metadata": {},
     "output_type": "display_data"
    }
   ],
   "source": [
    "# Set the style for the plot\n",
    "sns.set_style('white')\n",
    "\n",
    "# Compute the correlation matrix\n",
    "corr = df_train.corr()\n",
    "\n",
    "# Generate a mask for the upper triangle\n",
    "mask = np.zeros_like(corr, dtype=np.bool)\n",
    "mask[np.triu_indices_from(mask)] = True\n",
    "\n",
    "# Set up the matplotlib figure\n",
    "f, ax = plt.subplots(figsize=(11, 9))\n",
    "\n",
    "# Generate a custom diverging colormap\n",
    "cmap = sns.diverging_palette(220, 10, as_cmap=True)\n",
    "\n",
    "# Draw the heatmap with the mask and correct aspect ratio\n",
    "sns.heatmap(corr, mask=mask, cmap=cmap, vmax=0.3, center=0,\n",
    "           square=True, linewidth=0.5, cbar_kws={'shrink': 0.5})"
   ]
  },
  {
   "cell_type": "code",
   "execution_count": 25,
   "metadata": {
    "collapsed": false
   },
   "outputs": [
    {
     "name": "stdout",
     "output_type": "stream",
     "text": [
      "             PassengerId  Survived    Pclass       Age     SibSp     Parch  \\\n",
      "PassengerId     1.000000 -0.005007 -0.035144  0.036847 -0.057527 -0.001652   \n",
      "Survived       -0.005007  1.000000 -0.338481 -0.077221 -0.035322  0.081629   \n",
      "Pclass         -0.035144 -0.338481  1.000000 -0.369226  0.083081  0.018443   \n",
      "Age             0.036847 -0.077221 -0.369226  1.000000 -0.308247 -0.189119   \n",
      "SibSp          -0.057527 -0.035322  0.083081 -0.308247  1.000000  0.414838   \n",
      "Parch          -0.001652  0.081629  0.018443 -0.189119  0.414838  1.000000   \n",
      "Fare            0.012658  0.257307 -0.549500  0.096067  0.159651  0.216225   \n",
      "ind_fare        0.006161  0.288337 -0.762981  0.313085 -0.073529 -0.036442   \n",
      "\n",
      "                 Fare  ind_fare  \n",
      "PassengerId  0.012658  0.006161  \n",
      "Survived     0.257307  0.288337  \n",
      "Pclass      -0.549500 -0.762981  \n",
      "Age          0.096067  0.313085  \n",
      "SibSp        0.159651 -0.073529  \n",
      "Parch        0.216225 -0.036442  \n",
      "Fare         1.000000  0.827073  \n",
      "ind_fare     0.827073  1.000000  \n"
     ]
    }
   ],
   "source": [
    "print(corr)"
   ]
  },
  {
   "cell_type": "markdown",
   "metadata": {
    "collapsed": true
   },
   "source": [
    "On first glance, it looks like Pclass and Fare have a strong negative correlation.  This makes sense, given that higher class tickets generally cost more.  Both of these variables are also positively correlated with Survival.  The Survivl correlation is slightly stronger with Pclass than with Fare though.\n",
    "\n",
    "Parch has a strong correlation with SibSp.  This lso makes sense, given that most people with children on board were most likely also traveling with a spouse.  \n",
    "\n",
    "There is also a slight negative correlation between SibSp and Age.  This is most likely due to the fact the majority of people with siblings on board were probably children.  \n",
    "\n",
    "There is a negative correlation between Age and Pclass as well.  Maybe larger families weren't able to spring for fancy accommodations.  \n",
    "\n",
    "Obviously, there is also an extremely strong correlation between the Fare and ind_fare variables, because they contain essentially the same data.  We will only be using one of these variables in our models (most likely ind_fare).\n",
    "\n",
    "Let's dig into all of this a little further and look at some additional relationships as well."
   ]
  },
  {
   "cell_type": "markdown",
   "metadata": {},
   "source": [
    "<a id='2.2.1'></a>\n",
    "#### 2.2.1 Continuous Variables vs. Continuous Variables"
   ]
  },
  {
   "cell_type": "markdown",
   "metadata": {},
   "source": [
    "First, let's compare just the continuous variables with each other (and the dependant variable)."
   ]
  },
  {
   "cell_type": "code",
   "execution_count": 26,
   "metadata": {
    "collapsed": false
   },
   "outputs": [
    {
     "name": "stderr",
     "output_type": "stream",
     "text": [
      "C:\\Users\\xzach\\Anaconda3\\lib\\site-packages\\statsmodels\\nonparametric\\kde.py:454: RuntimeWarning: invalid value encountered in greater\n",
      "  X = X[np.logical_and(X>clip[0], X<clip[1])] # won't work for two columns.\n",
      "C:\\Users\\xzach\\Anaconda3\\lib\\site-packages\\statsmodels\\nonparametric\\kde.py:454: RuntimeWarning: invalid value encountered in less\n",
      "  X = X[np.logical_and(X>clip[0], X<clip[1])] # won't work for two columns.\n"
     ]
    },
    {
     "data": {
      "text/plain": [
       "<seaborn.axisgrid.PairGrid at 0x19aaa4639b0>"
      ]
     },
     "execution_count": 26,
     "metadata": {},
     "output_type": "execute_result"
    },
    {
     "data": {
      "image/png": "[encoded data removed]",
      "text/plain": [
       "<matplotlib.figure.Figure at 0x19aaa463198>"
      ]
     },
     "metadata": {},
     "output_type": "display_data"
    }
   ],
   "source": [
    "sns.set_style('darkgrid')\n",
    "\n",
    "sns.pairplot(df_train,\n",
    "             x_vars=['Age','SibSp','Parch','ind_fare'],\n",
    "             y_vars=['Age','SibSp','Parch','ind_fare'],\n",
    "             hue='Survived',\n",
    "             diag_kind='kde')"
   ]
  },
  {
   "cell_type": "code",
   "execution_count": 27,
   "metadata": {
    "collapsed": false
   },
   "outputs": [
    {
     "name": "stdout",
     "output_type": "stream",
     "text": [
      "               Age     SibSp     Parch  ind_fare  Survived\n",
      "Age       1.000000 -0.308247 -0.189119  0.313085 -0.077221\n",
      "SibSp    -0.308247  1.000000  0.414838 -0.073529 -0.035322\n",
      "Parch    -0.189119  0.414838  1.000000 -0.036442  0.081629\n",
      "ind_fare  0.313085 -0.073529 -0.036442  1.000000  0.288337\n",
      "Survived -0.077221 -0.035322  0.081629  0.288337  1.000000\n"
     ]
    }
   ],
   "source": [
    "# Create correlation matrix for continuous variables\n",
    "corr = df_train[['Age','SibSp','Parch','ind_fare','Survived']].corr()\n",
    "print(corr)"
   ]
  },
  {
   "cell_type": "markdown",
   "metadata": {},
   "source": [
    "We can see the correlation between Parch and SibSp, as passengers with higher nubers of parents and children tend to have either 1 or 2 siblings or spouses on board.  \n",
    "\n",
    "We can also see the strong negative correlation between SibSp and Age.  This could be accounted for by lots of children having siblings on board.  \n",
    "\n",
    "One interesting thing that stands out is the relationship between the number of parents and children with the Survival rate.  Most people with zero parents or children on board survived, but there are large spikes in deaths for people with one or two parents and children on board.  \n",
    "\n",
    "We can also see a relationship between Survival rate and fare.  It appears that the vast majority of deaths occurred among people who paid low fares.  When the individual fare gets above about $10, the relationship between fare and survival appears to weaken."
   ]
  },
  {
   "cell_type": "markdown",
   "metadata": {},
   "source": [
    "<a id='2.2.2'></a>\n",
    "#### 2.2.2 Categorical Variables vs. Categorical Variables"
   ]
  },
  {
   "cell_type": "markdown",
   "metadata": {
    "collapsed": true
   },
   "source": [
    "Next, we'll run some comparisons between categorical variables.  First let's take an overall view of all the categorical variables we're going to examine.  We want to look at the independant variables Embarked, Pclass, and Sex, as well as the dependant variable Survived.  Let's start out by running the Chi-squared test for independence for each pair of categorical variables"
   ]
  },
  {
   "cell_type": "code",
   "execution_count": 28,
   "metadata": {
    "collapsed": true
   },
   "outputs": [],
   "source": [
    "from scipy import stats"
   ]
  },
  {
   "cell_type": "code",
   "execution_count": 29,
   "metadata": {
    "collapsed": false
   },
   "outputs": [
    {
     "name": "stdout",
     "output_type": "stream",
     "text": [
      "Embarked vs. Survived\n",
      "---------------------\n",
      "Chi-squared Test Statistic: 26.4891498392\n",
      "P-value: 1.76992228412e-06\n",
      "Degrees of Freedom: 2\n",
      "\n",
      "\n",
      "Pclass vs. Survived\n",
      "---------------------\n",
      "Chi-squared Test Statistic: 102.888988757\n",
      "P-value: 4.5492517113e-23\n",
      "Degrees of Freedom: 2\n",
      "\n",
      "\n",
      "Sex vs. Survived\n",
      "---------------------\n",
      "Chi-squared Test Statistic: 260.717020167\n",
      "P-value: 1.19735706278e-58\n",
      "Degrees of Freedom: 1\n",
      "\n",
      "\n"
     ]
    }
   ],
   "source": [
    "def print_chi2(df, col1, col2):\n",
    "    obs = pd.crosstab(df[col1], df[col2])\n",
    "\n",
    "    chi2, p, dof, expected = stats.chi2_contingency(obs)\n",
    "\n",
    "    print('%s vs. %s' % (col1, col2))\n",
    "    print('---------------------')\n",
    "    print('Chi-squared Test Statistic: %s' % chi2)\n",
    "    print('P-value: %s' % p)\n",
    "    print('Degrees of Freedom: %s\\n\\n' % dof)\n",
    "    \n",
    "print_chi2(df_train, 'Embarked', 'Survived')\n",
    "print_chi2(df_train, 'Pclass', 'Survived')\n",
    "print_chi2(df_train, 'Sex', 'Survived')"
   ]
  },
  {
   "cell_type": "markdown",
   "metadata": {},
   "source": [
    "We can see that each of the three categorical variables has a statistically significant relationship with survival rate, as they all have p-values that are orders of magnitude below 0.05.  Sex has the strongest correlation with survival, followed by Pclass and Embarked.  \n",
    "\n",
    "Next let's see if there are correlations within the independent variables."
   ]
  },
  {
   "cell_type": "code",
   "execution_count": 30,
   "metadata": {
    "collapsed": false
   },
   "outputs": [
    {
     "name": "stdout",
     "output_type": "stream",
     "text": [
      "Embarked vs. Pclass\n",
      "---------------------\n",
      "Chi-squared Test Statistic: 123.75190953\n",
      "P-value: 8.43526781989e-26\n",
      "Degrees of Freedom: 4\n",
      "\n",
      "\n",
      "Embarked vs. Sex\n",
      "---------------------\n",
      "Chi-squared Test Statistic: 13.355630515\n",
      "P-value: 0.00125852452323\n",
      "Degrees of Freedom: 2\n",
      "\n",
      "\n",
      "Pclass vs. Sex\n",
      "---------------------\n",
      "Chi-squared Test Statistic: 16.9714990955\n",
      "P-value: 0.000206388643482\n",
      "Degrees of Freedom: 2\n",
      "\n",
      "\n"
     ]
    }
   ],
   "source": [
    "print_chi2(df_train, 'Embarked', 'Pclass')\n",
    "print_chi2(df_train, 'Embarked', 'Sex')\n",
    "print_chi2(df_train, 'Pclass', 'Sex')"
   ]
  },
  {
   "cell_type": "markdown",
   "metadata": {},
   "source": [
    "While not as strong as the correlations with survival, we can see that none of these variables are completely independent of each other.  The strongest correlation being between the Embarked and Pclass variables.  \n",
    "\n",
    "Next, let's take a look at cross-tabulation for all of the categorical variables and see if anything sticks out."
   ]
  },
  {
   "cell_type": "code",
   "execution_count": 31,
   "metadata": {
    "collapsed": false
   },
   "outputs": [
    {
     "data": {
      "text/html": [
       "<style  type=\"text/css\" >\n",
       "    #T_e8eba6d4_ce4b_11e7_8980_441ca8e274ferow0_col0 {\n",
       "            background-color:  #fcfe66;\n",
       "        }    #T_e8eba6d4_ce4b_11e7_8980_441ca8e274ferow0_col1 {\n",
       "            background-color:  #d2e866;\n",
       "        }    #T_e8eba6d4_ce4b_11e7_8980_441ca8e274ferow0_col2 {\n",
       "            background-color:  #f2f866;\n",
       "        }    #T_e8eba6d4_ce4b_11e7_8980_441ca8e274ferow0_col3 {\n",
       "            background-color:  #d8ec66;\n",
       "        }    #T_e8eba6d4_ce4b_11e7_8980_441ca8e274ferow0_col4 {\n",
       "            background-color:  #e8f466;\n",
       "        }    #T_e8eba6d4_ce4b_11e7_8980_441ca8e274ferow1_col0 {\n",
       "            background-color:  #ffff66;\n",
       "        }    #T_e8eba6d4_ce4b_11e7_8980_441ca8e274ferow1_col1 {\n",
       "            background-color:  #f9fc66;\n",
       "        }    #T_e8eba6d4_ce4b_11e7_8980_441ca8e274ferow1_col2 {\n",
       "            background-color:  #fcfe66;\n",
       "        }    #T_e8eba6d4_ce4b_11e7_8980_441ca8e274ferow1_col3 {\n",
       "            background-color:  #fbfd66;\n",
       "        }    #T_e8eba6d4_ce4b_11e7_8980_441ca8e274ferow1_col4 {\n",
       "            background-color:  #fbfd66;\n",
       "        }    #T_e8eba6d4_ce4b_11e7_8980_441ca8e274ferow2_col0 {\n",
       "            background-color:  #e6f266;\n",
       "        }    #T_e8eba6d4_ce4b_11e7_8980_441ca8e274ferow2_col1 {\n",
       "            background-color:  #f0f866;\n",
       "        }    #T_e8eba6d4_ce4b_11e7_8980_441ca8e274ferow2_col2 {\n",
       "            background-color:  #eef666;\n",
       "        }    #T_e8eba6d4_ce4b_11e7_8980_441ca8e274ferow2_col3 {\n",
       "            background-color:  #e8f466;\n",
       "        }    #T_e8eba6d4_ce4b_11e7_8980_441ca8e274ferow2_col4 {\n",
       "            background-color:  #edf666;\n",
       "        }    #T_e8eba6d4_ce4b_11e7_8980_441ca8e274ferow3_col0 {\n",
       "            background-color:  #ffff66;\n",
       "        }    #T_e8eba6d4_ce4b_11e7_8980_441ca8e274ferow3_col1 {\n",
       "            background-color:  #ffff66;\n",
       "        }    #T_e8eba6d4_ce4b_11e7_8980_441ca8e274ferow3_col2 {\n",
       "            background-color:  #ffff66;\n",
       "        }    #T_e8eba6d4_ce4b_11e7_8980_441ca8e274ferow3_col3 {\n",
       "            background-color:  #ffff66;\n",
       "        }    #T_e8eba6d4_ce4b_11e7_8980_441ca8e274ferow3_col4 {\n",
       "            background-color:  #ffff66;\n",
       "        }    #T_e8eba6d4_ce4b_11e7_8980_441ca8e274ferow4_col0 {\n",
       "            background-color:  #ffff66;\n",
       "        }    #T_e8eba6d4_ce4b_11e7_8980_441ca8e274ferow4_col1 {\n",
       "            background-color:  #fefe66;\n",
       "        }    #T_e8eba6d4_ce4b_11e7_8980_441ca8e274ferow4_col2 {\n",
       "            background-color:  #ffff66;\n",
       "        }    #T_e8eba6d4_ce4b_11e7_8980_441ca8e274ferow4_col3 {\n",
       "            background-color:  #ffff66;\n",
       "        }    #T_e8eba6d4_ce4b_11e7_8980_441ca8e274ferow4_col4 {\n",
       "            background-color:  #ffff66;\n",
       "        }    #T_e8eba6d4_ce4b_11e7_8980_441ca8e274ferow5_col0 {\n",
       "            background-color:  #e3f166;\n",
       "        }    #T_e8eba6d4_ce4b_11e7_8980_441ca8e274ferow5_col1 {\n",
       "            background-color:  #e6f266;\n",
       "        }    #T_e8eba6d4_ce4b_11e7_8980_441ca8e274ferow5_col2 {\n",
       "            background-color:  #ecf666;\n",
       "        }    #T_e8eba6d4_ce4b_11e7_8980_441ca8e274ferow5_col3 {\n",
       "            background-color:  #f8fc66;\n",
       "        }    #T_e8eba6d4_ce4b_11e7_8980_441ca8e274ferow5_col4 {\n",
       "            background-color:  #ebf566;\n",
       "        }    #T_e8eba6d4_ce4b_11e7_8980_441ca8e274ferow6_col0 {\n",
       "            background-color:  #f9fc66;\n",
       "        }    #T_e8eba6d4_ce4b_11e7_8980_441ca8e274ferow6_col1 {\n",
       "            background-color:  #cde666;\n",
       "        }    #T_e8eba6d4_ce4b_11e7_8980_441ca8e274ferow6_col2 {\n",
       "            background-color:  #e4f266;\n",
       "        }    #T_e8eba6d4_ce4b_11e7_8980_441ca8e274ferow6_col3 {\n",
       "            background-color:  #bede66;\n",
       "        }    #T_e8eba6d4_ce4b_11e7_8980_441ca8e274ferow6_col4 {\n",
       "            background-color:  #dbed66;\n",
       "        }    #T_e8eba6d4_ce4b_11e7_8980_441ca8e274ferow7_col0 {\n",
       "            background-color:  #edf666;\n",
       "        }    #T_e8eba6d4_ce4b_11e7_8980_441ca8e274ferow7_col1 {\n",
       "            background-color:  #bdde66;\n",
       "        }    #T_e8eba6d4_ce4b_11e7_8980_441ca8e274ferow7_col2 {\n",
       "            background-color:  #d3e966;\n",
       "        }    #T_e8eba6d4_ce4b_11e7_8980_441ca8e274ferow7_col3 {\n",
       "            background-color:  #dcee66;\n",
       "        }    #T_e8eba6d4_ce4b_11e7_8980_441ca8e274ferow7_col4 {\n",
       "            background-color:  #d1e866;\n",
       "        }    #T_e8eba6d4_ce4b_11e7_8980_441ca8e274ferow8_col0 {\n",
       "            background-color:  #52a866;\n",
       "        }    #T_e8eba6d4_ce4b_11e7_8980_441ca8e274ferow8_col1 {\n",
       "            background-color:  #dcee66;\n",
       "        }    #T_e8eba6d4_ce4b_11e7_8980_441ca8e274ferow8_col2 {\n",
       "            background-color:  #81c066;\n",
       "        }    #T_e8eba6d4_ce4b_11e7_8980_441ca8e274ferow8_col3 {\n",
       "            background-color:  #b0d866;\n",
       "        }    #T_e8eba6d4_ce4b_11e7_8980_441ca8e274ferow8_col4 {\n",
       "            background-color:  #9acc66;\n",
       "        }    #T_e8eba6d4_ce4b_11e7_8980_441ca8e274ferow9_col0 {\n",
       "            background-color:  #008066;\n",
       "        }    #T_e8eba6d4_ce4b_11e7_8980_441ca8e274ferow9_col1 {\n",
       "            background-color:  #008066;\n",
       "        }    #T_e8eba6d4_ce4b_11e7_8980_441ca8e274ferow9_col2 {\n",
       "            background-color:  #008066;\n",
       "        }    #T_e8eba6d4_ce4b_11e7_8980_441ca8e274ferow9_col3 {\n",
       "            background-color:  #008066;\n",
       "        }    #T_e8eba6d4_ce4b_11e7_8980_441ca8e274ferow9_col4 {\n",
       "            background-color:  #008066;\n",
       "        }</style>  \n",
       "<table id=\"T_e8eba6d4_ce4b_11e7_8980_441ca8e274fe\" > \n",
       "<thead>    <tr> \n",
       "        <th class=\"blank\" ></th> \n",
       "        <th class=\"index_name level0\" >Sex</th> \n",
       "        <th class=\"col_heading level0 col0\" colspan=2>female</th> \n",
       "        <th class=\"col_heading level0 col2\" colspan=2>male</th> \n",
       "        <th class=\"col_heading level0 col4\" >All</th> \n",
       "    </tr>    <tr> \n",
       "        <th class=\"blank\" ></th> \n",
       "        <th class=\"index_name level1\" >Survived</th> \n",
       "        <th class=\"col_heading level1 col0\" >0</th> \n",
       "        <th class=\"col_heading level1 col1\" >1</th> \n",
       "        <th class=\"col_heading level1 col2\" >0</th> \n",
       "        <th class=\"col_heading level1 col3\" >1</th> \n",
       "        <th class=\"col_heading level1 col4\" ></th> \n",
       "    </tr>    <tr> \n",
       "        <th class=\"index_name level0\" >Embarked</th> \n",
       "        <th class=\"index_name level1\" >Pclass</th> \n",
       "        <th class=\"blank\" ></th> \n",
       "        <th class=\"blank\" ></th> \n",
       "        <th class=\"blank\" ></th> \n",
       "        <th class=\"blank\" ></th> \n",
       "        <th class=\"blank\" ></th> \n",
       "    </tr></thead> \n",
       "<tbody>    <tr> \n",
       "        <th id=\"T_e8eba6d4_ce4b_11e7_8980_441ca8e274felevel0_row0\" class=\"row_heading level0 row0\" rowspan=3>C</th> \n",
       "        <th id=\"T_e8eba6d4_ce4b_11e7_8980_441ca8e274felevel1_row0\" class=\"row_heading level1 row0\" >1</th> \n",
       "        <td id=\"T_e8eba6d4_ce4b_11e7_8980_441ca8e274ferow0_col0\" class=\"data row0 col0\" >1</td> \n",
       "        <td id=\"T_e8eba6d4_ce4b_11e7_8980_441ca8e274ferow0_col1\" class=\"data row0 col1\" >42</td> \n",
       "        <td id=\"T_e8eba6d4_ce4b_11e7_8980_441ca8e274ferow0_col2\" class=\"data row0 col2\" >25</td> \n",
       "        <td id=\"T_e8eba6d4_ce4b_11e7_8980_441ca8e274ferow0_col3\" class=\"data row0 col3\" >17</td> \n",
       "        <td id=\"T_e8eba6d4_ce4b_11e7_8980_441ca8e274ferow0_col4\" class=\"data row0 col4\" >85</td> \n",
       "    </tr>    <tr> \n",
       "        <th id=\"T_e8eba6d4_ce4b_11e7_8980_441ca8e274felevel1_row1\" class=\"row_heading level1 row1\" >2</th> \n",
       "        <td id=\"T_e8eba6d4_ce4b_11e7_8980_441ca8e274ferow1_col0\" class=\"data row1 col0\" >0</td> \n",
       "        <td id=\"T_e8eba6d4_ce4b_11e7_8980_441ca8e274ferow1_col1\" class=\"data row1 col1\" >7</td> \n",
       "        <td id=\"T_e8eba6d4_ce4b_11e7_8980_441ca8e274ferow1_col2\" class=\"data row1 col2\" >8</td> \n",
       "        <td id=\"T_e8eba6d4_ce4b_11e7_8980_441ca8e274ferow1_col3\" class=\"data row1 col3\" >2</td> \n",
       "        <td id=\"T_e8eba6d4_ce4b_11e7_8980_441ca8e274ferow1_col4\" class=\"data row1 col4\" >17</td> \n",
       "    </tr>    <tr> \n",
       "        <th id=\"T_e8eba6d4_ce4b_11e7_8980_441ca8e274felevel1_row2\" class=\"row_heading level1 row2\" >3</th> \n",
       "        <td id=\"T_e8eba6d4_ce4b_11e7_8980_441ca8e274ferow2_col0\" class=\"data row2 col0\" >8</td> \n",
       "        <td id=\"T_e8eba6d4_ce4b_11e7_8980_441ca8e274ferow2_col1\" class=\"data row2 col1\" >15</td> \n",
       "        <td id=\"T_e8eba6d4_ce4b_11e7_8980_441ca8e274ferow2_col2\" class=\"data row2 col2\" >33</td> \n",
       "        <td id=\"T_e8eba6d4_ce4b_11e7_8980_441ca8e274ferow2_col3\" class=\"data row2 col3\" >10</td> \n",
       "        <td id=\"T_e8eba6d4_ce4b_11e7_8980_441ca8e274ferow2_col4\" class=\"data row2 col4\" >66</td> \n",
       "    </tr>    <tr> \n",
       "        <th id=\"T_e8eba6d4_ce4b_11e7_8980_441ca8e274felevel0_row3\" class=\"row_heading level0 row3\" rowspan=3>Q</th> \n",
       "        <th id=\"T_e8eba6d4_ce4b_11e7_8980_441ca8e274felevel1_row3\" class=\"row_heading level1 row3\" >1</th> \n",
       "        <td id=\"T_e8eba6d4_ce4b_11e7_8980_441ca8e274ferow3_col0\" class=\"data row3 col0\" >0</td> \n",
       "        <td id=\"T_e8eba6d4_ce4b_11e7_8980_441ca8e274ferow3_col1\" class=\"data row3 col1\" >1</td> \n",
       "        <td id=\"T_e8eba6d4_ce4b_11e7_8980_441ca8e274ferow3_col2\" class=\"data row3 col2\" >1</td> \n",
       "        <td id=\"T_e8eba6d4_ce4b_11e7_8980_441ca8e274ferow3_col3\" class=\"data row3 col3\" >0</td> \n",
       "        <td id=\"T_e8eba6d4_ce4b_11e7_8980_441ca8e274ferow3_col4\" class=\"data row3 col4\" >2</td> \n",
       "    </tr>    <tr> \n",
       "        <th id=\"T_e8eba6d4_ce4b_11e7_8980_441ca8e274felevel1_row4\" class=\"row_heading level1 row4\" >2</th> \n",
       "        <td id=\"T_e8eba6d4_ce4b_11e7_8980_441ca8e274ferow4_col0\" class=\"data row4 col0\" >0</td> \n",
       "        <td id=\"T_e8eba6d4_ce4b_11e7_8980_441ca8e274ferow4_col1\" class=\"data row4 col1\" >2</td> \n",
       "        <td id=\"T_e8eba6d4_ce4b_11e7_8980_441ca8e274ferow4_col2\" class=\"data row4 col2\" >1</td> \n",
       "        <td id=\"T_e8eba6d4_ce4b_11e7_8980_441ca8e274ferow4_col3\" class=\"data row4 col3\" >0</td> \n",
       "        <td id=\"T_e8eba6d4_ce4b_11e7_8980_441ca8e274ferow4_col4\" class=\"data row4 col4\" >3</td> \n",
       "    </tr>    <tr> \n",
       "        <th id=\"T_e8eba6d4_ce4b_11e7_8980_441ca8e274felevel1_row5\" class=\"row_heading level1 row5\" >3</th> \n",
       "        <td id=\"T_e8eba6d4_ce4b_11e7_8980_441ca8e274ferow5_col0\" class=\"data row5 col0\" >9</td> \n",
       "        <td id=\"T_e8eba6d4_ce4b_11e7_8980_441ca8e274ferow5_col1\" class=\"data row5 col1\" >24</td> \n",
       "        <td id=\"T_e8eba6d4_ce4b_11e7_8980_441ca8e274ferow5_col2\" class=\"data row5 col2\" >36</td> \n",
       "        <td id=\"T_e8eba6d4_ce4b_11e7_8980_441ca8e274ferow5_col3\" class=\"data row5 col3\" >3</td> \n",
       "        <td id=\"T_e8eba6d4_ce4b_11e7_8980_441ca8e274ferow5_col4\" class=\"data row5 col4\" >72</td> \n",
       "    </tr>    <tr> \n",
       "        <th id=\"T_e8eba6d4_ce4b_11e7_8980_441ca8e274felevel0_row6\" class=\"row_heading level0 row6\" rowspan=3>S</th> \n",
       "        <th id=\"T_e8eba6d4_ce4b_11e7_8980_441ca8e274felevel1_row6\" class=\"row_heading level1 row6\" >1</th> \n",
       "        <td id=\"T_e8eba6d4_ce4b_11e7_8980_441ca8e274ferow6_col0\" class=\"data row6 col0\" >2</td> \n",
       "        <td id=\"T_e8eba6d4_ce4b_11e7_8980_441ca8e274ferow6_col1\" class=\"data row6 col1\" >46</td> \n",
       "        <td id=\"T_e8eba6d4_ce4b_11e7_8980_441ca8e274ferow6_col2\" class=\"data row6 col2\" >51</td> \n",
       "        <td id=\"T_e8eba6d4_ce4b_11e7_8980_441ca8e274ferow6_col3\" class=\"data row6 col3\" >28</td> \n",
       "        <td id=\"T_e8eba6d4_ce4b_11e7_8980_441ca8e274ferow6_col4\" class=\"data row6 col4\" >127</td> \n",
       "    </tr>    <tr> \n",
       "        <th id=\"T_e8eba6d4_ce4b_11e7_8980_441ca8e274felevel1_row7\" class=\"row_heading level1 row7\" >2</th> \n",
       "        <td id=\"T_e8eba6d4_ce4b_11e7_8980_441ca8e274ferow7_col0\" class=\"data row7 col0\" >6</td> \n",
       "        <td id=\"T_e8eba6d4_ce4b_11e7_8980_441ca8e274ferow7_col1\" class=\"data row7 col1\" >61</td> \n",
       "        <td id=\"T_e8eba6d4_ce4b_11e7_8980_441ca8e274ferow7_col2\" class=\"data row7 col2\" >82</td> \n",
       "        <td id=\"T_e8eba6d4_ce4b_11e7_8980_441ca8e274ferow7_col3\" class=\"data row7 col3\" >15</td> \n",
       "        <td id=\"T_e8eba6d4_ce4b_11e7_8980_441ca8e274ferow7_col4\" class=\"data row7 col4\" >164</td> \n",
       "    </tr>    <tr> \n",
       "        <th id=\"T_e8eba6d4_ce4b_11e7_8980_441ca8e274felevel1_row8\" class=\"row_heading level1 row8\" >3</th> \n",
       "        <td id=\"T_e8eba6d4_ce4b_11e7_8980_441ca8e274ferow8_col0\" class=\"data row8 col0\" >55</td> \n",
       "        <td id=\"T_e8eba6d4_ce4b_11e7_8980_441ca8e274ferow8_col1\" class=\"data row8 col1\" >33</td> \n",
       "        <td id=\"T_e8eba6d4_ce4b_11e7_8980_441ca8e274ferow8_col2\" class=\"data row8 col2\" >231</td> \n",
       "        <td id=\"T_e8eba6d4_ce4b_11e7_8980_441ca8e274ferow8_col3\" class=\"data row8 col3\" >34</td> \n",
       "        <td id=\"T_e8eba6d4_ce4b_11e7_8980_441ca8e274ferow8_col4\" class=\"data row8 col4\" >353</td> \n",
       "    </tr>    <tr> \n",
       "        <th id=\"T_e8eba6d4_ce4b_11e7_8980_441ca8e274felevel0_row9\" class=\"row_heading level0 row9\" >All</th> \n",
       "        <th id=\"T_e8eba6d4_ce4b_11e7_8980_441ca8e274felevel1_row9\" class=\"row_heading level1 row9\" ></th> \n",
       "        <td id=\"T_e8eba6d4_ce4b_11e7_8980_441ca8e274ferow9_col0\" class=\"data row9 col0\" >81</td> \n",
       "        <td id=\"T_e8eba6d4_ce4b_11e7_8980_441ca8e274ferow9_col1\" class=\"data row9 col1\" >231</td> \n",
       "        <td id=\"T_e8eba6d4_ce4b_11e7_8980_441ca8e274ferow9_col2\" class=\"data row9 col2\" >468</td> \n",
       "        <td id=\"T_e8eba6d4_ce4b_11e7_8980_441ca8e274ferow9_col3\" class=\"data row9 col3\" >109</td> \n",
       "        <td id=\"T_e8eba6d4_ce4b_11e7_8980_441ca8e274ferow9_col4\" class=\"data row9 col4\" >889</td> \n",
       "    </tr></tbody> \n",
       "</table> "
      ],
      "text/plain": [
       "<pandas.io.formats.style.Styler at 0x19aabbd60f0>"
      ]
     },
     "execution_count": 31,
     "metadata": {},
     "output_type": "execute_result"
    }
   ],
   "source": [
    "obs = pd.crosstab([df_train.Embarked,df_train.Pclass], [df_train.Sex,df_train.Survived],margins=True)\n",
    "obs.style.background_gradient(cmap='summer_r')"
   ]
  },
  {
   "cell_type": "markdown",
   "metadata": {},
   "source": [
    "On first glance, a few things stick out  First, we can see that the majority of passengers boarded in Southampton.  Given that Southampton was the port that the Titanic left from, this makes sense.  \n",
    "\n",
    "We can also see that most people travelled in third class.  \n",
    "\n",
    "There were also nearly twice as many men on the ship as women.  There appears to be a correlation between sex and survival rate, as about 74% of the female passengers survived compared to only about 19% of male passengers.  \n",
    "\n",
    "Let's drill down a bit further and compare two independant variables with each other and the survival rate."
   ]
  },
  {
   "cell_type": "code",
   "execution_count": 32,
   "metadata": {
    "collapsed": false,
    "scrolled": true
   },
   "outputs": [
    {
     "data": {
      "text/html": [
       "<style  type=\"text/css\" >\n",
       "    #T_e8f733f8_ce4b_11e7_a49f_441ca8e274ferow0_col0 {\n",
       "            background-color:  #ffff66;\n",
       "        }    #T_e8f733f8_ce4b_11e7_a49f_441ca8e274ferow0_col1 {\n",
       "            background-color:  #dfef66;\n",
       "        }    #T_e8f733f8_ce4b_11e7_a49f_441ca8e274ferow0_col2 {\n",
       "            background-color:  #ffff66;\n",
       "        }    #T_e8f733f8_ce4b_11e7_a49f_441ca8e274ferow0_col3 {\n",
       "            background-color:  #b2d866;\n",
       "        }    #T_e8f733f8_ce4b_11e7_a49f_441ca8e274ferow0_col4 {\n",
       "            background-color:  #f4fa66;\n",
       "        }    #T_e8f733f8_ce4b_11e7_a49f_441ca8e274ferow1_col0 {\n",
       "            background-color:  #f6fa66;\n",
       "        }    #T_e8f733f8_ce4b_11e7_a49f_441ca8e274ferow1_col1 {\n",
       "            background-color:  #ffff66;\n",
       "        }    #T_e8f733f8_ce4b_11e7_a49f_441ca8e274ferow1_col2 {\n",
       "            background-color:  #f6fa66;\n",
       "        }    #T_e8f733f8_ce4b_11e7_a49f_441ca8e274ferow1_col3 {\n",
       "            background-color:  #ffff66;\n",
       "        }    #T_e8f733f8_ce4b_11e7_a49f_441ca8e274ferow1_col4 {\n",
       "            background-color:  #ffff66;\n",
       "        }    #T_e8f733f8_ce4b_11e7_a49f_441ca8e274ferow2_col0 {\n",
       "            background-color:  #1d8e66;\n",
       "        }    #T_e8f733f8_ce4b_11e7_a49f_441ca8e274ferow2_col1 {\n",
       "            background-color:  #fcfe66;\n",
       "        }    #T_e8f733f8_ce4b_11e7_a49f_441ca8e274ferow2_col2 {\n",
       "            background-color:  #6db666;\n",
       "        }    #T_e8f733f8_ce4b_11e7_a49f_441ca8e274ferow2_col3 {\n",
       "            background-color:  #acd666;\n",
       "        }    #T_e8f733f8_ce4b_11e7_a49f_441ca8e274ferow2_col4 {\n",
       "            background-color:  #90c866;\n",
       "        }    #T_e8f733f8_ce4b_11e7_a49f_441ca8e274ferow3_col0 {\n",
       "            background-color:  #008066;\n",
       "        }    #T_e8f733f8_ce4b_11e7_a49f_441ca8e274ferow3_col1 {\n",
       "            background-color:  #008066;\n",
       "        }    #T_e8f733f8_ce4b_11e7_a49f_441ca8e274ferow3_col2 {\n",
       "            background-color:  #008066;\n",
       "        }    #T_e8f733f8_ce4b_11e7_a49f_441ca8e274ferow3_col3 {\n",
       "            background-color:  #008066;\n",
       "        }    #T_e8f733f8_ce4b_11e7_a49f_441ca8e274ferow3_col4 {\n",
       "            background-color:  #008066;\n",
       "        }</style>  \n",
       "<table id=\"T_e8f733f8_ce4b_11e7_a49f_441ca8e274fe\" > \n",
       "<thead>    <tr> \n",
       "        <th class=\"index_name level0\" >Sex</th> \n",
       "        <th class=\"col_heading level0 col0\" colspan=2>female</th> \n",
       "        <th class=\"col_heading level0 col2\" colspan=2>male</th> \n",
       "        <th class=\"col_heading level0 col4\" >All</th> \n",
       "    </tr>    <tr> \n",
       "        <th class=\"index_name level1\" >Survived</th> \n",
       "        <th class=\"col_heading level1 col0\" >0</th> \n",
       "        <th class=\"col_heading level1 col1\" >1</th> \n",
       "        <th class=\"col_heading level1 col2\" >0</th> \n",
       "        <th class=\"col_heading level1 col3\" >1</th> \n",
       "        <th class=\"col_heading level1 col4\" ></th> \n",
       "    </tr>    <tr> \n",
       "        <th class=\"index_name level0\" >Pclass</th> \n",
       "        <th class=\"blank\" ></th> \n",
       "        <th class=\"blank\" ></th> \n",
       "        <th class=\"blank\" ></th> \n",
       "        <th class=\"blank\" ></th> \n",
       "        <th class=\"blank\" ></th> \n",
       "    </tr></thead> \n",
       "<tbody>    <tr> \n",
       "        <th id=\"T_e8f733f8_ce4b_11e7_a49f_441ca8e274felevel0_row0\" class=\"row_heading level0 row0\" >1</th> \n",
       "        <td id=\"T_e8f733f8_ce4b_11e7_a49f_441ca8e274ferow0_col0\" class=\"data row0 col0\" >3</td> \n",
       "        <td id=\"T_e8f733f8_ce4b_11e7_a49f_441ca8e274ferow0_col1\" class=\"data row0 col1\" >91</td> \n",
       "        <td id=\"T_e8f733f8_ce4b_11e7_a49f_441ca8e274ferow0_col2\" class=\"data row0 col2\" >77</td> \n",
       "        <td id=\"T_e8f733f8_ce4b_11e7_a49f_441ca8e274ferow0_col3\" class=\"data row0 col3\" >45</td> \n",
       "        <td id=\"T_e8f733f8_ce4b_11e7_a49f_441ca8e274ferow0_col4\" class=\"data row0 col4\" >216</td> \n",
       "    </tr>    <tr> \n",
       "        <th id=\"T_e8f733f8_ce4b_11e7_a49f_441ca8e274felevel0_row1\" class=\"row_heading level0 row1\" >2</th> \n",
       "        <td id=\"T_e8f733f8_ce4b_11e7_a49f_441ca8e274ferow1_col0\" class=\"data row1 col0\" >6</td> \n",
       "        <td id=\"T_e8f733f8_ce4b_11e7_a49f_441ca8e274ferow1_col1\" class=\"data row1 col1\" >70</td> \n",
       "        <td id=\"T_e8f733f8_ce4b_11e7_a49f_441ca8e274ferow1_col2\" class=\"data row1 col2\" >91</td> \n",
       "        <td id=\"T_e8f733f8_ce4b_11e7_a49f_441ca8e274ferow1_col3\" class=\"data row1 col3\" >17</td> \n",
       "        <td id=\"T_e8f733f8_ce4b_11e7_a49f_441ca8e274ferow1_col4\" class=\"data row1 col4\" >184</td> \n",
       "    </tr>    <tr> \n",
       "        <th id=\"T_e8f733f8_ce4b_11e7_a49f_441ca8e274felevel0_row2\" class=\"row_heading level0 row2\" >3</th> \n",
       "        <td id=\"T_e8f733f8_ce4b_11e7_a49f_441ca8e274ferow2_col0\" class=\"data row2 col0\" >72</td> \n",
       "        <td id=\"T_e8f733f8_ce4b_11e7_a49f_441ca8e274ferow2_col1\" class=\"data row2 col1\" >72</td> \n",
       "        <td id=\"T_e8f733f8_ce4b_11e7_a49f_441ca8e274ferow2_col2\" class=\"data row2 col2\" >300</td> \n",
       "        <td id=\"T_e8f733f8_ce4b_11e7_a49f_441ca8e274ferow2_col3\" class=\"data row2 col3\" >47</td> \n",
       "        <td id=\"T_e8f733f8_ce4b_11e7_a49f_441ca8e274ferow2_col4\" class=\"data row2 col4\" >491</td> \n",
       "    </tr>    <tr> \n",
       "        <th id=\"T_e8f733f8_ce4b_11e7_a49f_441ca8e274felevel0_row3\" class=\"row_heading level0 row3\" >All</th> \n",
       "        <td id=\"T_e8f733f8_ce4b_11e7_a49f_441ca8e274ferow3_col0\" class=\"data row3 col0\" >81</td> \n",
       "        <td id=\"T_e8f733f8_ce4b_11e7_a49f_441ca8e274ferow3_col1\" class=\"data row3 col1\" >233</td> \n",
       "        <td id=\"T_e8f733f8_ce4b_11e7_a49f_441ca8e274ferow3_col2\" class=\"data row3 col2\" >468</td> \n",
       "        <td id=\"T_e8f733f8_ce4b_11e7_a49f_441ca8e274ferow3_col3\" class=\"data row3 col3\" >109</td> \n",
       "        <td id=\"T_e8f733f8_ce4b_11e7_a49f_441ca8e274ferow3_col4\" class=\"data row3 col4\" >891</td> \n",
       "    </tr></tbody> \n",
       "</table> "
      ],
      "text/plain": [
       "<pandas.io.formats.style.Styler at 0x19aabf0ff28>"
      ]
     },
     "execution_count": 32,
     "metadata": {},
     "output_type": "execute_result"
    }
   ],
   "source": [
    "obs = pd.crosstab(df_train.Pclass, [df_train.Sex,df_train.Survived],margins=True)\n",
    "obs.style.background_gradient(cmap='summer_r')"
   ]
  },
  {
   "cell_type": "markdown",
   "metadata": {},
   "source": [
    "We can see that there is a correlation between Pclass and survival rate.  Women in first class, second class, and third class had survival rates of 97%, 92%, and 50% respectively.  Men in first, second, and third class had survival rates of 37%, 16%, and 14% respectively.  For both genders, the survival rate increases with class.  However, it is interesting that first class and second class have similar survival rates for women, but second and third class have similar survival rates for men.  \n",
    "\n",
    "Next, let's compare point of embarkation and sex."
   ]
  },
  {
   "cell_type": "code",
   "execution_count": 33,
   "metadata": {
    "collapsed": false
   },
   "outputs": [
    {
     "data": {
      "text/html": [
       "<style  type=\"text/css\" >\n",
       "    #T_e902bfcc_ce4b_11e7_95b7_441ca8e274ferow0_col0 {\n",
       "            background-color:  #ffff66;\n",
       "        }    #T_e902bfcc_ce4b_11e7_95b7_441ca8e274ferow0_col1 {\n",
       "            background-color:  #d1e866;\n",
       "        }    #T_e902bfcc_ce4b_11e7_95b7_441ca8e274ferow0_col2 {\n",
       "            background-color:  #eff766;\n",
       "        }    #T_e902bfcc_ce4b_11e7_95b7_441ca8e274ferow0_col3 {\n",
       "            background-color:  #c1e066;\n",
       "        }    #T_e902bfcc_ce4b_11e7_95b7_441ca8e274ferow0_col4 {\n",
       "            background-color:  #e3f166;\n",
       "        }    #T_e902bfcc_ce4b_11e7_95b7_441ca8e274ferow1_col0 {\n",
       "            background-color:  #ffff66;\n",
       "        }    #T_e902bfcc_ce4b_11e7_95b7_441ca8e274ferow1_col1 {\n",
       "            background-color:  #ffff66;\n",
       "        }    #T_e902bfcc_ce4b_11e7_95b7_441ca8e274ferow1_col2 {\n",
       "            background-color:  #ffff66;\n",
       "        }    #T_e902bfcc_ce4b_11e7_95b7_441ca8e274ferow1_col3 {\n",
       "            background-color:  #ffff66;\n",
       "        }    #T_e902bfcc_ce4b_11e7_95b7_441ca8e274ferow1_col4 {\n",
       "            background-color:  #ffff66;\n",
       "        }    #T_e902bfcc_ce4b_11e7_95b7_441ca8e274ferow2_col0 {\n",
       "            background-color:  #3f9f66;\n",
       "        }    #T_e902bfcc_ce4b_11e7_95b7_441ca8e274ferow2_col1 {\n",
       "            background-color:  #72b866;\n",
       "        }    #T_e902bfcc_ce4b_11e7_95b7_441ca8e274ferow2_col2 {\n",
       "            background-color:  #3d9e66;\n",
       "        }    #T_e902bfcc_ce4b_11e7_95b7_441ca8e274ferow2_col3 {\n",
       "            background-color:  #4da666;\n",
       "        }    #T_e902bfcc_ce4b_11e7_95b7_441ca8e274ferow2_col4 {\n",
       "            background-color:  #4da666;\n",
       "        }    #T_e902bfcc_ce4b_11e7_95b7_441ca8e274ferow3_col0 {\n",
       "            background-color:  #008066;\n",
       "        }    #T_e902bfcc_ce4b_11e7_95b7_441ca8e274ferow3_col1 {\n",
       "            background-color:  #008066;\n",
       "        }    #T_e902bfcc_ce4b_11e7_95b7_441ca8e274ferow3_col2 {\n",
       "            background-color:  #008066;\n",
       "        }    #T_e902bfcc_ce4b_11e7_95b7_441ca8e274ferow3_col3 {\n",
       "            background-color:  #008066;\n",
       "        }    #T_e902bfcc_ce4b_11e7_95b7_441ca8e274ferow3_col4 {\n",
       "            background-color:  #008066;\n",
       "        }</style>  \n",
       "<table id=\"T_e902bfcc_ce4b_11e7_95b7_441ca8e274fe\" > \n",
       "<thead>    <tr> \n",
       "        <th class=\"index_name level0\" >Sex</th> \n",
       "        <th class=\"col_heading level0 col0\" colspan=2>female</th> \n",
       "        <th class=\"col_heading level0 col2\" colspan=2>male</th> \n",
       "        <th class=\"col_heading level0 col4\" >All</th> \n",
       "    </tr>    <tr> \n",
       "        <th class=\"index_name level1\" >Survived</th> \n",
       "        <th class=\"col_heading level1 col0\" >0</th> \n",
       "        <th class=\"col_heading level1 col1\" >1</th> \n",
       "        <th class=\"col_heading level1 col2\" >0</th> \n",
       "        <th class=\"col_heading level1 col3\" >1</th> \n",
       "        <th class=\"col_heading level1 col4\" ></th> \n",
       "    </tr>    <tr> \n",
       "        <th class=\"index_name level0\" >Embarked</th> \n",
       "        <th class=\"blank\" ></th> \n",
       "        <th class=\"blank\" ></th> \n",
       "        <th class=\"blank\" ></th> \n",
       "        <th class=\"blank\" ></th> \n",
       "        <th class=\"blank\" ></th> \n",
       "    </tr></thead> \n",
       "<tbody>    <tr> \n",
       "        <th id=\"T_e902bfcc_ce4b_11e7_95b7_441ca8e274felevel0_row0\" class=\"row_heading level0 row0\" >C</th> \n",
       "        <td id=\"T_e902bfcc_ce4b_11e7_95b7_441ca8e274ferow0_col0\" class=\"data row0 col0\" >9</td> \n",
       "        <td id=\"T_e902bfcc_ce4b_11e7_95b7_441ca8e274ferow0_col1\" class=\"data row0 col1\" >64</td> \n",
       "        <td id=\"T_e902bfcc_ce4b_11e7_95b7_441ca8e274ferow0_col2\" class=\"data row0 col2\" >66</td> \n",
       "        <td id=\"T_e902bfcc_ce4b_11e7_95b7_441ca8e274ferow0_col3\" class=\"data row0 col3\" >29</td> \n",
       "        <td id=\"T_e902bfcc_ce4b_11e7_95b7_441ca8e274ferow0_col4\" class=\"data row0 col4\" >168</td> \n",
       "    </tr>    <tr> \n",
       "        <th id=\"T_e902bfcc_ce4b_11e7_95b7_441ca8e274felevel0_row1\" class=\"row_heading level0 row1\" >Q</th> \n",
       "        <td id=\"T_e902bfcc_ce4b_11e7_95b7_441ca8e274ferow1_col0\" class=\"data row1 col0\" >9</td> \n",
       "        <td id=\"T_e902bfcc_ce4b_11e7_95b7_441ca8e274ferow1_col1\" class=\"data row1 col1\" >27</td> \n",
       "        <td id=\"T_e902bfcc_ce4b_11e7_95b7_441ca8e274ferow1_col2\" class=\"data row1 col2\" >38</td> \n",
       "        <td id=\"T_e902bfcc_ce4b_11e7_95b7_441ca8e274ferow1_col3\" class=\"data row1 col3\" >3</td> \n",
       "        <td id=\"T_e902bfcc_ce4b_11e7_95b7_441ca8e274ferow1_col4\" class=\"data row1 col4\" >77</td> \n",
       "    </tr>    <tr> \n",
       "        <th id=\"T_e902bfcc_ce4b_11e7_95b7_441ca8e274felevel0_row2\" class=\"row_heading level0 row2\" >S</th> \n",
       "        <td id=\"T_e902bfcc_ce4b_11e7_95b7_441ca8e274ferow2_col0\" class=\"data row2 col0\" >63</td> \n",
       "        <td id=\"T_e902bfcc_ce4b_11e7_95b7_441ca8e274ferow2_col1\" class=\"data row2 col1\" >140</td> \n",
       "        <td id=\"T_e902bfcc_ce4b_11e7_95b7_441ca8e274ferow2_col2\" class=\"data row2 col2\" >364</td> \n",
       "        <td id=\"T_e902bfcc_ce4b_11e7_95b7_441ca8e274ferow2_col3\" class=\"data row2 col3\" >77</td> \n",
       "        <td id=\"T_e902bfcc_ce4b_11e7_95b7_441ca8e274ferow2_col4\" class=\"data row2 col4\" >644</td> \n",
       "    </tr>    <tr> \n",
       "        <th id=\"T_e902bfcc_ce4b_11e7_95b7_441ca8e274felevel0_row3\" class=\"row_heading level0 row3\" >All</th> \n",
       "        <td id=\"T_e902bfcc_ce4b_11e7_95b7_441ca8e274ferow3_col0\" class=\"data row3 col0\" >81</td> \n",
       "        <td id=\"T_e902bfcc_ce4b_11e7_95b7_441ca8e274ferow3_col1\" class=\"data row3 col1\" >231</td> \n",
       "        <td id=\"T_e902bfcc_ce4b_11e7_95b7_441ca8e274ferow3_col2\" class=\"data row3 col2\" >468</td> \n",
       "        <td id=\"T_e902bfcc_ce4b_11e7_95b7_441ca8e274ferow3_col3\" class=\"data row3 col3\" >109</td> \n",
       "        <td id=\"T_e902bfcc_ce4b_11e7_95b7_441ca8e274ferow3_col4\" class=\"data row3 col4\" >889</td> \n",
       "    </tr></tbody> \n",
       "</table> "
      ],
      "text/plain": [
       "<pandas.io.formats.style.Styler at 0x19aac263a20>"
      ]
     },
     "execution_count": 33,
     "metadata": {},
     "output_type": "execute_result"
    }
   ],
   "source": [
    "obs = pd.crosstab(df_train.Embarked, [df_train.Sex,df_train.Survived],margins=True)\n",
    "obs.style.background_gradient(cmap='summer_r')"
   ]
  },
  {
   "cell_type": "markdown",
   "metadata": {},
   "source": [
    "There appears to be a slight correlation between sex and port of embarkation.  The passengers embarking at Cherbourg were about 42% female.  The passengers embarking at Queenstown were about 47% female.  However, the passengers embarking at Southampton were only 32% female.  \n",
    "\n",
    "Another interesting point is that survival rate among passengers who boarded at Cherbourg (55%) appears to be higher than those boarding Queenstown and Southampton (39% and 34% respectively).  "
   ]
  },
  {
   "cell_type": "code",
   "execution_count": 34,
   "metadata": {
    "collapsed": false
   },
   "outputs": [
    {
     "data": {
      "text/html": [
       "<style  type=\"text/css\" >\n",
       "    #T_e90ffcca_ce4b_11e7_bbf5_441ca8e274ferow0_col0 {\n",
       "            background-color:  #bbdd66;\n",
       "        }    #T_e90ffcca_ce4b_11e7_bbf5_441ca8e274ferow0_col1 {\n",
       "            background-color:  #67b366;\n",
       "        }    #T_e90ffcca_ce4b_11e7_bbf5_441ca8e274ferow0_col2 {\n",
       "            background-color:  #ffff66;\n",
       "        }    #T_e90ffcca_ce4b_11e7_bbf5_441ca8e274ferow0_col3 {\n",
       "            background-color:  #ffff66;\n",
       "        }    #T_e90ffcca_ce4b_11e7_bbf5_441ca8e274ferow0_col4 {\n",
       "            background-color:  #ffff66;\n",
       "        }    #T_e90ffcca_ce4b_11e7_bbf5_441ca8e274ferow0_col5 {\n",
       "            background-color:  #f4fa66;\n",
       "        }    #T_e90ffcca_ce4b_11e7_bbf5_441ca8e274ferow0_col6 {\n",
       "            background-color:  #f5fa66;\n",
       "        }    #T_e90ffcca_ce4b_11e7_bbf5_441ca8e274ferow1_col0 {\n",
       "            background-color:  #ffff66;\n",
       "        }    #T_e90ffcca_ce4b_11e7_bbf5_441ca8e274ferow1_col1 {\n",
       "            background-color:  #ffff66;\n",
       "        }    #T_e90ffcca_ce4b_11e7_bbf5_441ca8e274ferow1_col2 {\n",
       "            background-color:  #ffff66;\n",
       "        }    #T_e90ffcca_ce4b_11e7_bbf5_441ca8e274ferow1_col3 {\n",
       "            background-color:  #f7fb66;\n",
       "        }    #T_e90ffcca_ce4b_11e7_bbf5_441ca8e274ferow1_col4 {\n",
       "            background-color:  #e8f466;\n",
       "        }    #T_e90ffcca_ce4b_11e7_bbf5_441ca8e274ferow1_col5 {\n",
       "            background-color:  #f0f866;\n",
       "        }    #T_e90ffcca_ce4b_11e7_bbf5_441ca8e274ferow1_col6 {\n",
       "            background-color:  #ffff66;\n",
       "        }    #T_e90ffcca_ce4b_11e7_bbf5_441ca8e274ferow2_col0 {\n",
       "            background-color:  #81c066;\n",
       "        }    #T_e90ffcca_ce4b_11e7_bbf5_441ca8e274ferow2_col1 {\n",
       "            background-color:  #cfe766;\n",
       "        }    #T_e90ffcca_ce4b_11e7_bbf5_441ca8e274ferow2_col2 {\n",
       "            background-color:  #0b8566;\n",
       "        }    #T_e90ffcca_ce4b_11e7_bbf5_441ca8e274ferow2_col3 {\n",
       "            background-color:  #1a8c66;\n",
       "        }    #T_e90ffcca_ce4b_11e7_bbf5_441ca8e274ferow2_col4 {\n",
       "            background-color:  #60b066;\n",
       "        }    #T_e90ffcca_ce4b_11e7_bbf5_441ca8e274ferow2_col5 {\n",
       "            background-color:  #ffff66;\n",
       "        }    #T_e90ffcca_ce4b_11e7_bbf5_441ca8e274ferow2_col6 {\n",
       "            background-color:  #90c866;\n",
       "        }    #T_e90ffcca_ce4b_11e7_bbf5_441ca8e274ferow3_col0 {\n",
       "            background-color:  #008066;\n",
       "        }    #T_e90ffcca_ce4b_11e7_bbf5_441ca8e274ferow3_col1 {\n",
       "            background-color:  #008066;\n",
       "        }    #T_e90ffcca_ce4b_11e7_bbf5_441ca8e274ferow3_col2 {\n",
       "            background-color:  #008066;\n",
       "        }    #T_e90ffcca_ce4b_11e7_bbf5_441ca8e274ferow3_col3 {\n",
       "            background-color:  #008066;\n",
       "        }    #T_e90ffcca_ce4b_11e7_bbf5_441ca8e274ferow3_col4 {\n",
       "            background-color:  #008066;\n",
       "        }    #T_e90ffcca_ce4b_11e7_bbf5_441ca8e274ferow3_col5 {\n",
       "            background-color:  #008066;\n",
       "        }    #T_e90ffcca_ce4b_11e7_bbf5_441ca8e274ferow3_col6 {\n",
       "            background-color:  #008066;\n",
       "        }</style>  \n",
       "<table id=\"T_e90ffcca_ce4b_11e7_bbf5_441ca8e274fe\" > \n",
       "<thead>    <tr> \n",
       "        <th class=\"index_name level0\" >Embarked</th> \n",
       "        <th class=\"col_heading level0 col0\" colspan=2>C</th> \n",
       "        <th class=\"col_heading level0 col2\" colspan=2>Q</th> \n",
       "        <th class=\"col_heading level0 col4\" colspan=2>S</th> \n",
       "        <th class=\"col_heading level0 col6\" >All</th> \n",
       "    </tr>    <tr> \n",
       "        <th class=\"index_name level1\" >Survived</th> \n",
       "        <th class=\"col_heading level1 col0\" >0</th> \n",
       "        <th class=\"col_heading level1 col1\" >1</th> \n",
       "        <th class=\"col_heading level1 col2\" >0</th> \n",
       "        <th class=\"col_heading level1 col3\" >1</th> \n",
       "        <th class=\"col_heading level1 col4\" >0</th> \n",
       "        <th class=\"col_heading level1 col5\" >1</th> \n",
       "        <th class=\"col_heading level1 col6\" ></th> \n",
       "    </tr>    <tr> \n",
       "        <th class=\"index_name level0\" >Pclass</th> \n",
       "        <th class=\"blank\" ></th> \n",
       "        <th class=\"blank\" ></th> \n",
       "        <th class=\"blank\" ></th> \n",
       "        <th class=\"blank\" ></th> \n",
       "        <th class=\"blank\" ></th> \n",
       "        <th class=\"blank\" ></th> \n",
       "        <th class=\"blank\" ></th> \n",
       "    </tr></thead> \n",
       "<tbody>    <tr> \n",
       "        <th id=\"T_e90ffcca_ce4b_11e7_bbf5_441ca8e274felevel0_row0\" class=\"row_heading level0 row0\" >1</th> \n",
       "        <td id=\"T_e90ffcca_ce4b_11e7_bbf5_441ca8e274ferow0_col0\" class=\"data row0 col0\" >26</td> \n",
       "        <td id=\"T_e90ffcca_ce4b_11e7_bbf5_441ca8e274ferow0_col1\" class=\"data row0 col1\" >59</td> \n",
       "        <td id=\"T_e90ffcca_ce4b_11e7_bbf5_441ca8e274ferow0_col2\" class=\"data row0 col2\" >1</td> \n",
       "        <td id=\"T_e90ffcca_ce4b_11e7_bbf5_441ca8e274ferow0_col3\" class=\"data row0 col3\" >1</td> \n",
       "        <td id=\"T_e90ffcca_ce4b_11e7_bbf5_441ca8e274ferow0_col4\" class=\"data row0 col4\" >53</td> \n",
       "        <td id=\"T_e90ffcca_ce4b_11e7_bbf5_441ca8e274ferow0_col5\" class=\"data row0 col5\" >74</td> \n",
       "        <td id=\"T_e90ffcca_ce4b_11e7_bbf5_441ca8e274ferow0_col6\" class=\"data row0 col6\" >214</td> \n",
       "    </tr>    <tr> \n",
       "        <th id=\"T_e90ffcca_ce4b_11e7_bbf5_441ca8e274felevel0_row1\" class=\"row_heading level0 row1\" >2</th> \n",
       "        <td id=\"T_e90ffcca_ce4b_11e7_bbf5_441ca8e274ferow1_col0\" class=\"data row1 col0\" >8</td> \n",
       "        <td id=\"T_e90ffcca_ce4b_11e7_bbf5_441ca8e274ferow1_col1\" class=\"data row1 col1\" >9</td> \n",
       "        <td id=\"T_e90ffcca_ce4b_11e7_bbf5_441ca8e274ferow1_col2\" class=\"data row1 col2\" >1</td> \n",
       "        <td id=\"T_e90ffcca_ce4b_11e7_bbf5_441ca8e274ferow1_col3\" class=\"data row1 col3\" >2</td> \n",
       "        <td id=\"T_e90ffcca_ce4b_11e7_bbf5_441ca8e274ferow1_col4\" class=\"data row1 col4\" >88</td> \n",
       "        <td id=\"T_e90ffcca_ce4b_11e7_bbf5_441ca8e274ferow1_col5\" class=\"data row1 col5\" >76</td> \n",
       "        <td id=\"T_e90ffcca_ce4b_11e7_bbf5_441ca8e274ferow1_col6\" class=\"data row1 col6\" >184</td> \n",
       "    </tr>    <tr> \n",
       "        <th id=\"T_e90ffcca_ce4b_11e7_bbf5_441ca8e274felevel0_row2\" class=\"row_heading level0 row2\" >3</th> \n",
       "        <td id=\"T_e90ffcca_ce4b_11e7_bbf5_441ca8e274ferow2_col0\" class=\"data row2 col0\" >41</td> \n",
       "        <td id=\"T_e90ffcca_ce4b_11e7_bbf5_441ca8e274ferow2_col1\" class=\"data row2 col1\" >25</td> \n",
       "        <td id=\"T_e90ffcca_ce4b_11e7_bbf5_441ca8e274ferow2_col2\" class=\"data row2 col2\" >45</td> \n",
       "        <td id=\"T_e90ffcca_ce4b_11e7_bbf5_441ca8e274ferow2_col3\" class=\"data row2 col3\" >27</td> \n",
       "        <td id=\"T_e90ffcca_ce4b_11e7_bbf5_441ca8e274ferow2_col4\" class=\"data row2 col4\" >286</td> \n",
       "        <td id=\"T_e90ffcca_ce4b_11e7_bbf5_441ca8e274ferow2_col5\" class=\"data row2 col5\" >67</td> \n",
       "        <td id=\"T_e90ffcca_ce4b_11e7_bbf5_441ca8e274ferow2_col6\" class=\"data row2 col6\" >491</td> \n",
       "    </tr>    <tr> \n",
       "        <th id=\"T_e90ffcca_ce4b_11e7_bbf5_441ca8e274felevel0_row3\" class=\"row_heading level0 row3\" >All</th> \n",
       "        <td id=\"T_e90ffcca_ce4b_11e7_bbf5_441ca8e274ferow3_col0\" class=\"data row3 col0\" >75</td> \n",
       "        <td id=\"T_e90ffcca_ce4b_11e7_bbf5_441ca8e274ferow3_col1\" class=\"data row3 col1\" >93</td> \n",
       "        <td id=\"T_e90ffcca_ce4b_11e7_bbf5_441ca8e274ferow3_col2\" class=\"data row3 col2\" >47</td> \n",
       "        <td id=\"T_e90ffcca_ce4b_11e7_bbf5_441ca8e274ferow3_col3\" class=\"data row3 col3\" >30</td> \n",
       "        <td id=\"T_e90ffcca_ce4b_11e7_bbf5_441ca8e274ferow3_col4\" class=\"data row3 col4\" >427</td> \n",
       "        <td id=\"T_e90ffcca_ce4b_11e7_bbf5_441ca8e274ferow3_col5\" class=\"data row3 col5\" >217</td> \n",
       "        <td id=\"T_e90ffcca_ce4b_11e7_bbf5_441ca8e274ferow3_col6\" class=\"data row3 col6\" >889</td> \n",
       "    </tr></tbody> \n",
       "</table> "
      ],
      "text/plain": [
       "<pandas.io.formats.style.Styler at 0x19aaa42e7f0>"
      ]
     },
     "execution_count": 34,
     "metadata": {},
     "output_type": "execute_result"
    }
   ],
   "source": [
    "obs = pd.crosstab(df_train.Pclass, [df_train.Embarked,df_train.Survived],margins=True)\n",
    "obs.style.background_gradient(cmap='summer_r')"
   ]
  },
  {
   "cell_type": "markdown",
   "metadata": {},
   "source": [
    "When we compare passenger class with port of embarkation, we can see a possible explanation for why the survival rate for passengers who boarded at Cherbourg is higher than the other ports.  Over 50% of the passengers who boarded at Cherbourg were first class passengers, where only 20% of Southampton passengers and 2% of Queenstown passengers were in first class.  Given that there is a strong correlation between passenger class and survival rate, we would expect ports of embarkation with higher percentages of first and second class passengers to have higher survival rates."
   ]
  },
  {
   "cell_type": "markdown",
   "metadata": {},
   "source": [
    "<a id='2.2.3'></a>\n",
    "#### 2.2.3 Categorical Variables vs. Continuous Variables"
   ]
  },
  {
   "cell_type": "markdown",
   "metadata": {},
   "source": [
    "Now that we have looked at the correlations within and continuous variables and within categorical ariables, we still need to look at the correlations between continuous and categorical variables.  We can do this using T-Tests and ANOVA (depending on how many levels there are in the categorical variables).  This will tell us if there is a statistically significant difference between the mean values of the continuous variable for each level in the categorical variable.  \n",
    "\n",
    "One of the assumptions of the t-test is normally distributed data.  Age is distributed fairly normally, but as we pointed out eariler, SibSp, Parch, and ind_fare are all highly skewed.  In order to perform a t-test on this variables, they will first need to be transformed.  We can use the Box-Cox power transform.  There are lots of zero values for these variables though (and Box-Cox requires all values to be positive).  To get around this, we can simply add 1 to the values before taking the transform."
   ]
  },
  {
   "cell_type": "code",
   "execution_count": 35,
   "metadata": {
    "collapsed": true
   },
   "outputs": [],
   "source": [
    "from scipy.stats import boxcox, skew"
   ]
  },
  {
   "cell_type": "code",
   "execution_count": 36,
   "metadata": {
    "collapsed": false
   },
   "outputs": [
    {
     "data": {
      "text/plain": [
       "0.8072461220857793"
      ]
     },
     "execution_count": 36,
     "metadata": {},
     "output_type": "execute_result"
    },
    {
     "data": {
      "image/png": "[encoded data removed]",
      "text/plain": [
       "<matplotlib.figure.Figure at 0x19aac260fd0>"
      ]
     },
     "metadata": {},
     "output_type": "display_data"
    }
   ],
   "source": [
    "sns.distplot(boxcox(df_train.SibSp + 1)[0])\n",
    "skew(boxcox(df_train.SibSp + 1)[0])"
   ]
  },
  {
   "cell_type": "code",
   "execution_count": 37,
   "metadata": {
    "collapsed": false
   },
   "outputs": [
    {
     "data": {
      "text/plain": [
       "1.226725073614987"
      ]
     },
     "execution_count": 37,
     "metadata": {},
     "output_type": "execute_result"
    },
    {
     "data": {
      "image/png": "[encoded data removed]",
      "text/plain": [
       "<matplotlib.figure.Figure at 0x19aac2604a8>"
      ]
     },
     "metadata": {},
     "output_type": "display_data"
    }
   ],
   "source": [
    "sns.distplot(boxcox(df_train.Parch + 1)[0])\n",
    "skew(boxcox(df_train.Parch + 1)[0])"
   ]
  },
  {
   "cell_type": "code",
   "execution_count": 38,
   "metadata": {
    "collapsed": false,
    "scrolled": true
   },
   "outputs": [
    {
     "data": {
      "text/plain": [
       "-0.009679834776783459"
      ]
     },
     "execution_count": 38,
     "metadata": {},
     "output_type": "execute_result"
    },
    {
     "data": {
      "image/png": "[encoded data removed]",
      "text/plain": [
       "<matplotlib.figure.Figure at 0x19aac31b358>"
      ]
     },
     "metadata": {},
     "output_type": "display_data"
    }
   ],
   "source": [
    "sns.distplot(boxcox(df_train.ind_fare + 1)[0])\n",
    "skew(boxcox(df_train.ind_fare + 1)[0])"
   ]
  },
  {
   "cell_type": "markdown",
   "metadata": {},
   "source": [
    "The transformed ind_fare value is now distributed fairly normally.  Unfortunately, SibSp and Parch are still highly skewed after running Box-Cox.  We will need to figure out a different method of comparison for these two variables than t-tests/ANOVA.  Since these variables both just have a small number of integer values, perhaps we can treat them as ordinal variables instead of continuous variables."
   ]
  },
  {
   "cell_type": "markdown",
   "metadata": {},
   "source": [
    "Let's start by comparing each of the four continuous variables (Age, SibSp, Parch, and ind_fare) with the Survived variable."
   ]
  },
  {
   "cell_type": "code",
   "execution_count": 39,
   "metadata": {
    "collapsed": false
   },
   "outputs": [
    {
     "data": {
      "text/plain": [
       "Ttest_indResult(statistic=-2.0666869462538102, pvalue=0.039124654013482488)"
      ]
     },
     "execution_count": 39,
     "metadata": {},
     "output_type": "execute_result"
    }
   ],
   "source": [
    "survived = df_train[df_train.Survived == 1]\n",
    "died = df_train[df_train.Survived == 0]\n",
    "\n",
    "stats.ttest_ind(survived['Age'].dropna(), died['Age'].dropna())"
   ]
  },
  {
   "cell_type": "markdown",
   "metadata": {},
   "source": [
    "If we are to use an alpha of 0.05, there is a statistically significant relationship between age and survival rate.  The p-value is 0.039, which is slightly below the threshold.  \n",
    "\n",
    "For the remaining 3 varibles, we noted earlier that they are highly skewed.  Since one of the assumptions of the T-Test is normally distributed data, we will need to transform the data before performing a t-test on it."
   ]
  },
  {
   "cell_type": "code",
   "execution_count": 40,
   "metadata": {
    "collapsed": false
   },
   "outputs": [
    {
     "data": {
      "text/plain": [
       "Ttest_indResult(statistic=-6.507896995980313, pvalue=1.2716546373300425e-10)"
      ]
     },
     "execution_count": 40,
     "metadata": {},
     "output_type": "execute_result"
    }
   ],
   "source": [
    "stats.ttest_ind(boxcox(survived['ind_fare'].dropna() + 1)[0],\n",
    "                boxcox(died['ind_fare'].dropna() + 1)[0])"
   ]
  },
  {
   "cell_type": "markdown",
   "metadata": {},
   "source": [
    "When performing a t-test on the power-transformed version of ind_fare between the sample of people who survived and the sample who died, we get a p-value of 1.27e-10.  This is well below our alpha of 0.05 and therefore we can reject the null hypothesis that the mean values for these samples are the same.  There is statistically significant evidence that the mean fare for survivors and passengers who perished was not the same."
   ]
  },
  {
   "cell_type": "code",
   "execution_count": 41,
   "metadata": {
    "collapsed": false
   },
   "outputs": [
    {
     "data": {
      "text/plain": [
       "<matplotlib.legend.Legend at 0x19aac237c88>"
      ]
     },
     "execution_count": 41,
     "metadata": {},
     "output_type": "execute_result"
    },
    {
     "data": {
      "image/png": "[encoded data removed]",
      "text/plain": [
       "<matplotlib.figure.Figure at 0x19aaa46e978>"
      ]
     },
     "metadata": {},
     "output_type": "display_data"
    }
   ],
   "source": [
    "sns.countplot(x='SibSp',hue='Survived',data=df_train)\n",
    "plt.legend(loc=1)"
   ]
  },
  {
   "cell_type": "markdown",
   "metadata": {},
   "source": [
    "When breaking down the counts of survivors by number of siblings and spouses, there does not appear to be a strong relationship except for the case where SibSp is equal to 1.  Perhaps this is due to people with spouses ensuring that they get onto lifeboats.  We might consider binning this variable into values of 0, 1, and anything above 1."
   ]
  },
  {
   "cell_type": "code",
   "execution_count": 42,
   "metadata": {
    "collapsed": false
   },
   "outputs": [
    {
     "data": {
      "text/plain": [
       "<matplotlib.legend.Legend at 0x19aac34b588>"
      ]
     },
     "execution_count": 42,
     "metadata": {},
     "output_type": "execute_result"
    },
    {
     "data": {
      "image/png": "[encoded data removed]",
      "text/plain": [
       "<matplotlib.figure.Figure at 0x19aaa45cd30>"
      ]
     },
     "metadata": {},
     "output_type": "display_data"
    }
   ],
   "source": [
    "sns.countplot(x='Parch',hue='Survived',data=df_train)\n",
    "plt.legend(loc=1)"
   ]
  },
  {
   "cell_type": "markdown",
   "metadata": {},
   "source": [
    "It appears that people traveling with no parents or children had a much lower survival rate than people with any number of parents or children.  It might be fruitful to simply create a new binary feature to specify whether or not a passenger had any parents or children on board."
   ]
  },
  {
   "cell_type": "code",
   "execution_count": 43,
   "metadata": {
    "collapsed": false
   },
   "outputs": [
    {
     "data": {
      "text/plain": [
       "<matplotlib.axes._subplots.AxesSubplot at 0x19aac2a79e8>"
      ]
     },
     "execution_count": 43,
     "metadata": {},
     "output_type": "execute_result"
    },
    {
     "data": {
      "image/png": "[encoded data removed]",
      "text/plain": [
       "<matplotlib.figure.Figure at 0x19aabb4aeb8>"
      ]
     },
     "metadata": {},
     "output_type": "display_data"
    }
   ],
   "source": [
    "sns.boxplot(x='Pclass',y='Age',data=df_train)"
   ]
  },
  {
   "cell_type": "markdown",
   "metadata": {},
   "source": [
    "There appears to be a difference in mean age between passenger classes.  Let's dig a little deeper into that."
   ]
  },
  {
   "cell_type": "code",
   "execution_count": 44,
   "metadata": {
    "collapsed": false
   },
   "outputs": [
    {
     "data": {
      "text/plain": [
       "F_onewayResult(statistic=57.443484340676214, pvalue=7.4879841719599036e-24)"
      ]
     },
     "execution_count": 44,
     "metadata": {},
     "output_type": "execute_result"
    }
   ],
   "source": [
    "stats.f_oneway(df_train[df_train['Pclass'] == 1]['Age'].dropna(),\n",
    "              df_train[df_train['Pclass'] == 2]['Age'].dropna(),\n",
    "              df_train[df_train['Pclass'] == 3]['Age'].dropna())"
   ]
  },
  {
   "cell_type": "markdown",
   "metadata": {},
   "source": [
    "Our eyes did not deceive us.  When performing a one way ANOVA on the age of the three different passenger classes, we get a p value of 7.49e-24.  Therefore, we can reject the null hypothesis that the mean passenger age is the same among all three passenger classes."
   ]
  },
  {
   "cell_type": "code",
   "execution_count": 45,
   "metadata": {
    "collapsed": false,
    "scrolled": true
   },
   "outputs": [
    {
     "data": {
      "text/plain": [
       "Ttest_indResult(statistic=2.499206354920835, pvalue=0.012671296797013709)"
      ]
     },
     "execution_count": 45,
     "metadata": {},
     "output_type": "execute_result"
    },
    {
     "data": {
      "image/png": "[encoded data removed]",
      "text/plain": [
       "<matplotlib.figure.Figure at 0x19aabf12588>"
      ]
     },
     "metadata": {},
     "output_type": "display_data"
    }
   ],
   "source": [
    "sns.boxplot(x='Sex',y='Age',data=df_train)\n",
    "\n",
    "stats.ttest_ind(df_train[df_train['Sex'] == 'male']['Age'].dropna(),\n",
    "               df_train[df_train['Sex'] == 'female']['Age'].dropna())"
   ]
  },
  {
   "cell_type": "markdown",
   "metadata": {},
   "source": [
    "There does not appear to be much of a difference in age between male and female passengers when looking at the boxplot.  However, when performing a t-test, we get a p-value of 0.01.  This falls below our alpha of 0.05 and we can therefore reject the null hypothesis that the mean age is the same among male and female passengers."
   ]
  },
  {
   "cell_type": "code",
   "execution_count": 46,
   "metadata": {
    "collapsed": false
   },
   "outputs": [
    {
     "data": {
      "text/plain": [
       "F_onewayResult(statistic=0.63663981249102619, pvalue=0.52936937925710836)"
      ]
     },
     "execution_count": 46,
     "metadata": {},
     "output_type": "execute_result"
    },
    {
     "data": {
      "image/png": "[encoded data removed]",
      "text/plain": [
       "<matplotlib.figure.Figure at 0x19aac3a7eb8>"
      ]
     },
     "metadata": {},
     "output_type": "display_data"
    }
   ],
   "source": [
    "sns.boxplot(x='Embarked',y='Age',data=df_train)\n",
    "\n",
    "stats.f_oneway(df_train[df_train['Embarked'] == 'S']['Age'].dropna(),\n",
    "              df_train[df_train['Embarked'] == 'C']['Age'].dropna(),\n",
    "              df_train[df_train['Embarked'] == 'Q']['Age'].dropna())"
   ]
  },
  {
   "cell_type": "markdown",
   "metadata": {
    "collapsed": true
   },
   "source": [
    "The mean age does not appear to vary among the different ports embarkation when looking at the boxplot.  Running a one way ANOVA reinforces this finding, as we receive a p value of 0.55.  This is well above our alpha of 0.05, which means we cannot reject the null hypothesis that the mean age is the same among these three groups."
   ]
  },
  {
   "cell_type": "code",
   "execution_count": 47,
   "metadata": {
    "collapsed": false,
    "scrolled": true
   },
   "outputs": [
    {
     "data": {
      "text/plain": [
       "<matplotlib.axes._subplots.AxesSubplot at 0x19aac38b358>"
      ]
     },
     "execution_count": 47,
     "metadata": {},
     "output_type": "execute_result"
    },
    {
     "data": {
      "image/png": "[encoded data removed]",
      "text/plain": [
       "<matplotlib.figure.Figure at 0x19aaa629240>"
      ]
     },
     "metadata": {},
     "output_type": "display_data"
    }
   ],
   "source": [
    "sns.countplot(hue='Pclass',x='SibSp',data=df_train)"
   ]
  },
  {
   "cell_type": "markdown",
   "metadata": {
    "collapsed": true
   },
   "source": [
    "The majority of people with no siblings or spouses on board were third class passengers.  \n",
    "\n",
    "We can also see that almost all passengers with more than 2 siblings and spouses on board are third class passengers.  However, this could be due to the fact that there are so few passengers overall with that many siblings and spouses on board.  \n",
    "\n",
    "As mentioned earlier, binning the SibSp variable into values of 0, 1, and greater than 1 might be worthwhile.  Since this variable accounts for both spouses and siblings, it would stand to reason that many of the values of 1 are spouses, where almost all of the values greater than 1 are accounted for by siblings."
   ]
  },
  {
   "cell_type": "code",
   "execution_count": 48,
   "metadata": {
    "collapsed": false
   },
   "outputs": [
    {
     "data": {
      "text/plain": [
       "<matplotlib.axes._subplots.AxesSubplot at 0x19aac3feb00>"
      ]
     },
     "execution_count": 48,
     "metadata": {},
     "output_type": "execute_result"
    },
    {
     "data": {
      "image/png": "[encoded data removed]",
      "text/plain": [
       "<matplotlib.figure.Figure at 0x19aac435780>"
      ]
     },
     "metadata": {},
     "output_type": "display_data"
    }
   ],
   "source": [
    "sns.countplot(hue='Sex',x='SibSp',data=df_train)"
   ]
  },
  {
   "cell_type": "markdown",
   "metadata": {
    "collapsed": true
   },
   "source": [
    "Male and female passengers seem to be distributed fairly equally amond all numbers of siblings and spouses except for one.  Among people with no siblings or spouses on board, the vast majority are men."
   ]
  },
  {
   "cell_type": "code",
   "execution_count": 49,
   "metadata": {
    "collapsed": false,
    "scrolled": true
   },
   "outputs": [
    {
     "data": {
      "text/plain": [
       "<matplotlib.legend.Legend at 0x19aac469550>"
      ]
     },
     "execution_count": 49,
     "metadata": {},
     "output_type": "execute_result"
    },
    {
     "data": {
      "image/png": "[encoded data removed]",
      "text/plain": [
       "<matplotlib.figure.Figure at 0x19aac427780>"
      ]
     },
     "metadata": {},
     "output_type": "display_data"
    }
   ],
   "source": [
    "sns.countplot(hue='Embarked',x='SibSp',data=df_train)\n",
    "plt.legend(loc=1,title='Embarked')"
   ]
  },
  {
   "cell_type": "markdown",
   "metadata": {
    "collapsed": true
   },
   "source": [
    "There does not appear to be a relationship between port of embarkation and number of siblings and spouses."
   ]
  },
  {
   "cell_type": "code",
   "execution_count": 50,
   "metadata": {
    "collapsed": false
   },
   "outputs": [
    {
     "data": {
      "text/plain": [
       "<matplotlib.legend.Legend at 0x19aac4b58d0>"
      ]
     },
     "execution_count": 50,
     "metadata": {},
     "output_type": "execute_result"
    },
    {
     "data": {
      "image/png": "[encoded data removed]",
      "text/plain": [
       "<matplotlib.figure.Figure at 0x19aac2a77b8>"
      ]
     },
     "metadata": {},
     "output_type": "display_data"
    }
   ],
   "source": [
    "sns.countplot(hue='Pclass',x='Parch',data=df_train)\n",
    "plt.legend(loc=1,title='Pclass')"
   ]
  },
  {
   "cell_type": "markdown",
   "metadata": {},
   "source": [
    "There appears to be a higher percentage of third class passengers among those with no parents or children on board compared to other levels of the Parch variable.  \n",
    "\n",
    "Among passengers with 1 or 2 parents or children on board, the distribution of classes appears to be similar.  \n",
    "\n",
    "Due to the small number of passengers with more than 2 parents or children on board, it is difficult to draw any conclusions about class distribution among these passengers.  \n",
    "\n",
    "Similarly to SibSp, we may also want to bin the Parch variable.  Values of 0, 1 or 2, and greater than 2 seem to be reasonable given our observations."
   ]
  },
  {
   "cell_type": "code",
   "execution_count": 51,
   "metadata": {
    "collapsed": false
   },
   "outputs": [
    {
     "data": {
      "text/plain": [
       "<matplotlib.legend.Legend at 0x19aad4e4ac8>"
      ]
     },
     "execution_count": 51,
     "metadata": {},
     "output_type": "execute_result"
    },
    {
     "data": {
      "image/png": "[encoded data removed]",
      "text/plain": [
       "<matplotlib.figure.Figure at 0x19aad4c0c18>"
      ]
     },
     "metadata": {},
     "output_type": "display_data"
    }
   ],
   "source": [
    "sns.countplot(hue='Sex',x='Parch',data=df_train)\n",
    "plt.legend(loc=1,title='Sex')"
   ]
  },
  {
   "cell_type": "markdown",
   "metadata": {},
   "source": [
    "Once again, we see different distributions of age among passengers with Parch values of 0, 1 or 2, and greater than 2.  Passengers with no parents or children on board are mostly male.  Passengers with 1 or 2 parents and children on board are fairly equally distributed among men and women.  "
   ]
  },
  {
   "cell_type": "code",
   "execution_count": 52,
   "metadata": {
    "collapsed": false
   },
   "outputs": [
    {
     "data": {
      "text/plain": [
       "<matplotlib.legend.Legend at 0x19aad555240>"
      ]
     },
     "execution_count": 52,
     "metadata": {},
     "output_type": "execute_result"
    },
    {
     "data": {
      "image/png": "[encoded data removed]",
      "text/plain": [
       "<matplotlib.figure.Figure at 0x19aac4b5198>"
      ]
     },
     "metadata": {},
     "output_type": "display_data"
    }
   ],
   "source": [
    "sns.countplot(hue='Embarked',x='Parch',data=df_train)\n",
    "plt.legend(loc=1)"
   ]
  },
  {
   "cell_type": "markdown",
   "metadata": {
    "collapsed": true
   },
   "source": [
    "There does not appear to be much of a relationship between port of embarkation and number of parents and children on board."
   ]
  },
  {
   "cell_type": "code",
   "execution_count": 53,
   "metadata": {
    "collapsed": false
   },
   "outputs": [
    {
     "data": {
      "text/plain": [
       "F_onewayResult(statistic=854.69507739695473, pvalue=1.0986122259774717e-207)"
      ]
     },
     "execution_count": 53,
     "metadata": {},
     "output_type": "execute_result"
    },
    {
     "data": {
      "image/png": "[encoded data removed]",
      "text/plain": [
       "<matplotlib.figure.Figure at 0x19aad57bdd8>"
      ]
     },
     "metadata": {},
     "output_type": "display_data"
    }
   ],
   "source": [
    "sns.boxplot(x='Pclass',y='ind_fare',data=df_train)\n",
    "\n",
    "stats.f_oneway(df_train[df_train['Pclass'] == 1]['ind_fare'].dropna(),\n",
    "              df_train[df_train['Pclass'] == 2]['ind_fare'].dropna(),\n",
    "              df_train[df_train['Pclass'] == 3]['ind_fare'].dropna())"
   ]
  },
  {
   "cell_type": "markdown",
   "metadata": {
    "collapsed": true
   },
   "source": [
    "It is very clear that there is a strong relationship between passenger class and fare.  This makes sense, as we would expect higher class tickets to cost more.  We will only want to include one of these variables in our model to reduce multicollinearity.  Failing to do so would result in an overly sensitive model that would not generalize well to new data."
   ]
  },
  {
   "cell_type": "code",
   "execution_count": 54,
   "metadata": {
    "collapsed": false
   },
   "outputs": [
    {
     "data": {
      "text/plain": [
       "Ttest_indResult(statistic=-3.434388107759534, pvalue=0.00062135756521504481)"
      ]
     },
     "execution_count": 54,
     "metadata": {},
     "output_type": "execute_result"
    },
    {
     "data": {
      "image/png": "[encoded data removed]",
      "text/plain": [
       "<matplotlib.figure.Figure at 0x19aad537c50>"
      ]
     },
     "metadata": {},
     "output_type": "display_data"
    }
   ],
   "source": [
    "sns.boxplot(x='Sex',y='ind_fare',data=df_train)\n",
    "\n",
    "stats.ttest_ind(df_train[df_train['Sex'] == 'male']['ind_fare'].dropna(),\n",
    "               df_train[df_train['Sex'] == 'female']['ind_fare'].dropna())"
   ]
  },
  {
   "cell_type": "markdown",
   "metadata": {
    "collapsed": true
   },
   "source": [
    "We can see that the mean fare for female passengers is higher than for male passengers.  Female passengers also have a wider variance in fare than male passengers.  These findings are most likely related to the large percentage of males among third class passengers that we observed earlier."
   ]
  },
  {
   "cell_type": "code",
   "execution_count": 55,
   "metadata": {
    "collapsed": false,
    "scrolled": true
   },
   "outputs": [
    {
     "data": {
      "text/plain": [
       "F_onewayResult(statistic=60.125193832907314, pvalue=3.2685407943128892e-25)"
      ]
     },
     "execution_count": 55,
     "metadata": {},
     "output_type": "execute_result"
    },
    {
     "data": {
      "image/png": "[encoded data removed]",
      "text/plain": [
       "<matplotlib.figure.Figure at 0x19aad63def0>"
      ]
     },
     "metadata": {},
     "output_type": "display_data"
    }
   ],
   "source": [
    "sns.boxplot(x='Embarked',y='ind_fare',data=df_train)\n",
    "\n",
    "stats.f_oneway(df_train[df_train['Embarked'] == 'S']['ind_fare'].dropna(),\n",
    "              df_train[df_train['Embarked'] == 'C']['ind_fare'].dropna(),\n",
    "              df_train[df_train['Embarked'] == 'Q']['ind_fare'].dropna())"
   ]
  },
  {
   "cell_type": "markdown",
   "metadata": {
    "collapsed": true
   },
   "source": [
    "We can see that there is a strong relationship between port of embarkation and fare.  This makes sense given our earlier findings that a large percentage of Cherbourg passengers were first class, almost all Queenstown passengers were third class, and there were significant numbers of all three classes among Southampton passengers."
   ]
  },
  {
   "cell_type": "markdown",
   "metadata": {},
   "source": [
    "---\n",
    "<a id='3'></a>\n",
    "## 3 Missing Value Treatment"
   ]
  },
  {
   "cell_type": "markdown",
   "metadata": {},
   "source": [
    "We saw earlier that there are some missing values in this dataset.  Let's take a look at the null counts in the dataframe to see which columns we will need to treat."
   ]
  },
  {
   "cell_type": "code",
   "execution_count": 56,
   "metadata": {
    "collapsed": false
   },
   "outputs": [
    {
     "data": {
      "text/plain": [
       "PassengerId     0.000000\n",
       "Survived        0.000000\n",
       "Pclass          0.000000\n",
       "Name            0.000000\n",
       "Sex             0.000000\n",
       "Age             0.198653\n",
       "SibSp           0.000000\n",
       "Parch           0.000000\n",
       "Ticket          0.000000\n",
       "Fare            0.000000\n",
       "Cabin           0.771044\n",
       "Embarked        0.002245\n",
       "clean_ticket    0.000000\n",
       "ind_fare        0.000000\n",
       "dtype: float64"
      ]
     },
     "execution_count": 56,
     "metadata": {},
     "output_type": "execute_result"
    }
   ],
   "source": [
    "df_train.isnull().sum()/len(df_train)"
   ]
  },
  {
   "cell_type": "code",
   "execution_count": 57,
   "metadata": {
    "collapsed": false,
    "scrolled": true
   },
   "outputs": [
    {
     "data": {
      "text/plain": [
       "PassengerId       0\n",
       "Survived          0\n",
       "Pclass            0\n",
       "Name              0\n",
       "Sex               0\n",
       "Age             177\n",
       "SibSp             0\n",
       "Parch             0\n",
       "Ticket            0\n",
       "Fare              0\n",
       "Cabin           687\n",
       "Embarked          2\n",
       "clean_ticket      0\n",
       "ind_fare          0\n",
       "dtype: int64"
      ]
     },
     "execution_count": 57,
     "metadata": {},
     "output_type": "execute_result"
    }
   ],
   "source": [
    "df_train.isnull().sum()"
   ]
  },
  {
   "cell_type": "code",
   "execution_count": 58,
   "metadata": {
    "collapsed": false
   },
   "outputs": [
    {
     "data": {
      "text/plain": [
       "<matplotlib.axes._subplots.AxesSubplot at 0x19aad685f98>"
      ]
     },
     "execution_count": 58,
     "metadata": {},
     "output_type": "execute_result"
    },
    {
     "data": {
      "image/png": "[encoded data removed]",
      "text/plain": [
       "<matplotlib.figure.Figure at 0x19aad548470>"
      ]
     },
     "metadata": {},
     "output_type": "display_data"
    }
   ],
   "source": [
    "sns.heatmap(df_train.isnull(),yticklabels=False,cbar=False,cmap='viridis')"
   ]
  },
  {
   "cell_type": "markdown",
   "metadata": {},
   "source": [
    "The Age, Cabin, and Embarked columns have missing values that we will need to deal with.  \n",
    "\n",
    "There are only two missing values for the Embarked feature, so let's take a look at those first."
   ]
  },
  {
   "cell_type": "code",
   "execution_count": 59,
   "metadata": {
    "collapsed": false
   },
   "outputs": [
    {
     "data": {
      "text/html": [
       "<div>\n",
       "<style scoped>\n",
       "    .dataframe tbody tr th:only-of-type {\n",
       "        vertical-align: middle;\n",
       "    }\n",
       "\n",
       "    .dataframe tbody tr th {\n",
       "        vertical-align: top;\n",
       "    }\n",
       "\n",
       "    .dataframe thead th {\n",
       "        text-align: right;\n",
       "    }\n",
       "</style>\n",
       "<table border=\"1\" class=\"dataframe\">\n",
       "  <thead>\n",
       "    <tr style=\"text-align: right;\">\n",
       "      <th></th>\n",
       "      <th>PassengerId</th>\n",
       "      <th>Survived</th>\n",
       "      <th>Pclass</th>\n",
       "      <th>Name</th>\n",
       "      <th>Sex</th>\n",
       "      <th>Age</th>\n",
       "      <th>SibSp</th>\n",
       "      <th>Parch</th>\n",
       "      <th>Ticket</th>\n",
       "      <th>Fare</th>\n",
       "      <th>Cabin</th>\n",
       "      <th>Embarked</th>\n",
       "      <th>clean_ticket</th>\n",
       "      <th>ind_fare</th>\n",
       "    </tr>\n",
       "  </thead>\n",
       "  <tbody>\n",
       "    <tr>\n",
       "      <th>61</th>\n",
       "      <td>62</td>\n",
       "      <td>1</td>\n",
       "      <td>1</td>\n",
       "      <td>Icard, Miss. Amelie</td>\n",
       "      <td>female</td>\n",
       "      <td>38.0</td>\n",
       "      <td>0</td>\n",
       "      <td>0</td>\n",
       "      <td>113572</td>\n",
       "      <td>80.0</td>\n",
       "      <td>B28</td>\n",
       "      <td>NaN</td>\n",
       "      <td>113572</td>\n",
       "      <td>40.0</td>\n",
       "    </tr>\n",
       "    <tr>\n",
       "      <th>829</th>\n",
       "      <td>830</td>\n",
       "      <td>1</td>\n",
       "      <td>1</td>\n",
       "      <td>Stone, Mrs. George Nelson (Martha Evelyn)</td>\n",
       "      <td>female</td>\n",
       "      <td>62.0</td>\n",
       "      <td>0</td>\n",
       "      <td>0</td>\n",
       "      <td>113572</td>\n",
       "      <td>80.0</td>\n",
       "      <td>B28</td>\n",
       "      <td>NaN</td>\n",
       "      <td>113572</td>\n",
       "      <td>40.0</td>\n",
       "    </tr>\n",
       "  </tbody>\n",
       "</table>\n",
       "</div>"
      ],
      "text/plain": [
       "     PassengerId  Survived  Pclass                                       Name  \\\n",
       "61            62         1       1                        Icard, Miss. Amelie   \n",
       "829          830         1       1  Stone, Mrs. George Nelson (Martha Evelyn)   \n",
       "\n",
       "        Sex   Age  SibSp  Parch  Ticket  Fare Cabin Embarked clean_ticket  \\\n",
       "61   female  38.0      0      0  113572  80.0   B28      NaN       113572   \n",
       "829  female  62.0      0      0  113572  80.0   B28      NaN       113572   \n",
       "\n",
       "     ind_fare  \n",
       "61       40.0  \n",
       "829      40.0  "
      ]
     },
     "execution_count": 59,
     "metadata": {},
     "output_type": "execute_result"
    }
   ],
   "source": [
    "df_train[df_train['Embarked'].isnull()]"
   ]
  },
  {
   "cell_type": "markdown",
   "metadata": {},
   "source": [
    "It appears that both passengers with null values for the Embarked variable have the same ticket number.  Let's see if there are any other passengers with that ticket number.  If there are, we can assume that these passengers boarded at the same port."
   ]
  },
  {
   "cell_type": "code",
   "execution_count": 60,
   "metadata": {
    "collapsed": false,
    "scrolled": false
   },
   "outputs": [
    {
     "data": {
      "text/html": [
       "<div>\n",
       "<style scoped>\n",
       "    .dataframe tbody tr th:only-of-type {\n",
       "        vertical-align: middle;\n",
       "    }\n",
       "\n",
       "    .dataframe tbody tr th {\n",
       "        vertical-align: top;\n",
       "    }\n",
       "\n",
       "    .dataframe thead th {\n",
       "        text-align: right;\n",
       "    }\n",
       "</style>\n",
       "<table border=\"1\" class=\"dataframe\">\n",
       "  <thead>\n",
       "    <tr style=\"text-align: right;\">\n",
       "      <th></th>\n",
       "      <th>PassengerId</th>\n",
       "      <th>Survived</th>\n",
       "      <th>Pclass</th>\n",
       "      <th>Name</th>\n",
       "      <th>Sex</th>\n",
       "      <th>Age</th>\n",
       "      <th>SibSp</th>\n",
       "      <th>Parch</th>\n",
       "      <th>Ticket</th>\n",
       "      <th>Fare</th>\n",
       "      <th>Cabin</th>\n",
       "      <th>Embarked</th>\n",
       "      <th>clean_ticket</th>\n",
       "      <th>ind_fare</th>\n",
       "    </tr>\n",
       "  </thead>\n",
       "  <tbody>\n",
       "    <tr>\n",
       "      <th>61</th>\n",
       "      <td>62</td>\n",
       "      <td>1</td>\n",
       "      <td>1</td>\n",
       "      <td>Icard, Miss. Amelie</td>\n",
       "      <td>female</td>\n",
       "      <td>38.0</td>\n",
       "      <td>0</td>\n",
       "      <td>0</td>\n",
       "      <td>113572</td>\n",
       "      <td>80.0</td>\n",
       "      <td>B28</td>\n",
       "      <td>NaN</td>\n",
       "      <td>113572</td>\n",
       "      <td>40.0</td>\n",
       "    </tr>\n",
       "    <tr>\n",
       "      <th>829</th>\n",
       "      <td>830</td>\n",
       "      <td>1</td>\n",
       "      <td>1</td>\n",
       "      <td>Stone, Mrs. George Nelson (Martha Evelyn)</td>\n",
       "      <td>female</td>\n",
       "      <td>62.0</td>\n",
       "      <td>0</td>\n",
       "      <td>0</td>\n",
       "      <td>113572</td>\n",
       "      <td>80.0</td>\n",
       "      <td>B28</td>\n",
       "      <td>NaN</td>\n",
       "      <td>113572</td>\n",
       "      <td>40.0</td>\n",
       "    </tr>\n",
       "  </tbody>\n",
       "</table>\n",
       "</div>"
      ],
      "text/plain": [
       "     PassengerId  Survived  Pclass                                       Name  \\\n",
       "61            62         1       1                        Icard, Miss. Amelie   \n",
       "829          830         1       1  Stone, Mrs. George Nelson (Martha Evelyn)   \n",
       "\n",
       "        Sex   Age  SibSp  Parch  Ticket  Fare Cabin Embarked clean_ticket  \\\n",
       "61   female  38.0      0      0  113572  80.0   B28      NaN       113572   \n",
       "829  female  62.0      0      0  113572  80.0   B28      NaN       113572   \n",
       "\n",
       "     ind_fare  \n",
       "61       40.0  \n",
       "829      40.0  "
      ]
     },
     "execution_count": 60,
     "metadata": {},
     "output_type": "execute_result"
    }
   ],
   "source": [
    "df_train[df_train['clean_ticket'] == '113572']"
   ]
  },
  {
   "cell_type": "markdown",
   "metadata": {},
   "source": [
    "Unfortunately these are the only two passengers with that ticket number.  \n",
    "\n",
    "Let's take another look at the distribution of passengers among the three ports."
   ]
  },
  {
   "cell_type": "code",
   "execution_count": 61,
   "metadata": {
    "collapsed": false
   },
   "outputs": [
    {
     "data": {
      "text/plain": [
       "<matplotlib.axes._subplots.AxesSubplot at 0x19aac3eafd0>"
      ]
     },
     "execution_count": 61,
     "metadata": {},
     "output_type": "execute_result"
    },
    {
     "data": {
      "image/png": "[encoded data removed]",
      "text/plain": [
       "<matplotlib.figure.Figure at 0x19aad67cda0>"
      ]
     },
     "metadata": {},
     "output_type": "display_data"
    }
   ],
   "source": [
    "sns.countplot(x='Embarked',data=df_train)"
   ]
  },
  {
   "cell_type": "markdown",
   "metadata": {},
   "source": [
    "Given that the vast majority of the passengers embarked at Southampton and we only have two records missing values for this feature, we will simply assign a value of 'S' to both of these records."
   ]
  },
  {
   "cell_type": "code",
   "execution_count": 62,
   "metadata": {
    "collapsed": false
   },
   "outputs": [],
   "source": [
    "df_train['Embarked'].fillna('S',inplace=True)"
   ]
  },
  {
   "cell_type": "markdown",
   "metadata": {},
   "source": [
    "Now let's deal with the missing Cabin values.  Given that 77% of the passengers do not have a Cabin value, we will just drop this column for now.  It's possible that we might be able to derive some information from the data that is in this column (e.g. determining area of the boat), but we will leave that as possible future work."
   ]
  },
  {
   "cell_type": "code",
   "execution_count": 63,
   "metadata": {
    "collapsed": false
   },
   "outputs": [],
   "source": [
    "df_train.drop(labels='Cabin',axis=1,inplace=True)"
   ]
  },
  {
   "cell_type": "markdown",
   "metadata": {},
   "source": [
    "The final column that needs to be treated is the Age column.  Assuming that the missing values are missing at random, we can use multiple imputation.  We will do this using fancyimpute's MICE (multiple imputation by chained equations) functionality."
   ]
  },
  {
   "cell_type": "code",
   "execution_count": 64,
   "metadata": {
    "collapsed": true
   },
   "outputs": [],
   "source": [
    "from fancyimpute import MICE"
   ]
  },
  {
   "cell_type": "markdown",
   "metadata": {},
   "source": [
    "Before imputing the data, we need to reformat the dataframe so that all values are numeric.  We will create dummy variables for the Sex and Embarked.  For now, we will not include any of the variables that we don't want to use in the imputation (Survived, PassengerID, Name, and Ticket)."
   ]
  },
  {
   "cell_type": "code",
   "execution_count": 65,
   "metadata": {
    "collapsed": false
   },
   "outputs": [],
   "source": [
    "df_train_missing = pd.get_dummies(df_train[['Pclass','Sex','Age','SibSp','Parch','Embarked','ind_fare']].copy(),drop_first=True)"
   ]
  },
  {
   "cell_type": "code",
   "execution_count": 66,
   "metadata": {
    "collapsed": false
   },
   "outputs": [
    {
     "data": {
      "text/html": [
       "<div>\n",
       "<style scoped>\n",
       "    .dataframe tbody tr th:only-of-type {\n",
       "        vertical-align: middle;\n",
       "    }\n",
       "\n",
       "    .dataframe tbody tr th {\n",
       "        vertical-align: top;\n",
       "    }\n",
       "\n",
       "    .dataframe thead th {\n",
       "        text-align: right;\n",
       "    }\n",
       "</style>\n",
       "<table border=\"1\" class=\"dataframe\">\n",
       "  <thead>\n",
       "    <tr style=\"text-align: right;\">\n",
       "      <th></th>\n",
       "      <th>Pclass</th>\n",
       "      <th>Age</th>\n",
       "      <th>SibSp</th>\n",
       "      <th>Parch</th>\n",
       "      <th>ind_fare</th>\n",
       "      <th>Sex_male</th>\n",
       "      <th>Embarked_Q</th>\n",
       "      <th>Embarked_S</th>\n",
       "    </tr>\n",
       "  </thead>\n",
       "  <tbody>\n",
       "    <tr>\n",
       "      <th>0</th>\n",
       "      <td>3</td>\n",
       "      <td>22.0</td>\n",
       "      <td>1</td>\n",
       "      <td>0</td>\n",
       "      <td>7.25000</td>\n",
       "      <td>1</td>\n",
       "      <td>0</td>\n",
       "      <td>1</td>\n",
       "    </tr>\n",
       "    <tr>\n",
       "      <th>1</th>\n",
       "      <td>1</td>\n",
       "      <td>38.0</td>\n",
       "      <td>1</td>\n",
       "      <td>0</td>\n",
       "      <td>35.64165</td>\n",
       "      <td>0</td>\n",
       "      <td>0</td>\n",
       "      <td>0</td>\n",
       "    </tr>\n",
       "    <tr>\n",
       "      <th>2</th>\n",
       "      <td>3</td>\n",
       "      <td>26.0</td>\n",
       "      <td>0</td>\n",
       "      <td>0</td>\n",
       "      <td>7.92500</td>\n",
       "      <td>0</td>\n",
       "      <td>0</td>\n",
       "      <td>1</td>\n",
       "    </tr>\n",
       "    <tr>\n",
       "      <th>3</th>\n",
       "      <td>1</td>\n",
       "      <td>35.0</td>\n",
       "      <td>1</td>\n",
       "      <td>0</td>\n",
       "      <td>26.55000</td>\n",
       "      <td>0</td>\n",
       "      <td>0</td>\n",
       "      <td>1</td>\n",
       "    </tr>\n",
       "    <tr>\n",
       "      <th>4</th>\n",
       "      <td>3</td>\n",
       "      <td>35.0</td>\n",
       "      <td>0</td>\n",
       "      <td>0</td>\n",
       "      <td>8.05000</td>\n",
       "      <td>1</td>\n",
       "      <td>0</td>\n",
       "      <td>1</td>\n",
       "    </tr>\n",
       "  </tbody>\n",
       "</table>\n",
       "</div>"
      ],
      "text/plain": [
       "   Pclass   Age  SibSp  Parch  ind_fare  Sex_male  Embarked_Q  Embarked_S\n",
       "0       3  22.0      1      0   7.25000         1           0           1\n",
       "1       1  38.0      1      0  35.64165         0           0           0\n",
       "2       3  26.0      0      0   7.92500         0           0           1\n",
       "3       1  35.0      1      0  26.55000         0           0           1\n",
       "4       3  35.0      0      0   8.05000         1           0           1"
      ]
     },
     "execution_count": 66,
     "metadata": {},
     "output_type": "execute_result"
    }
   ],
   "source": [
    "df_train_missing.head()"
   ]
  },
  {
   "cell_type": "markdown",
   "metadata": {},
   "source": [
    "We can see that the new dataframe contains all numeric values.  We can now use the MICE package to perform multiple imputation on the Age column.  To do this, we need to convert the dataframe to a numpy array."
   ]
  },
  {
   "cell_type": "code",
   "execution_count": 67,
   "metadata": {
    "collapsed": false
   },
   "outputs": [
    {
     "name": "stdout",
     "output_type": "stream",
     "text": [
      "[MICE] Completing matrix with shape (891, 8)\n",
      "[MICE] Starting imputation round 1/110, elapsed time 0.001\n",
      "[MICE] Starting imputation round 2/110, elapsed time 0.001\n",
      "[MICE] Starting imputation round 3/110, elapsed time 0.002\n",
      "[MICE] Starting imputation round 4/110, elapsed time 0.003\n",
      "[MICE] Starting imputation round 5/110, elapsed time 0.004\n",
      "[MICE] Starting imputation round 6/110, elapsed time 0.004\n",
      "[MICE] Starting imputation round 7/110, elapsed time 0.005\n",
      "[MICE] Starting imputation round 8/110, elapsed time 0.006\n",
      "[MICE] Starting imputation round 9/110, elapsed time 0.006\n",
      "[MICE] Starting imputation round 10/110, elapsed time 0.007\n",
      "[MICE] Starting imputation round 11/110, elapsed time 0.007\n",
      "[MICE] Starting imputation round 12/110, elapsed time 0.008\n",
      "[MICE] Starting imputation round 13/110, elapsed time 0.009\n",
      "[MICE] Starting imputation round 14/110, elapsed time 0.009\n",
      "[MICE] Starting imputation round 15/110, elapsed time 0.010\n",
      "[MICE] Starting imputation round 16/110, elapsed time 0.011\n",
      "[MICE] Starting imputation round 17/110, elapsed time 0.012\n",
      "[MICE] Starting imputation round 18/110, elapsed time 0.013\n",
      "[MICE] Starting imputation round 19/110, elapsed time 0.013\n",
      "[MICE] Starting imputation round 20/110, elapsed time 0.014\n",
      "[MICE] Starting imputation round 21/110, elapsed time 0.014\n",
      "[MICE] Starting imputation round 22/110, elapsed time 0.015\n",
      "[MICE] Starting imputation round 23/110, elapsed time 0.015\n",
      "[MICE] Starting imputation round 24/110, elapsed time 0.016\n",
      "[MICE] Starting imputation round 25/110, elapsed time 0.017\n",
      "[MICE] Starting imputation round 26/110, elapsed time 0.017\n",
      "[MICE] Starting imputation round 27/110, elapsed time 0.018\n",
      "[MICE] Starting imputation round 28/110, elapsed time 0.019\n",
      "[MICE] Starting imputation round 29/110, elapsed time 0.020\n",
      "[MICE] Starting imputation round 30/110, elapsed time 0.020\n",
      "[MICE] Starting imputation round 31/110, elapsed time 0.021\n",
      "[MICE] Starting imputation round 32/110, elapsed time 0.022\n",
      "[MICE] Starting imputation round 33/110, elapsed time 0.023\n",
      "[MICE] Starting imputation round 34/110, elapsed time 0.024\n",
      "[MICE] Starting imputation round 35/110, elapsed time 0.024\n",
      "[MICE] Starting imputation round 36/110, elapsed time 0.025\n",
      "[MICE] Starting imputation round 37/110, elapsed time 0.025\n",
      "[MICE] Starting imputation round 38/110, elapsed time 0.026\n",
      "[MICE] Starting imputation round 39/110, elapsed time 0.027\n",
      "[MICE] Starting imputation round 40/110, elapsed time 0.027\n",
      "[MICE] Starting imputation round 41/110, elapsed time 0.028\n",
      "[MICE] Starting imputation round 42/110, elapsed time 0.029\n",
      "[MICE] Starting imputation round 43/110, elapsed time 0.030\n",
      "[MICE] Starting imputation round 44/110, elapsed time 0.031\n",
      "[MICE] Starting imputation round 45/110, elapsed time 0.031\n",
      "[MICE] Starting imputation round 46/110, elapsed time 0.032\n",
      "[MICE] Starting imputation round 47/110, elapsed time 0.033\n",
      "[MICE] Starting imputation round 48/110, elapsed time 0.034\n",
      "[MICE] Starting imputation round 49/110, elapsed time 0.034\n",
      "[MICE] Starting imputation round 50/110, elapsed time 0.035\n",
      "[MICE] Starting imputation round 51/110, elapsed time 0.035\n",
      "[MICE] Starting imputation round 52/110, elapsed time 0.036\n",
      "[MICE] Starting imputation round 53/110, elapsed time 0.036\n",
      "[MICE] Starting imputation round 54/110, elapsed time 0.037\n",
      "[MICE] Starting imputation round 55/110, elapsed time 0.038\n",
      "[MICE] Starting imputation round 56/110, elapsed time 0.038\n",
      "[MICE] Starting imputation round 57/110, elapsed time 0.039\n",
      "[MICE] Starting imputation round 58/110, elapsed time 0.039\n",
      "[MICE] Starting imputation round 59/110, elapsed time 0.040\n",
      "[MICE] Starting imputation round 60/110, elapsed time 0.040\n",
      "[MICE] Starting imputation round 61/110, elapsed time 0.041\n",
      "[MICE] Starting imputation round 62/110, elapsed time 0.041\n",
      "[MICE] Starting imputation round 63/110, elapsed time 0.042\n",
      "[MICE] Starting imputation round 64/110, elapsed time 0.042\n",
      "[MICE] Starting imputation round 65/110, elapsed time 0.043\n",
      "[MICE] Starting imputation round 66/110, elapsed time 0.043\n",
      "[MICE] Starting imputation round 67/110, elapsed time 0.044\n",
      "[MICE] Starting imputation round 68/110, elapsed time 0.045\n",
      "[MICE] Starting imputation round 69/110, elapsed time 0.045\n",
      "[MICE] Starting imputation round 70/110, elapsed time 0.046\n",
      "[MICE] Starting imputation round 71/110, elapsed time 0.047\n",
      "[MICE] Starting imputation round 72/110, elapsed time 0.047\n",
      "[MICE] Starting imputation round 73/110, elapsed time 0.048\n",
      "[MICE] Starting imputation round 74/110, elapsed time 0.049\n",
      "[MICE] Starting imputation round 75/110, elapsed time 0.049\n",
      "[MICE] Starting imputation round 76/110, elapsed time 0.050\n",
      "[MICE] Starting imputation round 77/110, elapsed time 0.050\n",
      "[MICE] Starting imputation round 78/110, elapsed time 0.051\n",
      "[MICE] Starting imputation round 79/110, elapsed time 0.052\n",
      "[MICE] Starting imputation round 80/110, elapsed time 0.052\n",
      "[MICE] Starting imputation round 81/110, elapsed time 0.053\n",
      "[MICE] Starting imputation round 82/110, elapsed time 0.054\n",
      "[MICE] Starting imputation round 83/110, elapsed time 0.055\n",
      "[MICE] Starting imputation round 84/110, elapsed time 0.055\n",
      "[MICE] Starting imputation round 85/110, elapsed time 0.056\n",
      "[MICE] Starting imputation round 86/110, elapsed time 0.056\n",
      "[MICE] Starting imputation round 87/110, elapsed time 0.057\n",
      "[MICE] Starting imputation round 88/110, elapsed time 0.057\n",
      "[MICE] Starting imputation round 89/110, elapsed time 0.058\n",
      "[MICE] Starting imputation round 90/110, elapsed time 0.058\n",
      "[MICE] Starting imputation round 91/110, elapsed time 0.059\n",
      "[MICE] Starting imputation round 92/110, elapsed time 0.059\n",
      "[MICE] Starting imputation round 93/110, elapsed time 0.060\n",
      "[MICE] Starting imputation round 94/110, elapsed time 0.060\n",
      "[MICE] Starting imputation round 95/110, elapsed time 0.061\n",
      "[MICE] Starting imputation round 96/110, elapsed time 0.061\n",
      "[MICE] Starting imputation round 97/110, elapsed time 0.062\n",
      "[MICE] Starting imputation round 98/110, elapsed time 0.062\n",
      "[MICE] Starting imputation round 99/110, elapsed time 0.063\n",
      "[MICE] Starting imputation round 100/110, elapsed time 0.064\n",
      "[MICE] Starting imputation round 101/110, elapsed time 0.064\n",
      "[MICE] Starting imputation round 102/110, elapsed time 0.065\n",
      "[MICE] Starting imputation round 103/110, elapsed time 0.065\n",
      "[MICE] Starting imputation round 104/110, elapsed time 0.066\n",
      "[MICE] Starting imputation round 105/110, elapsed time 0.066\n",
      "[MICE] Starting imputation round 106/110, elapsed time 0.067\n",
      "[MICE] Starting imputation round 107/110, elapsed time 0.067\n",
      "[MICE] Starting imputation round 108/110, elapsed time 0.068\n",
      "[MICE] Starting imputation round 109/110, elapsed time 0.068\n",
      "[MICE] Starting imputation round 110/110, elapsed time 0.069\n"
     ]
    }
   ],
   "source": [
    "df_train_imp = MICE().complete(np.asarray(df_train_missing))"
   ]
  },
  {
   "cell_type": "markdown",
   "metadata": {},
   "source": [
    "The imputation appears to have run successfully.  Fancyimpute returns a numpy array though, so we will need to convert this back to a Pandas dataframe and reset the column names.  We will also add the PassengerId and Survived columns back on."
   ]
  },
  {
   "cell_type": "code",
   "execution_count": 68,
   "metadata": {
    "collapsed": false
   },
   "outputs": [
    {
     "data": {
      "text/html": [
       "<div>\n",
       "<style scoped>\n",
       "    .dataframe tbody tr th:only-of-type {\n",
       "        vertical-align: middle;\n",
       "    }\n",
       "\n",
       "    .dataframe tbody tr th {\n",
       "        vertical-align: top;\n",
       "    }\n",
       "\n",
       "    .dataframe thead th {\n",
       "        text-align: right;\n",
       "    }\n",
       "</style>\n",
       "<table border=\"1\" class=\"dataframe\">\n",
       "  <thead>\n",
       "    <tr style=\"text-align: right;\">\n",
       "      <th></th>\n",
       "      <th>PassengerId</th>\n",
       "      <th>Survived</th>\n",
       "      <th>Pclass</th>\n",
       "      <th>Age</th>\n",
       "      <th>SibSp</th>\n",
       "      <th>Parch</th>\n",
       "      <th>ind_fare</th>\n",
       "      <th>Sex_male</th>\n",
       "      <th>Embarked_Q</th>\n",
       "      <th>Embarked_S</th>\n",
       "    </tr>\n",
       "  </thead>\n",
       "  <tbody>\n",
       "    <tr>\n",
       "      <th>0</th>\n",
       "      <td>1</td>\n",
       "      <td>0</td>\n",
       "      <td>3.0</td>\n",
       "      <td>22.0</td>\n",
       "      <td>1.0</td>\n",
       "      <td>0.0</td>\n",
       "      <td>7.25000</td>\n",
       "      <td>1.0</td>\n",
       "      <td>0.0</td>\n",
       "      <td>1.0</td>\n",
       "    </tr>\n",
       "    <tr>\n",
       "      <th>1</th>\n",
       "      <td>2</td>\n",
       "      <td>1</td>\n",
       "      <td>1.0</td>\n",
       "      <td>38.0</td>\n",
       "      <td>1.0</td>\n",
       "      <td>0.0</td>\n",
       "      <td>35.64165</td>\n",
       "      <td>0.0</td>\n",
       "      <td>0.0</td>\n",
       "      <td>0.0</td>\n",
       "    </tr>\n",
       "    <tr>\n",
       "      <th>2</th>\n",
       "      <td>3</td>\n",
       "      <td>1</td>\n",
       "      <td>3.0</td>\n",
       "      <td>26.0</td>\n",
       "      <td>0.0</td>\n",
       "      <td>0.0</td>\n",
       "      <td>7.92500</td>\n",
       "      <td>0.0</td>\n",
       "      <td>0.0</td>\n",
       "      <td>1.0</td>\n",
       "    </tr>\n",
       "    <tr>\n",
       "      <th>3</th>\n",
       "      <td>4</td>\n",
       "      <td>1</td>\n",
       "      <td>1.0</td>\n",
       "      <td>35.0</td>\n",
       "      <td>1.0</td>\n",
       "      <td>0.0</td>\n",
       "      <td>26.55000</td>\n",
       "      <td>0.0</td>\n",
       "      <td>0.0</td>\n",
       "      <td>1.0</td>\n",
       "    </tr>\n",
       "    <tr>\n",
       "      <th>4</th>\n",
       "      <td>5</td>\n",
       "      <td>0</td>\n",
       "      <td>3.0</td>\n",
       "      <td>35.0</td>\n",
       "      <td>0.0</td>\n",
       "      <td>0.0</td>\n",
       "      <td>8.05000</td>\n",
       "      <td>1.0</td>\n",
       "      <td>0.0</td>\n",
       "      <td>1.0</td>\n",
       "    </tr>\n",
       "  </tbody>\n",
       "</table>\n",
       "</div>"
      ],
      "text/plain": [
       "   PassengerId  Survived  Pclass   Age  SibSp  Parch  ind_fare  Sex_male  \\\n",
       "0            1         0     3.0  22.0    1.0    0.0   7.25000       1.0   \n",
       "1            2         1     1.0  38.0    1.0    0.0  35.64165       0.0   \n",
       "2            3         1     3.0  26.0    0.0    0.0   7.92500       0.0   \n",
       "3            4         1     1.0  35.0    1.0    0.0  26.55000       0.0   \n",
       "4            5         0     3.0  35.0    0.0    0.0   8.05000       1.0   \n",
       "\n",
       "   Embarked_Q  Embarked_S  \n",
       "0         0.0         1.0  \n",
       "1         0.0         0.0  \n",
       "2         0.0         1.0  \n",
       "3         0.0         1.0  \n",
       "4         0.0         1.0  "
      ]
     },
     "execution_count": 68,
     "metadata": {},
     "output_type": "execute_result"
    }
   ],
   "source": [
    "df_train_imp = pd.DataFrame(df_train_imp)\n",
    "df_train_imp.columns = df_train_missing.columns\n",
    "df_train_imp.insert(0, 'Survived', df_train['Survived'])\n",
    "df_train_imp.insert(0, 'PassengerId', df_train['PassengerId'])\n",
    "\n",
    "df_train_imp.head()"
   ]
  },
  {
   "cell_type": "code",
   "execution_count": 69,
   "metadata": {
    "collapsed": false
   },
   "outputs": [
    {
     "data": {
      "text/plain": [
       "PassengerId    0\n",
       "Survived       0\n",
       "Pclass         0\n",
       "Age            0\n",
       "SibSp          0\n",
       "Parch          0\n",
       "ind_fare       0\n",
       "Sex_male       0\n",
       "Embarked_Q     0\n",
       "Embarked_S     0\n",
       "dtype: int64"
      ]
     },
     "execution_count": 69,
     "metadata": {},
     "output_type": "execute_result"
    }
   ],
   "source": [
    "df_train_imp.isnull().sum()"
   ]
  },
  {
   "cell_type": "markdown",
   "metadata": {},
   "source": [
    "We can see that there are no longer any null values.  All of the missing age values have been filled in using multiple imputation."
   ]
  },
  {
   "cell_type": "markdown",
   "metadata": {},
   "source": [
    "---\n",
    "<a id='4'></a>\n",
    "## 4 Feature Engineering"
   ]
  },
  {
   "cell_type": "markdown",
   "metadata": {},
   "source": [
    "We mentioned earlier in the analysis that binning the Parch and SibSp variables might be fruitful.  Let's do that now.  First, we will convert the SibSp variable into bins of 0, 1, and more than 1."
   ]
  },
  {
   "cell_type": "code",
   "execution_count": 70,
   "metadata": {
    "collapsed": false
   },
   "outputs": [
    {
     "data": {
      "text/html": [
       "<div>\n",
       "<style scoped>\n",
       "    .dataframe tbody tr th:only-of-type {\n",
       "        vertical-align: middle;\n",
       "    }\n",
       "\n",
       "    .dataframe tbody tr th {\n",
       "        vertical-align: top;\n",
       "    }\n",
       "\n",
       "    .dataframe thead th {\n",
       "        text-align: right;\n",
       "    }\n",
       "</style>\n",
       "<table border=\"1\" class=\"dataframe\">\n",
       "  <thead>\n",
       "    <tr style=\"text-align: right;\">\n",
       "      <th></th>\n",
       "      <th>PassengerId</th>\n",
       "      <th>Survived</th>\n",
       "      <th>Pclass</th>\n",
       "      <th>Age</th>\n",
       "      <th>SibSp</th>\n",
       "      <th>Parch</th>\n",
       "      <th>ind_fare</th>\n",
       "      <th>Sex_male</th>\n",
       "      <th>Embarked_Q</th>\n",
       "      <th>Embarked_S</th>\n",
       "      <th>SibSp_bin</th>\n",
       "    </tr>\n",
       "  </thead>\n",
       "  <tbody>\n",
       "    <tr>\n",
       "      <th>0</th>\n",
       "      <td>1</td>\n",
       "      <td>0</td>\n",
       "      <td>3.0</td>\n",
       "      <td>22.0</td>\n",
       "      <td>1.0</td>\n",
       "      <td>0.0</td>\n",
       "      <td>7.25000</td>\n",
       "      <td>1.0</td>\n",
       "      <td>0.0</td>\n",
       "      <td>1.0</td>\n",
       "      <td>One</td>\n",
       "    </tr>\n",
       "    <tr>\n",
       "      <th>1</th>\n",
       "      <td>2</td>\n",
       "      <td>1</td>\n",
       "      <td>1.0</td>\n",
       "      <td>38.0</td>\n",
       "      <td>1.0</td>\n",
       "      <td>0.0</td>\n",
       "      <td>35.64165</td>\n",
       "      <td>0.0</td>\n",
       "      <td>0.0</td>\n",
       "      <td>0.0</td>\n",
       "      <td>One</td>\n",
       "    </tr>\n",
       "    <tr>\n",
       "      <th>2</th>\n",
       "      <td>3</td>\n",
       "      <td>1</td>\n",
       "      <td>3.0</td>\n",
       "      <td>26.0</td>\n",
       "      <td>0.0</td>\n",
       "      <td>0.0</td>\n",
       "      <td>7.92500</td>\n",
       "      <td>0.0</td>\n",
       "      <td>0.0</td>\n",
       "      <td>1.0</td>\n",
       "      <td>Zero</td>\n",
       "    </tr>\n",
       "    <tr>\n",
       "      <th>3</th>\n",
       "      <td>4</td>\n",
       "      <td>1</td>\n",
       "      <td>1.0</td>\n",
       "      <td>35.0</td>\n",
       "      <td>1.0</td>\n",
       "      <td>0.0</td>\n",
       "      <td>26.55000</td>\n",
       "      <td>0.0</td>\n",
       "      <td>0.0</td>\n",
       "      <td>1.0</td>\n",
       "      <td>One</td>\n",
       "    </tr>\n",
       "    <tr>\n",
       "      <th>4</th>\n",
       "      <td>5</td>\n",
       "      <td>0</td>\n",
       "      <td>3.0</td>\n",
       "      <td>35.0</td>\n",
       "      <td>0.0</td>\n",
       "      <td>0.0</td>\n",
       "      <td>8.05000</td>\n",
       "      <td>1.0</td>\n",
       "      <td>0.0</td>\n",
       "      <td>1.0</td>\n",
       "      <td>Zero</td>\n",
       "    </tr>\n",
       "  </tbody>\n",
       "</table>\n",
       "</div>"
      ],
      "text/plain": [
       "   PassengerId  Survived  Pclass   Age  SibSp  Parch  ind_fare  Sex_male  \\\n",
       "0            1         0     3.0  22.0    1.0    0.0   7.25000       1.0   \n",
       "1            2         1     1.0  38.0    1.0    0.0  35.64165       0.0   \n",
       "2            3         1     3.0  26.0    0.0    0.0   7.92500       0.0   \n",
       "3            4         1     1.0  35.0    1.0    0.0  26.55000       0.0   \n",
       "4            5         0     3.0  35.0    0.0    0.0   8.05000       1.0   \n",
       "\n",
       "   Embarked_Q  Embarked_S SibSp_bin  \n",
       "0         0.0         1.0       One  \n",
       "1         0.0         0.0       One  \n",
       "2         0.0         1.0      Zero  \n",
       "3         0.0         1.0       One  \n",
       "4         0.0         1.0      Zero  "
      ]
     },
     "execution_count": 70,
     "metadata": {},
     "output_type": "execute_result"
    }
   ],
   "source": [
    "bins = [-1,0,1,100]\n",
    "group_names = ['Zero','One','Many']\n",
    "df_train_imp['SibSp_bin'] = pd.cut(df_train_imp['SibSp'], bins, labels=group_names)\n",
    "df_train_imp.head()"
   ]
  },
  {
   "cell_type": "code",
   "execution_count": 71,
   "metadata": {
    "collapsed": false
   },
   "outputs": [
    {
     "data": {
      "text/plain": [
       "Zero    608\n",
       "One     209\n",
       "Many     74\n",
       "Name: SibSp_bin, dtype: int64"
      ]
     },
     "execution_count": 71,
     "metadata": {},
     "output_type": "execute_result"
    }
   ],
   "source": [
    "df_train_imp['SibSp_bin'].value_counts()"
   ]
  },
  {
   "cell_type": "code",
   "execution_count": 72,
   "metadata": {
    "collapsed": false
   },
   "outputs": [
    {
     "data": {
      "text/plain": [
       "0.0    608\n",
       "1.0    209\n",
       "2.0     28\n",
       "4.0     18\n",
       "3.0     16\n",
       "8.0      7\n",
       "5.0      5\n",
       "Name: SibSp, dtype: int64"
      ]
     },
     "execution_count": 72,
     "metadata": {},
     "output_type": "execute_result"
    }
   ],
   "source": [
    "df_train_imp['SibSp'].value_counts()"
   ]
  },
  {
   "cell_type": "markdown",
   "metadata": {},
   "source": [
    "We can see that the new 'SibSp_bin' feature contains the values of SibSp bucketed into three different categories.  \n",
    "\n",
    "Let's now do the same with the Parch feature.  This time we will separate it into buckets of 0, 1 or 2, and more than 2 though."
   ]
  },
  {
   "cell_type": "code",
   "execution_count": 73,
   "metadata": {
    "collapsed": false
   },
   "outputs": [
    {
     "data": {
      "text/html": [
       "<div>\n",
       "<style scoped>\n",
       "    .dataframe tbody tr th:only-of-type {\n",
       "        vertical-align: middle;\n",
       "    }\n",
       "\n",
       "    .dataframe tbody tr th {\n",
       "        vertical-align: top;\n",
       "    }\n",
       "\n",
       "    .dataframe thead th {\n",
       "        text-align: right;\n",
       "    }\n",
       "</style>\n",
       "<table border=\"1\" class=\"dataframe\">\n",
       "  <thead>\n",
       "    <tr style=\"text-align: right;\">\n",
       "      <th></th>\n",
       "      <th>PassengerId</th>\n",
       "      <th>Survived</th>\n",
       "      <th>Pclass</th>\n",
       "      <th>Age</th>\n",
       "      <th>SibSp</th>\n",
       "      <th>Parch</th>\n",
       "      <th>ind_fare</th>\n",
       "      <th>Sex_male</th>\n",
       "      <th>Embarked_Q</th>\n",
       "      <th>Embarked_S</th>\n",
       "      <th>SibSp_bin</th>\n",
       "      <th>Parch_bin</th>\n",
       "    </tr>\n",
       "  </thead>\n",
       "  <tbody>\n",
       "    <tr>\n",
       "      <th>0</th>\n",
       "      <td>1</td>\n",
       "      <td>0</td>\n",
       "      <td>3.0</td>\n",
       "      <td>22.0</td>\n",
       "      <td>1.0</td>\n",
       "      <td>0.0</td>\n",
       "      <td>7.25000</td>\n",
       "      <td>1.0</td>\n",
       "      <td>0.0</td>\n",
       "      <td>1.0</td>\n",
       "      <td>One</td>\n",
       "      <td>Zero</td>\n",
       "    </tr>\n",
       "    <tr>\n",
       "      <th>1</th>\n",
       "      <td>2</td>\n",
       "      <td>1</td>\n",
       "      <td>1.0</td>\n",
       "      <td>38.0</td>\n",
       "      <td>1.0</td>\n",
       "      <td>0.0</td>\n",
       "      <td>35.64165</td>\n",
       "      <td>0.0</td>\n",
       "      <td>0.0</td>\n",
       "      <td>0.0</td>\n",
       "      <td>One</td>\n",
       "      <td>Zero</td>\n",
       "    </tr>\n",
       "    <tr>\n",
       "      <th>2</th>\n",
       "      <td>3</td>\n",
       "      <td>1</td>\n",
       "      <td>3.0</td>\n",
       "      <td>26.0</td>\n",
       "      <td>0.0</td>\n",
       "      <td>0.0</td>\n",
       "      <td>7.92500</td>\n",
       "      <td>0.0</td>\n",
       "      <td>0.0</td>\n",
       "      <td>1.0</td>\n",
       "      <td>Zero</td>\n",
       "      <td>Zero</td>\n",
       "    </tr>\n",
       "    <tr>\n",
       "      <th>3</th>\n",
       "      <td>4</td>\n",
       "      <td>1</td>\n",
       "      <td>1.0</td>\n",
       "      <td>35.0</td>\n",
       "      <td>1.0</td>\n",
       "      <td>0.0</td>\n",
       "      <td>26.55000</td>\n",
       "      <td>0.0</td>\n",
       "      <td>0.0</td>\n",
       "      <td>1.0</td>\n",
       "      <td>One</td>\n",
       "      <td>Zero</td>\n",
       "    </tr>\n",
       "    <tr>\n",
       "      <th>4</th>\n",
       "      <td>5</td>\n",
       "      <td>0</td>\n",
       "      <td>3.0</td>\n",
       "      <td>35.0</td>\n",
       "      <td>0.0</td>\n",
       "      <td>0.0</td>\n",
       "      <td>8.05000</td>\n",
       "      <td>1.0</td>\n",
       "      <td>0.0</td>\n",
       "      <td>1.0</td>\n",
       "      <td>Zero</td>\n",
       "      <td>Zero</td>\n",
       "    </tr>\n",
       "  </tbody>\n",
       "</table>\n",
       "</div>"
      ],
      "text/plain": [
       "   PassengerId  Survived  Pclass   Age  SibSp  Parch  ind_fare  Sex_male  \\\n",
       "0            1         0     3.0  22.0    1.0    0.0   7.25000       1.0   \n",
       "1            2         1     1.0  38.0    1.0    0.0  35.64165       0.0   \n",
       "2            3         1     3.0  26.0    0.0    0.0   7.92500       0.0   \n",
       "3            4         1     1.0  35.0    1.0    0.0  26.55000       0.0   \n",
       "4            5         0     3.0  35.0    0.0    0.0   8.05000       1.0   \n",
       "\n",
       "   Embarked_Q  Embarked_S SibSp_bin Parch_bin  \n",
       "0         0.0         1.0       One      Zero  \n",
       "1         0.0         0.0       One      Zero  \n",
       "2         0.0         1.0      Zero      Zero  \n",
       "3         0.0         1.0       One      Zero  \n",
       "4         0.0         1.0      Zero      Zero  "
      ]
     },
     "execution_count": 73,
     "metadata": {},
     "output_type": "execute_result"
    }
   ],
   "source": [
    "bins = [-1,0,2,100]\n",
    "group_names = ['Zero','One_Or_Two','Many']\n",
    "df_train_imp['Parch_bin'] = pd.cut(df_train_imp['Parch'], bins, labels=group_names)\n",
    "df_train_imp.head()"
   ]
  },
  {
   "cell_type": "code",
   "execution_count": 74,
   "metadata": {
    "collapsed": false
   },
   "outputs": [
    {
     "data": {
      "text/plain": [
       "Zero          678\n",
       "One_Or_Two    198\n",
       "Many           15\n",
       "Name: Parch_bin, dtype: int64"
      ]
     },
     "execution_count": 74,
     "metadata": {},
     "output_type": "execute_result"
    }
   ],
   "source": [
    "df_train_imp['Parch_bin'].value_counts()"
   ]
  },
  {
   "cell_type": "code",
   "execution_count": 75,
   "metadata": {
    "collapsed": false
   },
   "outputs": [
    {
     "data": {
      "text/plain": [
       "0.0    678\n",
       "1.0    118\n",
       "2.0     80\n",
       "3.0      5\n",
       "5.0      5\n",
       "4.0      4\n",
       "6.0      1\n",
       "Name: Parch, dtype: int64"
      ]
     },
     "execution_count": 75,
     "metadata": {},
     "output_type": "execute_result"
    }
   ],
   "source": [
    "df_train_imp['Parch'].value_counts()"
   ]
  },
  {
   "cell_type": "markdown",
   "metadata": {},
   "source": [
    "Alright, we've successfully binned those two features.  Let's now drop the original versions of the Parch and SibSp columns so we won't accidentally include both versions in our model.  We should also create dummy variables for the new variables."
   ]
  },
  {
   "cell_type": "code",
   "execution_count": 76,
   "metadata": {
    "collapsed": true
   },
   "outputs": [],
   "source": [
    "df_train_imp.drop(labels=['SibSp','Parch'],axis=1,inplace=True)"
   ]
  },
  {
   "cell_type": "code",
   "execution_count": 77,
   "metadata": {
    "collapsed": false
   },
   "outputs": [],
   "source": [
    "df_train_imp = pd.get_dummies(df_train_imp,drop_first=True)"
   ]
  },
  {
   "cell_type": "code",
   "execution_count": 78,
   "metadata": {
    "collapsed": false
   },
   "outputs": [
    {
     "data": {
      "text/html": [
       "<div>\n",
       "<style scoped>\n",
       "    .dataframe tbody tr th:only-of-type {\n",
       "        vertical-align: middle;\n",
       "    }\n",
       "\n",
       "    .dataframe tbody tr th {\n",
       "        vertical-align: top;\n",
       "    }\n",
       "\n",
       "    .dataframe thead th {\n",
       "        text-align: right;\n",
       "    }\n",
       "</style>\n",
       "<table border=\"1\" class=\"dataframe\">\n",
       "  <thead>\n",
       "    <tr style=\"text-align: right;\">\n",
       "      <th></th>\n",
       "      <th>PassengerId</th>\n",
       "      <th>Survived</th>\n",
       "      <th>Pclass</th>\n",
       "      <th>Age</th>\n",
       "      <th>ind_fare</th>\n",
       "      <th>Sex_male</th>\n",
       "      <th>Embarked_Q</th>\n",
       "      <th>Embarked_S</th>\n",
       "      <th>SibSp_bin_One</th>\n",
       "      <th>SibSp_bin_Many</th>\n",
       "      <th>Parch_bin_One_Or_Two</th>\n",
       "      <th>Parch_bin_Many</th>\n",
       "    </tr>\n",
       "  </thead>\n",
       "  <tbody>\n",
       "    <tr>\n",
       "      <th>0</th>\n",
       "      <td>1</td>\n",
       "      <td>0</td>\n",
       "      <td>3.0</td>\n",
       "      <td>22.0</td>\n",
       "      <td>7.25000</td>\n",
       "      <td>1.0</td>\n",
       "      <td>0.0</td>\n",
       "      <td>1.0</td>\n",
       "      <td>1</td>\n",
       "      <td>0</td>\n",
       "      <td>0</td>\n",
       "      <td>0</td>\n",
       "    </tr>\n",
       "    <tr>\n",
       "      <th>1</th>\n",
       "      <td>2</td>\n",
       "      <td>1</td>\n",
       "      <td>1.0</td>\n",
       "      <td>38.0</td>\n",
       "      <td>35.64165</td>\n",
       "      <td>0.0</td>\n",
       "      <td>0.0</td>\n",
       "      <td>0.0</td>\n",
       "      <td>1</td>\n",
       "      <td>0</td>\n",
       "      <td>0</td>\n",
       "      <td>0</td>\n",
       "    </tr>\n",
       "    <tr>\n",
       "      <th>2</th>\n",
       "      <td>3</td>\n",
       "      <td>1</td>\n",
       "      <td>3.0</td>\n",
       "      <td>26.0</td>\n",
       "      <td>7.92500</td>\n",
       "      <td>0.0</td>\n",
       "      <td>0.0</td>\n",
       "      <td>1.0</td>\n",
       "      <td>0</td>\n",
       "      <td>0</td>\n",
       "      <td>0</td>\n",
       "      <td>0</td>\n",
       "    </tr>\n",
       "    <tr>\n",
       "      <th>3</th>\n",
       "      <td>4</td>\n",
       "      <td>1</td>\n",
       "      <td>1.0</td>\n",
       "      <td>35.0</td>\n",
       "      <td>26.55000</td>\n",
       "      <td>0.0</td>\n",
       "      <td>0.0</td>\n",
       "      <td>1.0</td>\n",
       "      <td>1</td>\n",
       "      <td>0</td>\n",
       "      <td>0</td>\n",
       "      <td>0</td>\n",
       "    </tr>\n",
       "    <tr>\n",
       "      <th>4</th>\n",
       "      <td>5</td>\n",
       "      <td>0</td>\n",
       "      <td>3.0</td>\n",
       "      <td>35.0</td>\n",
       "      <td>8.05000</td>\n",
       "      <td>1.0</td>\n",
       "      <td>0.0</td>\n",
       "      <td>1.0</td>\n",
       "      <td>0</td>\n",
       "      <td>0</td>\n",
       "      <td>0</td>\n",
       "      <td>0</td>\n",
       "    </tr>\n",
       "  </tbody>\n",
       "</table>\n",
       "</div>"
      ],
      "text/plain": [
       "   PassengerId  Survived  Pclass   Age  ind_fare  Sex_male  Embarked_Q  \\\n",
       "0            1         0     3.0  22.0   7.25000       1.0         0.0   \n",
       "1            2         1     1.0  38.0  35.64165       0.0         0.0   \n",
       "2            3         1     3.0  26.0   7.92500       0.0         0.0   \n",
       "3            4         1     1.0  35.0  26.55000       0.0         0.0   \n",
       "4            5         0     3.0  35.0   8.05000       1.0         0.0   \n",
       "\n",
       "   Embarked_S  SibSp_bin_One  SibSp_bin_Many  Parch_bin_One_Or_Two  \\\n",
       "0         1.0              1               0                     0   \n",
       "1         0.0              1               0                     0   \n",
       "2         1.0              0               0                     0   \n",
       "3         1.0              1               0                     0   \n",
       "4         1.0              0               0                     0   \n",
       "\n",
       "   Parch_bin_Many  \n",
       "0               0  \n",
       "1               0  \n",
       "2               0  \n",
       "3               0  \n",
       "4               0  "
      ]
     },
     "execution_count": 78,
     "metadata": {},
     "output_type": "execute_result"
    }
   ],
   "source": [
    "df_train_imp.head()"
   ]
  },
  {
   "cell_type": "markdown",
   "metadata": {},
   "source": [
    "We should also take this time to remove one of either the Pclass or ind_fare variables.  Since ind_fare is more or less just an indicator of the passenger class (but with more variance introduced), we will remove this variable."
   ]
  },
  {
   "cell_type": "code",
   "execution_count": 79,
   "metadata": {
    "collapsed": true
   },
   "outputs": [],
   "source": [
    "df_train_imp.drop('ind_fare',axis=1,inplace=True)"
   ]
  },
  {
   "cell_type": "code",
   "execution_count": 80,
   "metadata": {
    "collapsed": false
   },
   "outputs": [
    {
     "data": {
      "text/html": [
       "<div>\n",
       "<style scoped>\n",
       "    .dataframe tbody tr th:only-of-type {\n",
       "        vertical-align: middle;\n",
       "    }\n",
       "\n",
       "    .dataframe tbody tr th {\n",
       "        vertical-align: top;\n",
       "    }\n",
       "\n",
       "    .dataframe thead th {\n",
       "        text-align: right;\n",
       "    }\n",
       "</style>\n",
       "<table border=\"1\" class=\"dataframe\">\n",
       "  <thead>\n",
       "    <tr style=\"text-align: right;\">\n",
       "      <th></th>\n",
       "      <th>PassengerId</th>\n",
       "      <th>Survived</th>\n",
       "      <th>Pclass</th>\n",
       "      <th>Age</th>\n",
       "      <th>Sex_male</th>\n",
       "      <th>Embarked_Q</th>\n",
       "      <th>Embarked_S</th>\n",
       "      <th>SibSp_bin_One</th>\n",
       "      <th>SibSp_bin_Many</th>\n",
       "      <th>Parch_bin_One_Or_Two</th>\n",
       "      <th>Parch_bin_Many</th>\n",
       "    </tr>\n",
       "  </thead>\n",
       "  <tbody>\n",
       "    <tr>\n",
       "      <th>0</th>\n",
       "      <td>1</td>\n",
       "      <td>0</td>\n",
       "      <td>3.0</td>\n",
       "      <td>22.0</td>\n",
       "      <td>1.0</td>\n",
       "      <td>0.0</td>\n",
       "      <td>1.0</td>\n",
       "      <td>1</td>\n",
       "      <td>0</td>\n",
       "      <td>0</td>\n",
       "      <td>0</td>\n",
       "    </tr>\n",
       "    <tr>\n",
       "      <th>1</th>\n",
       "      <td>2</td>\n",
       "      <td>1</td>\n",
       "      <td>1.0</td>\n",
       "      <td>38.0</td>\n",
       "      <td>0.0</td>\n",
       "      <td>0.0</td>\n",
       "      <td>0.0</td>\n",
       "      <td>1</td>\n",
       "      <td>0</td>\n",
       "      <td>0</td>\n",
       "      <td>0</td>\n",
       "    </tr>\n",
       "    <tr>\n",
       "      <th>2</th>\n",
       "      <td>3</td>\n",
       "      <td>1</td>\n",
       "      <td>3.0</td>\n",
       "      <td>26.0</td>\n",
       "      <td>0.0</td>\n",
       "      <td>0.0</td>\n",
       "      <td>1.0</td>\n",
       "      <td>0</td>\n",
       "      <td>0</td>\n",
       "      <td>0</td>\n",
       "      <td>0</td>\n",
       "    </tr>\n",
       "    <tr>\n",
       "      <th>3</th>\n",
       "      <td>4</td>\n",
       "      <td>1</td>\n",
       "      <td>1.0</td>\n",
       "      <td>35.0</td>\n",
       "      <td>0.0</td>\n",
       "      <td>0.0</td>\n",
       "      <td>1.0</td>\n",
       "      <td>1</td>\n",
       "      <td>0</td>\n",
       "      <td>0</td>\n",
       "      <td>0</td>\n",
       "    </tr>\n",
       "    <tr>\n",
       "      <th>4</th>\n",
       "      <td>5</td>\n",
       "      <td>0</td>\n",
       "      <td>3.0</td>\n",
       "      <td>35.0</td>\n",
       "      <td>1.0</td>\n",
       "      <td>0.0</td>\n",
       "      <td>1.0</td>\n",
       "      <td>0</td>\n",
       "      <td>0</td>\n",
       "      <td>0</td>\n",
       "      <td>0</td>\n",
       "    </tr>\n",
       "  </tbody>\n",
       "</table>\n",
       "</div>"
      ],
      "text/plain": [
       "   PassengerId  Survived  Pclass   Age  Sex_male  Embarked_Q  Embarked_S  \\\n",
       "0            1         0     3.0  22.0       1.0         0.0         1.0   \n",
       "1            2         1     1.0  38.0       0.0         0.0         0.0   \n",
       "2            3         1     3.0  26.0       0.0         0.0         1.0   \n",
       "3            4         1     1.0  35.0       0.0         0.0         1.0   \n",
       "4            5         0     3.0  35.0       1.0         0.0         1.0   \n",
       "\n",
       "   SibSp_bin_One  SibSp_bin_Many  Parch_bin_One_Or_Two  Parch_bin_Many  \n",
       "0              1               0                     0               0  \n",
       "1              1               0                     0               0  \n",
       "2              0               0                     0               0  \n",
       "3              1               0                     0               0  \n",
       "4              0               0                     0               0  "
      ]
     },
     "execution_count": 80,
     "metadata": {},
     "output_type": "execute_result"
    }
   ],
   "source": [
    "df_train_imp.head()"
   ]
  },
  {
   "cell_type": "markdown",
   "metadata": {},
   "source": [
    "There is more feature engineering that could be done here.  For example, we might be able to determine which level or end of the ship passengers were on from their cabin number or extract more information from the name field.  For now, we will leave this as possible future work though and move onto creating models."
   ]
  },
  {
   "cell_type": "markdown",
   "metadata": {},
   "source": [
    "---\n",
    "<a id='5'></a>\n",
    "## 5 Model Creation"
   ]
  },
  {
   "cell_type": "markdown",
   "metadata": {},
   "source": [
    "<a id='5.1'></a>\n",
    "### 5.1 Data Preparation  "
   ]
  },
  {
   "cell_type": "markdown",
   "metadata": {},
   "source": [
    "Before we can begin building models, we need to perform the same data cleaning steps on the test data that we performed on the training set.  We also need to split our independent and dependent variables into two different dataframes."
   ]
  },
  {
   "cell_type": "code",
   "execution_count": 81,
   "metadata": {
    "collapsed": false
   },
   "outputs": [
    {
     "data": {
      "text/html": [
       "<div>\n",
       "<style scoped>\n",
       "    .dataframe tbody tr th:only-of-type {\n",
       "        vertical-align: middle;\n",
       "    }\n",
       "\n",
       "    .dataframe tbody tr th {\n",
       "        vertical-align: top;\n",
       "    }\n",
       "\n",
       "    .dataframe thead th {\n",
       "        text-align: right;\n",
       "    }\n",
       "</style>\n",
       "<table border=\"1\" class=\"dataframe\">\n",
       "  <thead>\n",
       "    <tr style=\"text-align: right;\">\n",
       "      <th></th>\n",
       "      <th>PassengerId</th>\n",
       "      <th>Pclass</th>\n",
       "      <th>Name</th>\n",
       "      <th>Sex</th>\n",
       "      <th>Age</th>\n",
       "      <th>SibSp</th>\n",
       "      <th>Parch</th>\n",
       "      <th>Ticket</th>\n",
       "      <th>Fare</th>\n",
       "      <th>Cabin</th>\n",
       "      <th>Embarked</th>\n",
       "      <th>clean_ticket</th>\n",
       "      <th>ind_fare</th>\n",
       "    </tr>\n",
       "  </thead>\n",
       "  <tbody>\n",
       "    <tr>\n",
       "      <th>0</th>\n",
       "      <td>892</td>\n",
       "      <td>3</td>\n",
       "      <td>Kelly, Mr. James</td>\n",
       "      <td>male</td>\n",
       "      <td>34.5</td>\n",
       "      <td>0</td>\n",
       "      <td>0</td>\n",
       "      <td>330911</td>\n",
       "      <td>7.8292</td>\n",
       "      <td>NaN</td>\n",
       "      <td>Q</td>\n",
       "      <td>330911</td>\n",
       "      <td>7.82920</td>\n",
       "    </tr>\n",
       "    <tr>\n",
       "      <th>1</th>\n",
       "      <td>893</td>\n",
       "      <td>3</td>\n",
       "      <td>Wilkes, Mrs. James (Ellen Needs)</td>\n",
       "      <td>female</td>\n",
       "      <td>47.0</td>\n",
       "      <td>1</td>\n",
       "      <td>0</td>\n",
       "      <td>363272</td>\n",
       "      <td>7.0000</td>\n",
       "      <td>NaN</td>\n",
       "      <td>S</td>\n",
       "      <td>363272</td>\n",
       "      <td>7.00000</td>\n",
       "    </tr>\n",
       "    <tr>\n",
       "      <th>2</th>\n",
       "      <td>894</td>\n",
       "      <td>2</td>\n",
       "      <td>Myles, Mr. Thomas Francis</td>\n",
       "      <td>male</td>\n",
       "      <td>62.0</td>\n",
       "      <td>0</td>\n",
       "      <td>0</td>\n",
       "      <td>240276</td>\n",
       "      <td>9.6875</td>\n",
       "      <td>NaN</td>\n",
       "      <td>Q</td>\n",
       "      <td>240276</td>\n",
       "      <td>9.68750</td>\n",
       "    </tr>\n",
       "    <tr>\n",
       "      <th>3</th>\n",
       "      <td>895</td>\n",
       "      <td>3</td>\n",
       "      <td>Wirz, Mr. Albert</td>\n",
       "      <td>male</td>\n",
       "      <td>27.0</td>\n",
       "      <td>0</td>\n",
       "      <td>0</td>\n",
       "      <td>315154</td>\n",
       "      <td>8.6625</td>\n",
       "      <td>NaN</td>\n",
       "      <td>S</td>\n",
       "      <td>315154</td>\n",
       "      <td>8.66250</td>\n",
       "    </tr>\n",
       "    <tr>\n",
       "      <th>4</th>\n",
       "      <td>896</td>\n",
       "      <td>3</td>\n",
       "      <td>Hirvonen, Mrs. Alexander (Helga E Lindqvist)</td>\n",
       "      <td>female</td>\n",
       "      <td>22.0</td>\n",
       "      <td>1</td>\n",
       "      <td>1</td>\n",
       "      <td>3101298</td>\n",
       "      <td>12.2875</td>\n",
       "      <td>NaN</td>\n",
       "      <td>S</td>\n",
       "      <td>3101298</td>\n",
       "      <td>6.14375</td>\n",
       "    </tr>\n",
       "  </tbody>\n",
       "</table>\n",
       "</div>"
      ],
      "text/plain": [
       "   PassengerId  Pclass                                          Name     Sex  \\\n",
       "0          892       3                              Kelly, Mr. James    male   \n",
       "1          893       3              Wilkes, Mrs. James (Ellen Needs)  female   \n",
       "2          894       2                     Myles, Mr. Thomas Francis    male   \n",
       "3          895       3                              Wirz, Mr. Albert    male   \n",
       "4          896       3  Hirvonen, Mrs. Alexander (Helga E Lindqvist)  female   \n",
       "\n",
       "    Age  SibSp  Parch   Ticket     Fare Cabin Embarked clean_ticket  ind_fare  \n",
       "0  34.5      0      0   330911   7.8292   NaN        Q       330911   7.82920  \n",
       "1  47.0      1      0   363272   7.0000   NaN        S       363272   7.00000  \n",
       "2  62.0      0      0   240276   9.6875   NaN        Q       240276   9.68750  \n",
       "3  27.0      0      0   315154   8.6625   NaN        S       315154   8.66250  \n",
       "4  22.0      1      1  3101298  12.2875   NaN        S      3101298   6.14375  "
      ]
     },
     "execution_count": 81,
     "metadata": {},
     "output_type": "execute_result"
    }
   ],
   "source": [
    "df_test.head()"
   ]
  },
  {
   "cell_type": "markdown",
   "metadata": {},
   "source": [
    "Let's simplify things right off the bat by dropping any unneeded columns from the test set."
   ]
  },
  {
   "cell_type": "code",
   "execution_count": 82,
   "metadata": {
    "collapsed": true
   },
   "outputs": [],
   "source": [
    "df_test.drop(['Name','Ticket','Fare','Cabin','clean_ticket','ind_fare'],axis=1,inplace=True)"
   ]
  },
  {
   "cell_type": "code",
   "execution_count": 83,
   "metadata": {
    "collapsed": false
   },
   "outputs": [
    {
     "data": {
      "text/html": [
       "<div>\n",
       "<style scoped>\n",
       "    .dataframe tbody tr th:only-of-type {\n",
       "        vertical-align: middle;\n",
       "    }\n",
       "\n",
       "    .dataframe tbody tr th {\n",
       "        vertical-align: top;\n",
       "    }\n",
       "\n",
       "    .dataframe thead th {\n",
       "        text-align: right;\n",
       "    }\n",
       "</style>\n",
       "<table border=\"1\" class=\"dataframe\">\n",
       "  <thead>\n",
       "    <tr style=\"text-align: right;\">\n",
       "      <th></th>\n",
       "      <th>PassengerId</th>\n",
       "      <th>Pclass</th>\n",
       "      <th>Sex</th>\n",
       "      <th>Age</th>\n",
       "      <th>SibSp</th>\n",
       "      <th>Parch</th>\n",
       "      <th>Embarked</th>\n",
       "    </tr>\n",
       "  </thead>\n",
       "  <tbody>\n",
       "    <tr>\n",
       "      <th>0</th>\n",
       "      <td>892</td>\n",
       "      <td>3</td>\n",
       "      <td>male</td>\n",
       "      <td>34.5</td>\n",
       "      <td>0</td>\n",
       "      <td>0</td>\n",
       "      <td>Q</td>\n",
       "    </tr>\n",
       "    <tr>\n",
       "      <th>1</th>\n",
       "      <td>893</td>\n",
       "      <td>3</td>\n",
       "      <td>female</td>\n",
       "      <td>47.0</td>\n",
       "      <td>1</td>\n",
       "      <td>0</td>\n",
       "      <td>S</td>\n",
       "    </tr>\n",
       "    <tr>\n",
       "      <th>2</th>\n",
       "      <td>894</td>\n",
       "      <td>2</td>\n",
       "      <td>male</td>\n",
       "      <td>62.0</td>\n",
       "      <td>0</td>\n",
       "      <td>0</td>\n",
       "      <td>Q</td>\n",
       "    </tr>\n",
       "    <tr>\n",
       "      <th>3</th>\n",
       "      <td>895</td>\n",
       "      <td>3</td>\n",
       "      <td>male</td>\n",
       "      <td>27.0</td>\n",
       "      <td>0</td>\n",
       "      <td>0</td>\n",
       "      <td>S</td>\n",
       "    </tr>\n",
       "    <tr>\n",
       "      <th>4</th>\n",
       "      <td>896</td>\n",
       "      <td>3</td>\n",
       "      <td>female</td>\n",
       "      <td>22.0</td>\n",
       "      <td>1</td>\n",
       "      <td>1</td>\n",
       "      <td>S</td>\n",
       "    </tr>\n",
       "  </tbody>\n",
       "</table>\n",
       "</div>"
      ],
      "text/plain": [
       "   PassengerId  Pclass     Sex   Age  SibSp  Parch Embarked\n",
       "0          892       3    male  34.5      0      0        Q\n",
       "1          893       3  female  47.0      1      0        S\n",
       "2          894       2    male  62.0      0      0        Q\n",
       "3          895       3    male  27.0      0      0        S\n",
       "4          896       3  female  22.0      1      1        S"
      ]
     },
     "execution_count": 83,
     "metadata": {},
     "output_type": "execute_result"
    }
   ],
   "source": [
    "df_test.head()"
   ]
  },
  {
   "cell_type": "markdown",
   "metadata": {},
   "source": [
    "Now, let's see which columns contain null values"
   ]
  },
  {
   "cell_type": "code",
   "execution_count": 84,
   "metadata": {
    "collapsed": false
   },
   "outputs": [
    {
     "data": {
      "text/plain": [
       "PassengerId     0\n",
       "Pclass          0\n",
       "Sex             0\n",
       "Age            86\n",
       "SibSp           0\n",
       "Parch           0\n",
       "Embarked        0\n",
       "dtype: int64"
      ]
     },
     "execution_count": 84,
     "metadata": {},
     "output_type": "execute_result"
    }
   ],
   "source": [
    "df_test.isnull().sum()"
   ]
  },
  {
   "cell_type": "markdown",
   "metadata": {},
   "source": [
    "We're in luck.  Given the amount of null Ages in the training set, we expected to also see lots of null age values in the Test set.  There aren't any null values in the other features though.  Let's create dummy variables and then impute the missing Age values."
   ]
  },
  {
   "cell_type": "code",
   "execution_count": 85,
   "metadata": {
    "collapsed": true
   },
   "outputs": [],
   "source": [
    "df_test = pd.get_dummies(df_test,drop_first=True)"
   ]
  },
  {
   "cell_type": "code",
   "execution_count": 86,
   "metadata": {
    "collapsed": false
   },
   "outputs": [
    {
     "data": {
      "text/html": [
       "<div>\n",
       "<style scoped>\n",
       "    .dataframe tbody tr th:only-of-type {\n",
       "        vertical-align: middle;\n",
       "    }\n",
       "\n",
       "    .dataframe tbody tr th {\n",
       "        vertical-align: top;\n",
       "    }\n",
       "\n",
       "    .dataframe thead th {\n",
       "        text-align: right;\n",
       "    }\n",
       "</style>\n",
       "<table border=\"1\" class=\"dataframe\">\n",
       "  <thead>\n",
       "    <tr style=\"text-align: right;\">\n",
       "      <th></th>\n",
       "      <th>PassengerId</th>\n",
       "      <th>Pclass</th>\n",
       "      <th>Age</th>\n",
       "      <th>SibSp</th>\n",
       "      <th>Parch</th>\n",
       "      <th>Sex_male</th>\n",
       "      <th>Embarked_Q</th>\n",
       "      <th>Embarked_S</th>\n",
       "    </tr>\n",
       "  </thead>\n",
       "  <tbody>\n",
       "    <tr>\n",
       "      <th>0</th>\n",
       "      <td>892</td>\n",
       "      <td>3</td>\n",
       "      <td>34.5</td>\n",
       "      <td>0</td>\n",
       "      <td>0</td>\n",
       "      <td>1</td>\n",
       "      <td>1</td>\n",
       "      <td>0</td>\n",
       "    </tr>\n",
       "    <tr>\n",
       "      <th>1</th>\n",
       "      <td>893</td>\n",
       "      <td>3</td>\n",
       "      <td>47.0</td>\n",
       "      <td>1</td>\n",
       "      <td>0</td>\n",
       "      <td>0</td>\n",
       "      <td>0</td>\n",
       "      <td>1</td>\n",
       "    </tr>\n",
       "    <tr>\n",
       "      <th>2</th>\n",
       "      <td>894</td>\n",
       "      <td>2</td>\n",
       "      <td>62.0</td>\n",
       "      <td>0</td>\n",
       "      <td>0</td>\n",
       "      <td>1</td>\n",
       "      <td>1</td>\n",
       "      <td>0</td>\n",
       "    </tr>\n",
       "    <tr>\n",
       "      <th>3</th>\n",
       "      <td>895</td>\n",
       "      <td>3</td>\n",
       "      <td>27.0</td>\n",
       "      <td>0</td>\n",
       "      <td>0</td>\n",
       "      <td>1</td>\n",
       "      <td>0</td>\n",
       "      <td>1</td>\n",
       "    </tr>\n",
       "    <tr>\n",
       "      <th>4</th>\n",
       "      <td>896</td>\n",
       "      <td>3</td>\n",
       "      <td>22.0</td>\n",
       "      <td>1</td>\n",
       "      <td>1</td>\n",
       "      <td>0</td>\n",
       "      <td>0</td>\n",
       "      <td>1</td>\n",
       "    </tr>\n",
       "  </tbody>\n",
       "</table>\n",
       "</div>"
      ],
      "text/plain": [
       "   PassengerId  Pclass   Age  SibSp  Parch  Sex_male  Embarked_Q  Embarked_S\n",
       "0          892       3  34.5      0      0         1           1           0\n",
       "1          893       3  47.0      1      0         0           0           1\n",
       "2          894       2  62.0      0      0         1           1           0\n",
       "3          895       3  27.0      0      0         1           0           1\n",
       "4          896       3  22.0      1      1         0           0           1"
      ]
     },
     "execution_count": 86,
     "metadata": {},
     "output_type": "execute_result"
    }
   ],
   "source": [
    "df_test.head()"
   ]
  },
  {
   "cell_type": "code",
   "execution_count": 87,
   "metadata": {
    "collapsed": false
   },
   "outputs": [
    {
     "name": "stdout",
     "output_type": "stream",
     "text": [
      "[MICE] Completing matrix with shape (418, 8)\n",
      "[MICE] Starting imputation round 1/110, elapsed time 0.000\n",
      "[MICE] Starting imputation round 2/110, elapsed time 0.001\n",
      "[MICE] Starting imputation round 3/110, elapsed time 0.002\n",
      "[MICE] Starting imputation round 4/110, elapsed time 0.002\n",
      "[MICE] Starting imputation round 5/110, elapsed time 0.002\n",
      "[MICE] Starting imputation round 6/110, elapsed time 0.003\n",
      "[MICE] Starting imputation round 7/110, elapsed time 0.003\n",
      "[MICE] Starting imputation round 8/110, elapsed time 0.004\n",
      "[MICE] Starting imputation round 9/110, elapsed time 0.004\n",
      "[MICE] Starting imputation round 10/110, elapsed time 0.004\n",
      "[MICE] Starting imputation round 11/110, elapsed time 0.005\n",
      "[MICE] Starting imputation round 12/110, elapsed time 0.005\n",
      "[MICE] Starting imputation round 13/110, elapsed time 0.006\n",
      "[MICE] Starting imputation round 14/110, elapsed time 0.008\n",
      "[MICE] Starting imputation round 15/110, elapsed time 0.009\n",
      "[MICE] Starting imputation round 16/110, elapsed time 0.010\n",
      "[MICE] Starting imputation round 17/110, elapsed time 0.011\n",
      "[MICE] Starting imputation round 18/110, elapsed time 0.011\n",
      "[MICE] Starting imputation round 19/110, elapsed time 0.012\n",
      "[MICE] Starting imputation round 20/110, elapsed time 0.013\n",
      "[MICE] Starting imputation round 21/110, elapsed time 0.014\n",
      "[MICE] Starting imputation round 22/110, elapsed time 0.014\n",
      "[MICE] Starting imputation round 23/110, elapsed time 0.015\n",
      "[MICE] Starting imputation round 24/110, elapsed time 0.015\n",
      "[MICE] Starting imputation round 25/110, elapsed time 0.016\n",
      "[MICE] Starting imputation round 26/110, elapsed time 0.016\n",
      "[MICE] Starting imputation round 27/110, elapsed time 0.017\n",
      "[MICE] Starting imputation round 28/110, elapsed time 0.017\n",
      "[MICE] Starting imputation round 29/110, elapsed time 0.018\n",
      "[MICE] Starting imputation round 30/110, elapsed time 0.019\n",
      "[MICE] Starting imputation round 31/110, elapsed time 0.019\n",
      "[MICE] Starting imputation round 32/110, elapsed time 0.019\n",
      "[MICE] Starting imputation round 33/110, elapsed time 0.020\n",
      "[MICE] Starting imputation round 34/110, elapsed time 0.020\n",
      "[MICE] Starting imputation round 35/110, elapsed time 0.021\n",
      "[MICE] Starting imputation round 36/110, elapsed time 0.021\n",
      "[MICE] Starting imputation round 37/110, elapsed time 0.022\n",
      "[MICE] Starting imputation round 38/110, elapsed time 0.023\n",
      "[MICE] Starting imputation round 39/110, elapsed time 0.025\n",
      "[MICE] Starting imputation round 40/110, elapsed time 0.026\n",
      "[MICE] Starting imputation round 41/110, elapsed time 0.027\n",
      "[MICE] Starting imputation round 42/110, elapsed time 0.028\n",
      "[MICE] Starting imputation round 43/110, elapsed time 0.028\n",
      "[MICE] Starting imputation round 44/110, elapsed time 0.029\n",
      "[MICE] Starting imputation round 45/110, elapsed time 0.030\n",
      "[MICE] Starting imputation round 46/110, elapsed time 0.030\n",
      "[MICE] Starting imputation round 47/110, elapsed time 0.031\n",
      "[MICE] Starting imputation round 48/110, elapsed time 0.032\n",
      "[MICE] Starting imputation round 49/110, elapsed time 0.032\n",
      "[MICE] Starting imputation round 50/110, elapsed time 0.033\n",
      "[MICE] Starting imputation round 51/110, elapsed time 0.035\n",
      "[MICE] Starting imputation round 52/110, elapsed time 0.036\n",
      "[MICE] Starting imputation round 53/110, elapsed time 0.036\n",
      "[MICE] Starting imputation round 54/110, elapsed time 0.037\n",
      "[MICE] Starting imputation round 55/110, elapsed time 0.037\n",
      "[MICE] Starting imputation round 56/110, elapsed time 0.038\n",
      "[MICE] Starting imputation round 57/110, elapsed time 0.038\n",
      "[MICE] Starting imputation round 58/110, elapsed time 0.039\n",
      "[MICE] Starting imputation round 59/110, elapsed time 0.040\n",
      "[MICE] Starting imputation round 60/110, elapsed time 0.041\n",
      "[MICE] Starting imputation round 61/110, elapsed time 0.043\n",
      "[MICE] Starting imputation round 62/110, elapsed time 0.044\n",
      "[MICE] Starting imputation round 63/110, elapsed time 0.045\n",
      "[MICE] Starting imputation round 64/110, elapsed time 0.046\n",
      "[MICE] Starting imputation round 65/110, elapsed time 0.046\n",
      "[MICE] Starting imputation round 66/110, elapsed time 0.047\n",
      "[MICE] Starting imputation round 67/110, elapsed time 0.048\n",
      "[MICE] Starting imputation round 68/110, elapsed time 0.049\n",
      "[MICE] Starting imputation round 69/110, elapsed time 0.049\n",
      "[MICE] Starting imputation round 70/110, elapsed time 0.050\n",
      "[MICE] Starting imputation round 71/110, elapsed time 0.050\n",
      "[MICE] Starting imputation round 72/110, elapsed time 0.051\n",
      "[MICE] Starting imputation round 73/110, elapsed time 0.051\n",
      "[MICE] Starting imputation round 74/110, elapsed time 0.052\n",
      "[MICE] Starting imputation round 75/110, elapsed time 0.052\n",
      "[MICE] Starting imputation round 76/110, elapsed time 0.052\n",
      "[MICE] Starting imputation round 77/110, elapsed time 0.053\n",
      "[MICE] Starting imputation round 78/110, elapsed time 0.053\n",
      "[MICE] Starting imputation round 79/110, elapsed time 0.054\n",
      "[MICE] Starting imputation round 80/110, elapsed time 0.054\n",
      "[MICE] Starting imputation round 81/110, elapsed time 0.054\n",
      "[MICE] Starting imputation round 82/110, elapsed time 0.055\n",
      "[MICE] Starting imputation round 83/110, elapsed time 0.056\n",
      "[MICE] Starting imputation round 84/110, elapsed time 0.057\n",
      "[MICE] Starting imputation round 85/110, elapsed time 0.059\n",
      "[MICE] Starting imputation round 86/110, elapsed time 0.059\n",
      "[MICE] Starting imputation round 87/110, elapsed time 0.060\n",
      "[MICE] Starting imputation round 88/110, elapsed time 0.061\n",
      "[MICE] Starting imputation round 89/110, elapsed time 0.061\n",
      "[MICE] Starting imputation round 90/110, elapsed time 0.062\n",
      "[MICE] Starting imputation round 91/110, elapsed time 0.062\n",
      "[MICE] Starting imputation round 92/110, elapsed time 0.063\n",
      "[MICE] Starting imputation round 93/110, elapsed time 0.064\n",
      "[MICE] Starting imputation round 94/110, elapsed time 0.065\n",
      "[MICE] Starting imputation round 95/110, elapsed time 0.065\n",
      "[MICE] Starting imputation round 96/110, elapsed time 0.066\n",
      "[MICE] Starting imputation round 97/110, elapsed time 0.066\n",
      "[MICE] Starting imputation round 98/110, elapsed time 0.067\n",
      "[MICE] Starting imputation round 99/110, elapsed time 0.067\n",
      "[MICE] Starting imputation round 100/110, elapsed time 0.068\n",
      "[MICE] Starting imputation round 101/110, elapsed time 0.068\n",
      "[MICE] Starting imputation round 102/110, elapsed time 0.069\n",
      "[MICE] Starting imputation round 103/110, elapsed time 0.069\n",
      "[MICE] Starting imputation round 104/110, elapsed time 0.070\n",
      "[MICE] Starting imputation round 105/110, elapsed time 0.070\n",
      "[MICE] Starting imputation round 106/110, elapsed time 0.071\n",
      "[MICE] Starting imputation round 107/110, elapsed time 0.071\n",
      "[MICE] Starting imputation round 108/110, elapsed time 0.071\n",
      "[MICE] Starting imputation round 109/110, elapsed time 0.072\n",
      "[MICE] Starting imputation round 110/110, elapsed time 0.073\n"
     ]
    }
   ],
   "source": [
    "df_test_imp = MICE().complete(np.asarray(df_test))"
   ]
  },
  {
   "cell_type": "code",
   "execution_count": 88,
   "metadata": {
    "collapsed": false
   },
   "outputs": [
    {
     "data": {
      "text/plain": [
       "PassengerId    0\n",
       "Pclass         0\n",
       "Age            0\n",
       "SibSp          0\n",
       "Parch          0\n",
       "Sex_male       0\n",
       "Embarked_Q     0\n",
       "Embarked_S     0\n",
       "dtype: int64"
      ]
     },
     "execution_count": 88,
     "metadata": {},
     "output_type": "execute_result"
    }
   ],
   "source": [
    "df_test_imp = pd.DataFrame(df_test_imp,columns=df_test.columns)\n",
    "df_test_imp.isnull().sum()"
   ]
  },
  {
   "cell_type": "code",
   "execution_count": 89,
   "metadata": {
    "collapsed": false
   },
   "outputs": [
    {
     "data": {
      "text/html": [
       "<div>\n",
       "<style scoped>\n",
       "    .dataframe tbody tr th:only-of-type {\n",
       "        vertical-align: middle;\n",
       "    }\n",
       "\n",
       "    .dataframe tbody tr th {\n",
       "        vertical-align: top;\n",
       "    }\n",
       "\n",
       "    .dataframe thead th {\n",
       "        text-align: right;\n",
       "    }\n",
       "</style>\n",
       "<table border=\"1\" class=\"dataframe\">\n",
       "  <thead>\n",
       "    <tr style=\"text-align: right;\">\n",
       "      <th></th>\n",
       "      <th>PassengerId</th>\n",
       "      <th>Pclass</th>\n",
       "      <th>Age</th>\n",
       "      <th>SibSp</th>\n",
       "      <th>Parch</th>\n",
       "      <th>Sex_male</th>\n",
       "      <th>Embarked_Q</th>\n",
       "      <th>Embarked_S</th>\n",
       "    </tr>\n",
       "  </thead>\n",
       "  <tbody>\n",
       "    <tr>\n",
       "      <th>0</th>\n",
       "      <td>892.0</td>\n",
       "      <td>3.0</td>\n",
       "      <td>34.5</td>\n",
       "      <td>0.0</td>\n",
       "      <td>0.0</td>\n",
       "      <td>1.0</td>\n",
       "      <td>1.0</td>\n",
       "      <td>0.0</td>\n",
       "    </tr>\n",
       "    <tr>\n",
       "      <th>1</th>\n",
       "      <td>893.0</td>\n",
       "      <td>3.0</td>\n",
       "      <td>47.0</td>\n",
       "      <td>1.0</td>\n",
       "      <td>0.0</td>\n",
       "      <td>0.0</td>\n",
       "      <td>0.0</td>\n",
       "      <td>1.0</td>\n",
       "    </tr>\n",
       "    <tr>\n",
       "      <th>2</th>\n",
       "      <td>894.0</td>\n",
       "      <td>2.0</td>\n",
       "      <td>62.0</td>\n",
       "      <td>0.0</td>\n",
       "      <td>0.0</td>\n",
       "      <td>1.0</td>\n",
       "      <td>1.0</td>\n",
       "      <td>0.0</td>\n",
       "    </tr>\n",
       "    <tr>\n",
       "      <th>3</th>\n",
       "      <td>895.0</td>\n",
       "      <td>3.0</td>\n",
       "      <td>27.0</td>\n",
       "      <td>0.0</td>\n",
       "      <td>0.0</td>\n",
       "      <td>1.0</td>\n",
       "      <td>0.0</td>\n",
       "      <td>1.0</td>\n",
       "    </tr>\n",
       "    <tr>\n",
       "      <th>4</th>\n",
       "      <td>896.0</td>\n",
       "      <td>3.0</td>\n",
       "      <td>22.0</td>\n",
       "      <td>1.0</td>\n",
       "      <td>1.0</td>\n",
       "      <td>0.0</td>\n",
       "      <td>0.0</td>\n",
       "      <td>1.0</td>\n",
       "    </tr>\n",
       "  </tbody>\n",
       "</table>\n",
       "</div>"
      ],
      "text/plain": [
       "   PassengerId  Pclass   Age  SibSp  Parch  Sex_male  Embarked_Q  Embarked_S\n",
       "0        892.0     3.0  34.5    0.0    0.0       1.0         1.0         0.0\n",
       "1        893.0     3.0  47.0    1.0    0.0       0.0         0.0         1.0\n",
       "2        894.0     2.0  62.0    0.0    0.0       1.0         1.0         0.0\n",
       "3        895.0     3.0  27.0    0.0    0.0       1.0         0.0         1.0\n",
       "4        896.0     3.0  22.0    1.0    1.0       0.0         0.0         1.0"
      ]
     },
     "execution_count": 89,
     "metadata": {},
     "output_type": "execute_result"
    }
   ],
   "source": [
    "df_test_imp.head()"
   ]
  },
  {
   "cell_type": "markdown",
   "metadata": {},
   "source": [
    "Now, we just need to bin the Parch and SibSp features and the test set will be formatted to our needs."
   ]
  },
  {
   "cell_type": "code",
   "execution_count": 90,
   "metadata": {
    "collapsed": false
   },
   "outputs": [
    {
     "data": {
      "text/html": [
       "<div>\n",
       "<style scoped>\n",
       "    .dataframe tbody tr th:only-of-type {\n",
       "        vertical-align: middle;\n",
       "    }\n",
       "\n",
       "    .dataframe tbody tr th {\n",
       "        vertical-align: top;\n",
       "    }\n",
       "\n",
       "    .dataframe thead th {\n",
       "        text-align: right;\n",
       "    }\n",
       "</style>\n",
       "<table border=\"1\" class=\"dataframe\">\n",
       "  <thead>\n",
       "    <tr style=\"text-align: right;\">\n",
       "      <th></th>\n",
       "      <th>PassengerId</th>\n",
       "      <th>Pclass</th>\n",
       "      <th>Age</th>\n",
       "      <th>SibSp</th>\n",
       "      <th>Parch</th>\n",
       "      <th>Sex_male</th>\n",
       "      <th>Embarked_Q</th>\n",
       "      <th>Embarked_S</th>\n",
       "      <th>SibSp_bin</th>\n",
       "    </tr>\n",
       "  </thead>\n",
       "  <tbody>\n",
       "    <tr>\n",
       "      <th>0</th>\n",
       "      <td>892.0</td>\n",
       "      <td>3.0</td>\n",
       "      <td>34.5</td>\n",
       "      <td>0.0</td>\n",
       "      <td>0.0</td>\n",
       "      <td>1.0</td>\n",
       "      <td>1.0</td>\n",
       "      <td>0.0</td>\n",
       "      <td>Zero</td>\n",
       "    </tr>\n",
       "    <tr>\n",
       "      <th>1</th>\n",
       "      <td>893.0</td>\n",
       "      <td>3.0</td>\n",
       "      <td>47.0</td>\n",
       "      <td>1.0</td>\n",
       "      <td>0.0</td>\n",
       "      <td>0.0</td>\n",
       "      <td>0.0</td>\n",
       "      <td>1.0</td>\n",
       "      <td>One</td>\n",
       "    </tr>\n",
       "    <tr>\n",
       "      <th>2</th>\n",
       "      <td>894.0</td>\n",
       "      <td>2.0</td>\n",
       "      <td>62.0</td>\n",
       "      <td>0.0</td>\n",
       "      <td>0.0</td>\n",
       "      <td>1.0</td>\n",
       "      <td>1.0</td>\n",
       "      <td>0.0</td>\n",
       "      <td>Zero</td>\n",
       "    </tr>\n",
       "    <tr>\n",
       "      <th>3</th>\n",
       "      <td>895.0</td>\n",
       "      <td>3.0</td>\n",
       "      <td>27.0</td>\n",
       "      <td>0.0</td>\n",
       "      <td>0.0</td>\n",
       "      <td>1.0</td>\n",
       "      <td>0.0</td>\n",
       "      <td>1.0</td>\n",
       "      <td>Zero</td>\n",
       "    </tr>\n",
       "    <tr>\n",
       "      <th>4</th>\n",
       "      <td>896.0</td>\n",
       "      <td>3.0</td>\n",
       "      <td>22.0</td>\n",
       "      <td>1.0</td>\n",
       "      <td>1.0</td>\n",
       "      <td>0.0</td>\n",
       "      <td>0.0</td>\n",
       "      <td>1.0</td>\n",
       "      <td>One</td>\n",
       "    </tr>\n",
       "  </tbody>\n",
       "</table>\n",
       "</div>"
      ],
      "text/plain": [
       "   PassengerId  Pclass   Age  SibSp  Parch  Sex_male  Embarked_Q  Embarked_S  \\\n",
       "0        892.0     3.0  34.5    0.0    0.0       1.0         1.0         0.0   \n",
       "1        893.0     3.0  47.0    1.0    0.0       0.0         0.0         1.0   \n",
       "2        894.0     2.0  62.0    0.0    0.0       1.0         1.0         0.0   \n",
       "3        895.0     3.0  27.0    0.0    0.0       1.0         0.0         1.0   \n",
       "4        896.0     3.0  22.0    1.0    1.0       0.0         0.0         1.0   \n",
       "\n",
       "  SibSp_bin  \n",
       "0      Zero  \n",
       "1       One  \n",
       "2      Zero  \n",
       "3      Zero  \n",
       "4       One  "
      ]
     },
     "execution_count": 90,
     "metadata": {},
     "output_type": "execute_result"
    }
   ],
   "source": [
    "bins = [-1,0,1,100]\n",
    "group_names = ['Zero','One','Many']\n",
    "df_test_imp['SibSp_bin'] = pd.cut(df_test_imp['SibSp'], bins, labels=group_names)\n",
    "df_test_imp.head()"
   ]
  },
  {
   "cell_type": "code",
   "execution_count": 91,
   "metadata": {
    "collapsed": false
   },
   "outputs": [
    {
     "data": {
      "text/html": [
       "<div>\n",
       "<style scoped>\n",
       "    .dataframe tbody tr th:only-of-type {\n",
       "        vertical-align: middle;\n",
       "    }\n",
       "\n",
       "    .dataframe tbody tr th {\n",
       "        vertical-align: top;\n",
       "    }\n",
       "\n",
       "    .dataframe thead th {\n",
       "        text-align: right;\n",
       "    }\n",
       "</style>\n",
       "<table border=\"1\" class=\"dataframe\">\n",
       "  <thead>\n",
       "    <tr style=\"text-align: right;\">\n",
       "      <th></th>\n",
       "      <th>PassengerId</th>\n",
       "      <th>Pclass</th>\n",
       "      <th>Age</th>\n",
       "      <th>SibSp</th>\n",
       "      <th>Parch</th>\n",
       "      <th>Sex_male</th>\n",
       "      <th>Embarked_Q</th>\n",
       "      <th>Embarked_S</th>\n",
       "      <th>SibSp_bin</th>\n",
       "      <th>Parch_bin</th>\n",
       "    </tr>\n",
       "  </thead>\n",
       "  <tbody>\n",
       "    <tr>\n",
       "      <th>0</th>\n",
       "      <td>892.0</td>\n",
       "      <td>3.0</td>\n",
       "      <td>34.5</td>\n",
       "      <td>0.0</td>\n",
       "      <td>0.0</td>\n",
       "      <td>1.0</td>\n",
       "      <td>1.0</td>\n",
       "      <td>0.0</td>\n",
       "      <td>Zero</td>\n",
       "      <td>Zero</td>\n",
       "    </tr>\n",
       "    <tr>\n",
       "      <th>1</th>\n",
       "      <td>893.0</td>\n",
       "      <td>3.0</td>\n",
       "      <td>47.0</td>\n",
       "      <td>1.0</td>\n",
       "      <td>0.0</td>\n",
       "      <td>0.0</td>\n",
       "      <td>0.0</td>\n",
       "      <td>1.0</td>\n",
       "      <td>One</td>\n",
       "      <td>Zero</td>\n",
       "    </tr>\n",
       "    <tr>\n",
       "      <th>2</th>\n",
       "      <td>894.0</td>\n",
       "      <td>2.0</td>\n",
       "      <td>62.0</td>\n",
       "      <td>0.0</td>\n",
       "      <td>0.0</td>\n",
       "      <td>1.0</td>\n",
       "      <td>1.0</td>\n",
       "      <td>0.0</td>\n",
       "      <td>Zero</td>\n",
       "      <td>Zero</td>\n",
       "    </tr>\n",
       "    <tr>\n",
       "      <th>3</th>\n",
       "      <td>895.0</td>\n",
       "      <td>3.0</td>\n",
       "      <td>27.0</td>\n",
       "      <td>0.0</td>\n",
       "      <td>0.0</td>\n",
       "      <td>1.0</td>\n",
       "      <td>0.0</td>\n",
       "      <td>1.0</td>\n",
       "      <td>Zero</td>\n",
       "      <td>Zero</td>\n",
       "    </tr>\n",
       "    <tr>\n",
       "      <th>4</th>\n",
       "      <td>896.0</td>\n",
       "      <td>3.0</td>\n",
       "      <td>22.0</td>\n",
       "      <td>1.0</td>\n",
       "      <td>1.0</td>\n",
       "      <td>0.0</td>\n",
       "      <td>0.0</td>\n",
       "      <td>1.0</td>\n",
       "      <td>One</td>\n",
       "      <td>One_Or_Two</td>\n",
       "    </tr>\n",
       "  </tbody>\n",
       "</table>\n",
       "</div>"
      ],
      "text/plain": [
       "   PassengerId  Pclass   Age  SibSp  Parch  Sex_male  Embarked_Q  Embarked_S  \\\n",
       "0        892.0     3.0  34.5    0.0    0.0       1.0         1.0         0.0   \n",
       "1        893.0     3.0  47.0    1.0    0.0       0.0         0.0         1.0   \n",
       "2        894.0     2.0  62.0    0.0    0.0       1.0         1.0         0.0   \n",
       "3        895.0     3.0  27.0    0.0    0.0       1.0         0.0         1.0   \n",
       "4        896.0     3.0  22.0    1.0    1.0       0.0         0.0         1.0   \n",
       "\n",
       "  SibSp_bin   Parch_bin  \n",
       "0      Zero        Zero  \n",
       "1       One        Zero  \n",
       "2      Zero        Zero  \n",
       "3      Zero        Zero  \n",
       "4       One  One_Or_Two  "
      ]
     },
     "execution_count": 91,
     "metadata": {},
     "output_type": "execute_result"
    }
   ],
   "source": [
    "bins = [-1,0,2,100]\n",
    "group_names = ['Zero','One_Or_Two','Many']\n",
    "df_test_imp['Parch_bin'] = pd.cut(df_test_imp['Parch'], bins, labels=group_names)\n",
    "df_test_imp.head()"
   ]
  },
  {
   "cell_type": "code",
   "execution_count": 92,
   "metadata": {
    "collapsed": false
   },
   "outputs": [
    {
     "data": {
      "text/html": [
       "<div>\n",
       "<style scoped>\n",
       "    .dataframe tbody tr th:only-of-type {\n",
       "        vertical-align: middle;\n",
       "    }\n",
       "\n",
       "    .dataframe tbody tr th {\n",
       "        vertical-align: top;\n",
       "    }\n",
       "\n",
       "    .dataframe thead th {\n",
       "        text-align: right;\n",
       "    }\n",
       "</style>\n",
       "<table border=\"1\" class=\"dataframe\">\n",
       "  <thead>\n",
       "    <tr style=\"text-align: right;\">\n",
       "      <th></th>\n",
       "      <th>PassengerId</th>\n",
       "      <th>Pclass</th>\n",
       "      <th>Age</th>\n",
       "      <th>Sex_male</th>\n",
       "      <th>Embarked_Q</th>\n",
       "      <th>Embarked_S</th>\n",
       "      <th>SibSp_bin_One</th>\n",
       "      <th>SibSp_bin_Many</th>\n",
       "      <th>Parch_bin_One_Or_Two</th>\n",
       "      <th>Parch_bin_Many</th>\n",
       "    </tr>\n",
       "  </thead>\n",
       "  <tbody>\n",
       "    <tr>\n",
       "      <th>0</th>\n",
       "      <td>892.0</td>\n",
       "      <td>3.0</td>\n",
       "      <td>34.5</td>\n",
       "      <td>1.0</td>\n",
       "      <td>1.0</td>\n",
       "      <td>0.0</td>\n",
       "      <td>0</td>\n",
       "      <td>0</td>\n",
       "      <td>0</td>\n",
       "      <td>0</td>\n",
       "    </tr>\n",
       "    <tr>\n",
       "      <th>1</th>\n",
       "      <td>893.0</td>\n",
       "      <td>3.0</td>\n",
       "      <td>47.0</td>\n",
       "      <td>0.0</td>\n",
       "      <td>0.0</td>\n",
       "      <td>1.0</td>\n",
       "      <td>1</td>\n",
       "      <td>0</td>\n",
       "      <td>0</td>\n",
       "      <td>0</td>\n",
       "    </tr>\n",
       "    <tr>\n",
       "      <th>2</th>\n",
       "      <td>894.0</td>\n",
       "      <td>2.0</td>\n",
       "      <td>62.0</td>\n",
       "      <td>1.0</td>\n",
       "      <td>1.0</td>\n",
       "      <td>0.0</td>\n",
       "      <td>0</td>\n",
       "      <td>0</td>\n",
       "      <td>0</td>\n",
       "      <td>0</td>\n",
       "    </tr>\n",
       "    <tr>\n",
       "      <th>3</th>\n",
       "      <td>895.0</td>\n",
       "      <td>3.0</td>\n",
       "      <td>27.0</td>\n",
       "      <td>1.0</td>\n",
       "      <td>0.0</td>\n",
       "      <td>1.0</td>\n",
       "      <td>0</td>\n",
       "      <td>0</td>\n",
       "      <td>0</td>\n",
       "      <td>0</td>\n",
       "    </tr>\n",
       "    <tr>\n",
       "      <th>4</th>\n",
       "      <td>896.0</td>\n",
       "      <td>3.0</td>\n",
       "      <td>22.0</td>\n",
       "      <td>0.0</td>\n",
       "      <td>0.0</td>\n",
       "      <td>1.0</td>\n",
       "      <td>1</td>\n",
       "      <td>0</td>\n",
       "      <td>1</td>\n",
       "      <td>0</td>\n",
       "    </tr>\n",
       "  </tbody>\n",
       "</table>\n",
       "</div>"
      ],
      "text/plain": [
       "   PassengerId  Pclass   Age  Sex_male  Embarked_Q  Embarked_S  SibSp_bin_One  \\\n",
       "0        892.0     3.0  34.5       1.0         1.0         0.0              0   \n",
       "1        893.0     3.0  47.0       0.0         0.0         1.0              1   \n",
       "2        894.0     2.0  62.0       1.0         1.0         0.0              0   \n",
       "3        895.0     3.0  27.0       1.0         0.0         1.0              0   \n",
       "4        896.0     3.0  22.0       0.0         0.0         1.0              1   \n",
       "\n",
       "   SibSp_bin_Many  Parch_bin_One_Or_Two  Parch_bin_Many  \n",
       "0               0                     0               0  \n",
       "1               0                     0               0  \n",
       "2               0                     0               0  \n",
       "3               0                     0               0  \n",
       "4               0                     1               0  "
      ]
     },
     "execution_count": 92,
     "metadata": {},
     "output_type": "execute_result"
    }
   ],
   "source": [
    "df_test_imp.drop(labels=['SibSp','Parch'],axis=1,inplace=True)\n",
    "df_test_imp = pd.get_dummies(df_test_imp,drop_first=True)\n",
    "df_test_imp.head()"
   ]
  },
  {
   "cell_type": "markdown",
   "metadata": {},
   "source": [
    "Now that our train and test sets are both cleaned and formatted, let's export them to csv files just in case something gets messed up and we need to re-import them later."
   ]
  },
  {
   "cell_type": "code",
   "execution_count": 93,
   "metadata": {
    "collapsed": false
   },
   "outputs": [],
   "source": [
    "df_train_imp.to_csv('Data/train_clean.csv',index=False)\n",
    "df_test_imp.to_csv('Data/test_clean.csv',index=False)"
   ]
  },
  {
   "cell_type": "code",
   "execution_count": 94,
   "metadata": {
    "collapsed": true
   },
   "outputs": [],
   "source": [
    "### Commands to reload clean data from csv files\n",
    "#df_train_imp = pd.read_csv('Data/train_clean.csv')\n",
    "#df_test_imp = pd.read_csv('Data/test_clean.csv')"
   ]
  },
  {
   "cell_type": "markdown",
   "metadata": {},
   "source": [
    "Lastly, we need to split out the dependent and independent variables and create X_train, X_test, and y_train variables.  We will not have a y_test variable, because Kaggle does not provide the dependent variable for the test data.  Instead, we will submit our predicted y values to Kaggle and receive a score."
   ]
  },
  {
   "cell_type": "code",
   "execution_count": 95,
   "metadata": {
    "collapsed": false
   },
   "outputs": [],
   "source": [
    "X_train = df_train_imp.drop(['PassengerId','Survived'],axis=1)\n",
    "X_test = df_test_imp.drop('PassengerId',axis=1)\n",
    "y_train = df_train_imp['Survived']"
   ]
  },
  {
   "cell_type": "code",
   "execution_count": 96,
   "metadata": {
    "collapsed": false
   },
   "outputs": [
    {
     "data": {
      "text/html": [
       "<div>\n",
       "<style scoped>\n",
       "    .dataframe tbody tr th:only-of-type {\n",
       "        vertical-align: middle;\n",
       "    }\n",
       "\n",
       "    .dataframe tbody tr th {\n",
       "        vertical-align: top;\n",
       "    }\n",
       "\n",
       "    .dataframe thead th {\n",
       "        text-align: right;\n",
       "    }\n",
       "</style>\n",
       "<table border=\"1\" class=\"dataframe\">\n",
       "  <thead>\n",
       "    <tr style=\"text-align: right;\">\n",
       "      <th></th>\n",
       "      <th>Pclass</th>\n",
       "      <th>Age</th>\n",
       "      <th>Sex_male</th>\n",
       "      <th>Embarked_Q</th>\n",
       "      <th>Embarked_S</th>\n",
       "      <th>SibSp_bin_One</th>\n",
       "      <th>SibSp_bin_Many</th>\n",
       "      <th>Parch_bin_One_Or_Two</th>\n",
       "      <th>Parch_bin_Many</th>\n",
       "    </tr>\n",
       "  </thead>\n",
       "  <tbody>\n",
       "    <tr>\n",
       "      <th>0</th>\n",
       "      <td>3.0</td>\n",
       "      <td>22.0</td>\n",
       "      <td>1.0</td>\n",
       "      <td>0.0</td>\n",
       "      <td>1.0</td>\n",
       "      <td>1</td>\n",
       "      <td>0</td>\n",
       "      <td>0</td>\n",
       "      <td>0</td>\n",
       "    </tr>\n",
       "    <tr>\n",
       "      <th>1</th>\n",
       "      <td>1.0</td>\n",
       "      <td>38.0</td>\n",
       "      <td>0.0</td>\n",
       "      <td>0.0</td>\n",
       "      <td>0.0</td>\n",
       "      <td>1</td>\n",
       "      <td>0</td>\n",
       "      <td>0</td>\n",
       "      <td>0</td>\n",
       "    </tr>\n",
       "    <tr>\n",
       "      <th>2</th>\n",
       "      <td>3.0</td>\n",
       "      <td>26.0</td>\n",
       "      <td>0.0</td>\n",
       "      <td>0.0</td>\n",
       "      <td>1.0</td>\n",
       "      <td>0</td>\n",
       "      <td>0</td>\n",
       "      <td>0</td>\n",
       "      <td>0</td>\n",
       "    </tr>\n",
       "    <tr>\n",
       "      <th>3</th>\n",
       "      <td>1.0</td>\n",
       "      <td>35.0</td>\n",
       "      <td>0.0</td>\n",
       "      <td>0.0</td>\n",
       "      <td>1.0</td>\n",
       "      <td>1</td>\n",
       "      <td>0</td>\n",
       "      <td>0</td>\n",
       "      <td>0</td>\n",
       "    </tr>\n",
       "    <tr>\n",
       "      <th>4</th>\n",
       "      <td>3.0</td>\n",
       "      <td>35.0</td>\n",
       "      <td>1.0</td>\n",
       "      <td>0.0</td>\n",
       "      <td>1.0</td>\n",
       "      <td>0</td>\n",
       "      <td>0</td>\n",
       "      <td>0</td>\n",
       "      <td>0</td>\n",
       "    </tr>\n",
       "  </tbody>\n",
       "</table>\n",
       "</div>"
      ],
      "text/plain": [
       "   Pclass   Age  Sex_male  Embarked_Q  Embarked_S  SibSp_bin_One  \\\n",
       "0     3.0  22.0       1.0         0.0         1.0              1   \n",
       "1     1.0  38.0       0.0         0.0         0.0              1   \n",
       "2     3.0  26.0       0.0         0.0         1.0              0   \n",
       "3     1.0  35.0       0.0         0.0         1.0              1   \n",
       "4     3.0  35.0       1.0         0.0         1.0              0   \n",
       "\n",
       "   SibSp_bin_Many  Parch_bin_One_Or_Two  Parch_bin_Many  \n",
       "0               0                     0               0  \n",
       "1               0                     0               0  \n",
       "2               0                     0               0  \n",
       "3               0                     0               0  \n",
       "4               0                     0               0  "
      ]
     },
     "execution_count": 96,
     "metadata": {},
     "output_type": "execute_result"
    }
   ],
   "source": [
    "X_train.head()"
   ]
  },
  {
   "cell_type": "code",
   "execution_count": 97,
   "metadata": {
    "collapsed": false
   },
   "outputs": [
    {
     "data": {
      "text/html": [
       "<div>\n",
       "<style scoped>\n",
       "    .dataframe tbody tr th:only-of-type {\n",
       "        vertical-align: middle;\n",
       "    }\n",
       "\n",
       "    .dataframe tbody tr th {\n",
       "        vertical-align: top;\n",
       "    }\n",
       "\n",
       "    .dataframe thead th {\n",
       "        text-align: right;\n",
       "    }\n",
       "</style>\n",
       "<table border=\"1\" class=\"dataframe\">\n",
       "  <thead>\n",
       "    <tr style=\"text-align: right;\">\n",
       "      <th></th>\n",
       "      <th>Pclass</th>\n",
       "      <th>Age</th>\n",
       "      <th>Sex_male</th>\n",
       "      <th>Embarked_Q</th>\n",
       "      <th>Embarked_S</th>\n",
       "      <th>SibSp_bin_One</th>\n",
       "      <th>SibSp_bin_Many</th>\n",
       "      <th>Parch_bin_One_Or_Two</th>\n",
       "      <th>Parch_bin_Many</th>\n",
       "    </tr>\n",
       "  </thead>\n",
       "  <tbody>\n",
       "    <tr>\n",
       "      <th>0</th>\n",
       "      <td>3.0</td>\n",
       "      <td>34.5</td>\n",
       "      <td>1.0</td>\n",
       "      <td>1.0</td>\n",
       "      <td>0.0</td>\n",
       "      <td>0</td>\n",
       "      <td>0</td>\n",
       "      <td>0</td>\n",
       "      <td>0</td>\n",
       "    </tr>\n",
       "    <tr>\n",
       "      <th>1</th>\n",
       "      <td>3.0</td>\n",
       "      <td>47.0</td>\n",
       "      <td>0.0</td>\n",
       "      <td>0.0</td>\n",
       "      <td>1.0</td>\n",
       "      <td>1</td>\n",
       "      <td>0</td>\n",
       "      <td>0</td>\n",
       "      <td>0</td>\n",
       "    </tr>\n",
       "    <tr>\n",
       "      <th>2</th>\n",
       "      <td>2.0</td>\n",
       "      <td>62.0</td>\n",
       "      <td>1.0</td>\n",
       "      <td>1.0</td>\n",
       "      <td>0.0</td>\n",
       "      <td>0</td>\n",
       "      <td>0</td>\n",
       "      <td>0</td>\n",
       "      <td>0</td>\n",
       "    </tr>\n",
       "    <tr>\n",
       "      <th>3</th>\n",
       "      <td>3.0</td>\n",
       "      <td>27.0</td>\n",
       "      <td>1.0</td>\n",
       "      <td>0.0</td>\n",
       "      <td>1.0</td>\n",
       "      <td>0</td>\n",
       "      <td>0</td>\n",
       "      <td>0</td>\n",
       "      <td>0</td>\n",
       "    </tr>\n",
       "    <tr>\n",
       "      <th>4</th>\n",
       "      <td>3.0</td>\n",
       "      <td>22.0</td>\n",
       "      <td>0.0</td>\n",
       "      <td>0.0</td>\n",
       "      <td>1.0</td>\n",
       "      <td>1</td>\n",
       "      <td>0</td>\n",
       "      <td>1</td>\n",
       "      <td>0</td>\n",
       "    </tr>\n",
       "  </tbody>\n",
       "</table>\n",
       "</div>"
      ],
      "text/plain": [
       "   Pclass   Age  Sex_male  Embarked_Q  Embarked_S  SibSp_bin_One  \\\n",
       "0     3.0  34.5       1.0         1.0         0.0              0   \n",
       "1     3.0  47.0       0.0         0.0         1.0              1   \n",
       "2     2.0  62.0       1.0         1.0         0.0              0   \n",
       "3     3.0  27.0       1.0         0.0         1.0              0   \n",
       "4     3.0  22.0       0.0         0.0         1.0              1   \n",
       "\n",
       "   SibSp_bin_Many  Parch_bin_One_Or_Two  Parch_bin_Many  \n",
       "0               0                     0               0  \n",
       "1               0                     0               0  \n",
       "2               0                     0               0  \n",
       "3               0                     0               0  \n",
       "4               0                     1               0  "
      ]
     },
     "execution_count": 97,
     "metadata": {},
     "output_type": "execute_result"
    }
   ],
   "source": [
    "X_test.head()"
   ]
  },
  {
   "cell_type": "code",
   "execution_count": 98,
   "metadata": {
    "collapsed": false
   },
   "outputs": [
    {
     "data": {
      "text/plain": [
       "0    0\n",
       "1    1\n",
       "2    1\n",
       "3    1\n",
       "4    0\n",
       "Name: Survived, dtype: int64"
      ]
     },
     "execution_count": 98,
     "metadata": {},
     "output_type": "execute_result"
    }
   ],
   "source": [
    "y_train.head()"
   ]
  },
  {
   "cell_type": "markdown",
   "metadata": {},
   "source": [
    "Now, we are ready to begin building models.  Let's begin with a logistic regression model."
   ]
  },
  {
   "cell_type": "markdown",
   "metadata": {},
   "source": [
    "<a id='5.2'></a>\n",
    "### 5.2 Logistic Regression"
   ]
  },
  {
   "cell_type": "markdown",
   "metadata": {},
   "source": [
    "In order to avoid overfitting, we will use stratified 10 fold cross validation to fit our model.  Let's begin by just fitting a logistic regression model using all of the possible features to get a baseline score."
   ]
  },
  {
   "cell_type": "code",
   "execution_count": 99,
   "metadata": {
    "collapsed": false
   },
   "outputs": [],
   "source": [
    "from sklearn.model_selection import StratifiedKFold\n",
    "from sklearn.linear_model import LogisticRegression, LogisticRegressionCV"
   ]
  },
  {
   "cell_type": "code",
   "execution_count": 100,
   "metadata": {
    "collapsed": false
   },
   "outputs": [],
   "source": [
    "cv_object = StratifiedKFold(n_splits=10,random_state=888)"
   ]
  },
  {
   "cell_type": "code",
   "execution_count": 101,
   "metadata": {
    "collapsed": true
   },
   "outputs": [],
   "source": [
    "logregcv = LogisticRegressionCV(cv=cv_object)"
   ]
  },
  {
   "cell_type": "code",
   "execution_count": 102,
   "metadata": {
    "collapsed": false
   },
   "outputs": [
    {
     "data": {
      "text/plain": [
       "LogisticRegressionCV(Cs=10, class_weight=None,\n",
       "           cv=StratifiedKFold(n_splits=10, random_state=888, shuffle=False),\n",
       "           dual=False, fit_intercept=True, intercept_scaling=1.0,\n",
       "           max_iter=100, multi_class='ovr', n_jobs=1, penalty='l2',\n",
       "           random_state=None, refit=True, scoring=None, solver='lbfgs',\n",
       "           tol=0.0001, verbose=0)"
      ]
     },
     "execution_count": 102,
     "metadata": {},
     "output_type": "execute_result"
    }
   ],
   "source": [
    "logregcv.fit(X_train,y_train)"
   ]
  },
  {
   "cell_type": "code",
   "execution_count": 103,
   "metadata": {
    "collapsed": false
   },
   "outputs": [
    {
     "data": {
      "text/plain": [
       "0.76277074111905596"
      ]
     },
     "execution_count": 103,
     "metadata": {},
     "output_type": "execute_result"
    }
   ],
   "source": [
    "logregcv.scores_[1].mean()"
   ]
  },
  {
   "cell_type": "markdown",
   "metadata": {},
   "source": [
    "With the default settings, we get an accuracy score of 76% on the training set.  Not bad, but not great.  Let's predict scores for the test data and submit them to Kaggle to see if we get a similar score.  Ideally the test score should be similar if our model generalizes well to out of sample data."
   ]
  },
  {
   "cell_type": "code",
   "execution_count": 104,
   "metadata": {
    "collapsed": false
   },
   "outputs": [],
   "source": [
    "y_pred = logregcv.predict(X_test)"
   ]
  },
  {
   "cell_type": "markdown",
   "metadata": {},
   "source": [
    "We need to append the PassengerId column to the predictions before submitting them to Kaggle.  Since we're going to need to do this every time we want to submit new results to Kaggle, it makes sense to write a function."
   ]
  },
  {
   "cell_type": "code",
   "execution_count": 105,
   "metadata": {
    "collapsed": true
   },
   "outputs": [],
   "source": [
    "def export_kaggle(preds, outfile):\n",
    "    df = pd.DataFrame(preds, columns=['Survived'])\n",
    "    df.insert(0, 'PassengerId', df_test['PassengerId'])\n",
    "    df.to_csv(outfile, index=False)"
   ]
  },
  {
   "cell_type": "code",
   "execution_count": 106,
   "metadata": {
    "collapsed": true
   },
   "outputs": [],
   "source": [
    "export_kaggle(y_pred,'Data/logreg1.csv')"
   ]
  },
  {
   "cell_type": "markdown",
   "metadata": {},
   "source": [
    "When submitting these predictions to Kaggle, we get a score of 0.76076.  That's very close to what we saw with the training data, which is a good sign.  I think we can do better than this score though.  Let's try using recursive feature elimination to build a simpler model."
   ]
  },
  {
   "cell_type": "code",
   "execution_count": 107,
   "metadata": {
    "collapsed": true
   },
   "outputs": [],
   "source": [
    "from sklearn.feature_selection import RFECV"
   ]
  },
  {
   "cell_type": "code",
   "execution_count": 108,
   "metadata": {
    "collapsed": true
   },
   "outputs": [],
   "source": [
    "logreg =LogisticRegression()\n",
    "rfe = RFECV(logreg,cv=cv_object)"
   ]
  },
  {
   "cell_type": "code",
   "execution_count": 109,
   "metadata": {
    "collapsed": false
   },
   "outputs": [
    {
     "data": {
      "text/plain": [
       "RFECV(cv=StratifiedKFold(n_splits=10, random_state=888, shuffle=False),\n",
       "   estimator=LogisticRegression(C=1.0, class_weight=None, dual=False, fit_intercept=True,\n",
       "          intercept_scaling=1, max_iter=100, multi_class='ovr', n_jobs=1,\n",
       "          penalty='l2', random_state=None, solver='liblinear', tol=0.0001,\n",
       "          verbose=0, warm_start=False),\n",
       "   n_jobs=1, scoring=None, step=1, verbose=0)"
      ]
     },
     "execution_count": 109,
     "metadata": {},
     "output_type": "execute_result"
    }
   ],
   "source": [
    "rfe.fit(X_train,y_train)"
   ]
  },
  {
   "cell_type": "code",
   "execution_count": 110,
   "metadata": {
    "collapsed": false
   },
   "outputs": [
    {
     "data": {
      "text/plain": [
       "8"
      ]
     },
     "execution_count": 110,
     "metadata": {},
     "output_type": "execute_result"
    }
   ],
   "source": [
    "rfe.n_features_"
   ]
  },
  {
   "cell_type": "markdown",
   "metadata": {},
   "source": [
    "8 of the 9 features were selected by recursive feature elimination."
   ]
  },
  {
   "cell_type": "code",
   "execution_count": 111,
   "metadata": {
    "collapsed": false,
    "scrolled": true
   },
   "outputs": [
    {
     "data": {
      "text/plain": [
       "array([1, 2, 1, 1, 1, 1, 1, 1, 1])"
      ]
     },
     "execution_count": 111,
     "metadata": {},
     "output_type": "execute_result"
    }
   ],
   "source": [
    "rfe.ranking_"
   ]
  },
  {
   "cell_type": "code",
   "execution_count": 112,
   "metadata": {
    "collapsed": false
   },
   "outputs": [
    {
     "data": {
      "text/plain": [
       "'Age'"
      ]
     },
     "execution_count": 112,
     "metadata": {},
     "output_type": "execute_result"
    }
   ],
   "source": [
    "X_train.columns[1]"
   ]
  },
  {
   "cell_type": "markdown",
   "metadata": {},
   "source": [
    "The age column is the one that was excluded by RFE.  Let's see if removing this column increased the accuracy of the model at all."
   ]
  },
  {
   "cell_type": "code",
   "execution_count": 113,
   "metadata": {
    "collapsed": false
   },
   "outputs": [
    {
     "data": {
      "text/plain": [
       "0.79619629503524647"
      ]
     },
     "execution_count": 113,
     "metadata": {},
     "output_type": "execute_result"
    }
   ],
   "source": [
    "rfe.grid_scores_.mean()"
   ]
  },
  {
   "cell_type": "markdown",
   "metadata": {},
   "source": [
    "This new model produces an accuracy of about 80%. This is better than our initial model.  Let's generate predictions for the test set and submit them to Kaggle."
   ]
  },
  {
   "cell_type": "code",
   "execution_count": 114,
   "metadata": {
    "collapsed": false
   },
   "outputs": [],
   "source": [
    "y_pred = rfe.predict(X_test)"
   ]
  },
  {
   "cell_type": "code",
   "execution_count": 115,
   "metadata": {
    "collapsed": true
   },
   "outputs": [],
   "source": [
    "export_kaggle(y_pred,'Data/logreg2.csv')"
   ]
  },
  {
   "cell_type": "markdown",
   "metadata": {},
   "source": [
    "Interestingly this model's predictions on the test set only had an accuracy of 0.77990.  Maybe we can get better results with other methods.  Let's try K-Nearest Neighbors next."
   ]
  },
  {
   "cell_type": "markdown",
   "metadata": {},
   "source": [
    "<a id='5.3'></a>\n",
    "### 5.3 K-Nearest Neighbors"
   ]
  },
  {
   "cell_type": "markdown",
   "metadata": {},
   "source": [
    "Once again, let's start by creating a kNN model using the default parameters as a baseline and try to improve on the score from there.  We will normalize our features before building the model."
   ]
  },
  {
   "cell_type": "code",
   "execution_count": 168,
   "metadata": {
    "collapsed": true
   },
   "outputs": [],
   "source": [
    "from sklearn.neighbors import KNeighborsClassifier\n",
    "from sklearn.model_selection import cross_val_score\n",
    "from sklearn.preprocessing import normalize"
   ]
  },
  {
   "cell_type": "code",
   "execution_count": 169,
   "metadata": {
    "collapsed": true
   },
   "outputs": [],
   "source": [
    "knn = KNeighborsClassifier()"
   ]
  },
  {
   "cell_type": "code",
   "execution_count": 170,
   "metadata": {
    "collapsed": true
   },
   "outputs": [],
   "source": [
    "X_train_norm = normalize(X_train)\n",
    "X_test_norm = normalize(X_test)"
   ]
  },
  {
   "cell_type": "code",
   "execution_count": 171,
   "metadata": {
    "collapsed": false
   },
   "outputs": [
    {
     "name": "stdout",
     "output_type": "stream",
     "text": [
      "[ 0.77777778  0.78888889  0.7752809   0.78651685  0.80898876  0.76404494\n",
      "  0.78651685  0.7752809   0.79775281  0.82954545]\n",
      "Average Accuracy:  0.789059414368\n"
     ]
    }
   ],
   "source": [
    "scores = cross_val_score(knn,X_train_norm,y_train,cv=cv_object)\n",
    "print(scores)\n",
    "print('Average Accuracy: ',scores.mean())"
   ]
  },
  {
   "cell_type": "markdown",
   "metadata": {},
   "source": [
    "This model using a k value of 5 and default values for all other parameters as well is about 79%.  "
   ]
  },
  {
   "cell_type": "code",
   "execution_count": 175,
   "metadata": {
    "collapsed": false
   },
   "outputs": [
    {
     "data": {
      "text/plain": [
       "KNeighborsClassifier(algorithm='auto', leaf_size=30, metric='minkowski',\n",
       "           metric_params=None, n_jobs=1, n_neighbors=5, p=2,\n",
       "           weights='uniform')"
      ]
     },
     "execution_count": 175,
     "metadata": {},
     "output_type": "execute_result"
    }
   ],
   "source": [
    "knn.fit(X_train_norm,y_train)"
   ]
  },
  {
   "cell_type": "code",
   "execution_count": 176,
   "metadata": {
    "collapsed": false
   },
   "outputs": [],
   "source": [
    "y_pred = knn.predict(X_test_norm)"
   ]
  },
  {
   "cell_type": "code",
   "execution_count": 177,
   "metadata": {
    "collapsed": true
   },
   "outputs": [],
   "source": [
    "export_kaggle(y_pred,'Data/knn1.csv')"
   ]
  },
  {
   "cell_type": "markdown",
   "metadata": {},
   "source": [
    "This model produces an accuracy score of 0.73205 when run against the test set.  Let's do some tuning and see if we can improve this score.  First, we'll try to pick an optimum value for k and see what impact that has."
   ]
  },
  {
   "cell_type": "code",
   "execution_count": 178,
   "metadata": {
    "collapsed": false
   },
   "outputs": [],
   "source": [
    "from sklearn.model_selection import GridSearchCV"
   ]
  },
  {
   "cell_type": "code",
   "execution_count": 179,
   "metadata": {
    "collapsed": false
   },
   "outputs": [
    {
     "name": "stdout",
     "output_type": "stream",
     "text": [
      "[1, 2, 3, 4, 5, 6, 7, 8, 9, 10, 11, 12, 13, 14, 15, 16, 17, 18, 19, 20, 21, 22, 23, 24, 25, 26, 27, 28, 29, 30, 31, 32, 33, 34, 35, 36, 37, 38, 39, 40, 41, 42, 43, 44, 45, 46, 47, 48, 49, 50, 51, 52, 53, 54, 55, 56, 57, 58, 59, 60, 61, 62, 63, 64, 65, 66, 67, 68, 69, 70, 71, 72, 73, 74, 75, 76, 77, 78, 79, 80, 81, 82, 83, 84, 85, 86, 87, 88, 89, 90, 91, 92, 93, 94, 95, 96, 97, 98, 99]\n"
     ]
    }
   ],
   "source": [
    "k_range = list(range(1,100))\n",
    "print(k_range)"
   ]
  },
  {
   "cell_type": "markdown",
   "metadata": {},
   "source": [
    "We'll use Grid Search to select the optimal value of k between 1 and 100."
   ]
  },
  {
   "cell_type": "code",
   "execution_count": 187,
   "metadata": {
    "collapsed": true
   },
   "outputs": [],
   "source": [
    "knn = KNeighborsClassifier()\n",
    "param_grid = dict(n_neighbors=k_range)\n",
    "\n",
    "grid = GridSearchCV(knn, param_grid, cv=10, scoring='accuracy')"
   ]
  },
  {
   "cell_type": "code",
   "execution_count": 188,
   "metadata": {
    "collapsed": false
   },
   "outputs": [
    {
     "data": {
      "text/plain": [
       "GridSearchCV(cv=10, error_score='raise',\n",
       "       estimator=KNeighborsClassifier(algorithm='auto', leaf_size=30, metric='minkowski',\n",
       "           metric_params=None, n_jobs=1, n_neighbors=5, p=2,\n",
       "           weights='uniform'),\n",
       "       fit_params=None, iid=True, n_jobs=1,\n",
       "       param_grid={'n_neighbors': [1, 2, 3, 4, 5, 6, 7, 8, 9, 10, 11, 12, 13, 14, 15, 16, 17, 18, 19, 20, 21, 22, 23, 24, 25, 26, 27, 28, 29, 30, 31, 32, 33, 34, 35, 36, 37, 38, 39, 40, 41, 42, 43, 44, 45, 46, 47, 48, 49, 50, 51, 52, 53, 54, 55, 56, 57, 58, 59, 60, 61, 62, 63, 64, 65, 66, 67, 68, 69, 70, 71, 72, 73, 74, 75, 76, 77, 78, 79, 80, 81, 82, 83, 84, 85, 86, 87, 88, 89, 90, 91, 92, 93, 94, 95, 96, 97, 98, 99]},\n",
       "       pre_dispatch='2*n_jobs', refit=True, return_train_score=True,\n",
       "       scoring='accuracy', verbose=0)"
      ]
     },
     "execution_count": 188,
     "metadata": {},
     "output_type": "execute_result"
    }
   ],
   "source": [
    "grid.fit(X_train_norm,y_train)"
   ]
  },
  {
   "cell_type": "markdown",
   "metadata": {},
   "source": [
    "Let's look at the accuracy scores for the different values of k."
   ]
  },
  {
   "cell_type": "code",
   "execution_count": 189,
   "metadata": {
    "collapsed": false
   },
   "outputs": [],
   "source": [
    "mean_scores = grid.cv_results_['mean_test_score']"
   ]
  },
  {
   "cell_type": "code",
   "execution_count": 190,
   "metadata": {
    "collapsed": false
   },
   "outputs": [
    {
     "data": {
      "image/png": "[encoded data removed]",
      "text/plain": [
       "<matplotlib.figure.Figure at 0x19ab1378ac8>"
      ]
     },
     "metadata": {},
     "output_type": "display_data"
    }
   ],
   "source": [
    "plt.figure(figsize=(15,8))\n",
    "plt.plot(k_range,mean_scores)\n",
    "plt.xlabel('Value of K')\n",
    "plt.ylabel('Accuracy')\n",
    "plt.title('Mean Cross Validation Accuracy for Each Value of K')\n",
    "plt.xticks(np.arange(min(k_range)-1, max(k_range)+5, 5.0))\n",
    "plt.show()"
   ]
  },
  {
   "cell_type": "markdown",
   "metadata": {},
   "source": [
    "We can see that this model performs fairly well for values of k up to about 25 before it starts to tail off.  It looks like the optimal value of k is 3.  Let's see if Grid Search selected that as the best parameter value."
   ]
  },
  {
   "cell_type": "code",
   "execution_count": 191,
   "metadata": {
    "collapsed": false
   },
   "outputs": [
    {
     "name": "stdout",
     "output_type": "stream",
     "text": [
      "Best Score:  0.800224466891\n",
      "Optimal Value of k:  {'n_neighbors': 3}\n"
     ]
    }
   ],
   "source": [
    "print('Best Score: ',grid.best_score_)\n",
    "print('Optimal Value of k: ',grid.best_params_)"
   ]
  },
  {
   "cell_type": "markdown",
   "metadata": {},
   "source": [
    "The grid Search also chose a k of 3 and we get a mean accuracy of avout 80%.  Let's predict values for the test set and see how this model fares."
   ]
  },
  {
   "cell_type": "code",
   "execution_count": 192,
   "metadata": {
    "collapsed": true
   },
   "outputs": [],
   "source": [
    "y_pred = grid.predict(X_test_norm)"
   ]
  },
  {
   "cell_type": "code",
   "execution_count": 193,
   "metadata": {
    "collapsed": true
   },
   "outputs": [],
   "source": [
    "export_kaggle(y_pred,'Data/knn2.csv')"
   ]
  },
  {
   "cell_type": "markdown",
   "metadata": {},
   "source": [
    "This model actually performed slightly worse against the test set with an accuracy score of 0.70813.  Let's try optimizing some of the other hyperparameters in addition to the value of k.  We can try weighting the distance of the neighbors in addition to the default uniform.  We will also try using Manhattan distance in addition to the default Euclidian distance.  In the interest of reducing compute time, we will scale down the range of k values to between 1 and 30."
   ]
  },
  {
   "cell_type": "code",
   "execution_count": 194,
   "metadata": {
    "collapsed": true
   },
   "outputs": [],
   "source": [
    "k_range = list(range(1,30))\n",
    "param_grid = dict(n_neighbors=k_range,\n",
    "                 weights=['uniform','distance'],\n",
    "                 p=[1,2])\n",
    "\n",
    "grid = GridSearchCV(knn, param_grid, cv=10, scoring='accuracy')"
   ]
  },
  {
   "cell_type": "code",
   "execution_count": 195,
   "metadata": {
    "collapsed": false
   },
   "outputs": [
    {
     "data": {
      "text/plain": [
       "GridSearchCV(cv=10, error_score='raise',\n",
       "       estimator=KNeighborsClassifier(algorithm='auto', leaf_size=30, metric='minkowski',\n",
       "           metric_params=None, n_jobs=1, n_neighbors=5, p=2,\n",
       "           weights='uniform'),\n",
       "       fit_params=None, iid=True, n_jobs=1,\n",
       "       param_grid={'weights': ['uniform', 'distance'], 'n_neighbors': [1, 2, 3, 4, 5, 6, 7, 8, 9, 10, 11, 12, 13, 14, 15, 16, 17, 18, 19, 20, 21, 22, 23, 24, 25, 26, 27, 28, 29], 'p': [1, 2]},\n",
       "       pre_dispatch='2*n_jobs', refit=True, return_train_score=True,\n",
       "       scoring='accuracy', verbose=0)"
      ]
     },
     "execution_count": 195,
     "metadata": {},
     "output_type": "execute_result"
    }
   ],
   "source": [
    "grid.fit(X_train_norm,y_train)"
   ]
  },
  {
   "cell_type": "code",
   "execution_count": 196,
   "metadata": {
    "collapsed": false
   },
   "outputs": [
    {
     "name": "stdout",
     "output_type": "stream",
     "text": [
      "Best Score:  0.803591470258\n",
      "Optimal Parameters:  {'weights': 'uniform', 'n_neighbors': 3, 'p': 1}\n",
      "Optimal Model:  KNeighborsClassifier(algorithm='auto', leaf_size=30, metric='minkowski',\n",
      "           metric_params=None, n_jobs=1, n_neighbors=3, p=1,\n",
      "           weights='uniform')\n"
     ]
    }
   ],
   "source": [
    "print('Best Score: ',grid.best_score_)\n",
    "print('Optimal Parameters: ',grid.best_params_)\n",
    "print('Optimal Model: ',grid.best_estimator_)"
   ]
  },
  {
   "cell_type": "markdown",
   "metadata": {},
   "source": [
    "The optimal model given these options uses a k of 3, Manhattan distance, and uniform weights.  This model produces a mean accuracy of about 80% for the training data using 10 fold cross validation.  Let's see how it does for the test data."
   ]
  },
  {
   "cell_type": "code",
   "execution_count": 197,
   "metadata": {
    "collapsed": true
   },
   "outputs": [],
   "source": [
    "y_pred = grid.predict(X_test_norm)"
   ]
  },
  {
   "cell_type": "code",
   "execution_count": 198,
   "metadata": {
    "collapsed": true
   },
   "outputs": [],
   "source": [
    "export_kaggle(y_pred,'Data/knn3.csv')"
   ]
  },
  {
   "cell_type": "markdown",
   "metadata": {},
   "source": [
    "This model scored slightly better against the test data with an accuracy score of 0.72727.  \n",
    "\n",
    "Let's see if we can do any better using a random forest classifier."
   ]
  },
  {
   "cell_type": "markdown",
   "metadata": {},
   "source": [
    "<a id='5.4'></a>\n",
    "### 5.4 Random Forest Classifier"
   ]
  },
  {
   "cell_type": "markdown",
   "metadata": {
    "collapsed": true
   },
   "source": [
    "Once again, we'll start by using the default parameter values in order to get a baseline accuracy score and then we will tune the hyperparameters to try to improve the accuracy of the model."
   ]
  },
  {
   "cell_type": "code",
   "execution_count": 133,
   "metadata": {
    "collapsed": true
   },
   "outputs": [],
   "source": [
    "from sklearn.ensemble import RandomForestClassifier"
   ]
  },
  {
   "cell_type": "code",
   "execution_count": 134,
   "metadata": {
    "collapsed": true
   },
   "outputs": [],
   "source": [
    "rfc = RandomForestClassifier(random_state=888)"
   ]
  },
  {
   "cell_type": "code",
   "execution_count": 135,
   "metadata": {
    "collapsed": false
   },
   "outputs": [
    {
     "data": {
      "text/plain": [
       "RandomForestClassifier(bootstrap=True, class_weight=None, criterion='gini',\n",
       "            max_depth=None, max_features='auto', max_leaf_nodes=None,\n",
       "            min_impurity_decrease=0.0, min_impurity_split=None,\n",
       "            min_samples_leaf=1, min_samples_split=2,\n",
       "            min_weight_fraction_leaf=0.0, n_estimators=10, n_jobs=1,\n",
       "            oob_score=False, random_state=888, verbose=0, warm_start=False)"
      ]
     },
     "execution_count": 135,
     "metadata": {},
     "output_type": "execute_result"
    }
   ],
   "source": [
    "rfc.fit(X_train,y_train)"
   ]
  },
  {
   "cell_type": "code",
   "execution_count": 139,
   "metadata": {
    "collapsed": false
   },
   "outputs": [],
   "source": [
    "y_pred = rfc.predict(X_test)"
   ]
  },
  {
   "cell_type": "code",
   "execution_count": 140,
   "metadata": {
    "collapsed": true
   },
   "outputs": [],
   "source": [
    "export_kaggle(y_pred,'Data/rfc1.csv')"
   ]
  },
  {
   "cell_type": "markdown",
   "metadata": {},
   "source": [
    "This model achieved an accuracy score of 0.73205 against the test data set.  Let's see what happens if we increase the number of trees from the default 10 to 200."
   ]
  },
  {
   "cell_type": "code",
   "execution_count": 199,
   "metadata": {
    "collapsed": true
   },
   "outputs": [],
   "source": [
    "rfc = RandomForestClassifier(n_estimators=200,random_state=888)"
   ]
  },
  {
   "cell_type": "code",
   "execution_count": 200,
   "metadata": {
    "collapsed": false
   },
   "outputs": [
    {
     "data": {
      "text/plain": [
       "RandomForestClassifier(bootstrap=True, class_weight=None, criterion='gini',\n",
       "            max_depth=None, max_features='auto', max_leaf_nodes=None,\n",
       "            min_impurity_decrease=0.0, min_impurity_split=None,\n",
       "            min_samples_leaf=1, min_samples_split=2,\n",
       "            min_weight_fraction_leaf=0.0, n_estimators=200, n_jobs=1,\n",
       "            oob_score=False, random_state=888, verbose=0, warm_start=False)"
      ]
     },
     "execution_count": 200,
     "metadata": {},
     "output_type": "execute_result"
    }
   ],
   "source": [
    "rfc.fit(X_train,y_train)"
   ]
  },
  {
   "cell_type": "code",
   "execution_count": 206,
   "metadata": {
    "collapsed": false
   },
   "outputs": [
    {
     "data": {
      "text/plain": [
       "<bound method BaseEstimator.get_params of RandomForestClassifier(bootstrap=True, class_weight=None, criterion='gini',\n",
       "            max_depth=None, max_features='auto', max_leaf_nodes=None,\n",
       "            min_impurity_decrease=0.0, min_impurity_split=None,\n",
       "            min_samples_leaf=1, min_samples_split=2,\n",
       "            min_weight_fraction_leaf=0.0, n_estimators=200, n_jobs=1,\n",
       "            oob_score=False, random_state=888, verbose=0, warm_start=False)>"
      ]
     },
     "execution_count": 206,
     "metadata": {},
     "output_type": "execute_result"
    }
   ],
   "source": [
    "rfc.get_params"
   ]
  },
  {
   "cell_type": "code",
   "execution_count": 201,
   "metadata": {
    "collapsed": true
   },
   "outputs": [],
   "source": [
    "y_pred = rfc.predict(X_test)"
   ]
  },
  {
   "cell_type": "code",
   "execution_count": 202,
   "metadata": {
    "collapsed": true
   },
   "outputs": [],
   "source": [
    "export_kaggle(y_pred,'Data/rfc2.csv')"
   ]
  },
  {
   "cell_type": "markdown",
   "metadata": {},
   "source": [
    "This RFC performed slightly better with an accuracy of 0.76076.  That still isn't great though.  Let's try tuning some additional parameters with grid search."
   ]
  },
  {
   "cell_type": "code",
   "execution_count": 220,
   "metadata": {
    "collapsed": false
   },
   "outputs": [],
   "source": [
    "param_grid = dict(n_estimators=[200],\n",
    "                 random_state=[888],\n",
    "                 max_depth=[1,3,10,30,100],\n",
    "                 max_leaf_nodes=[10,30,100],\n",
    "                 min_samples_leaf=list(range(1,10)),\n",
    "                 min_samples_split=list(range(2,10)))\n",
    "\n",
    "grid = GridSearchCV(rfc, param_grid, cv=10, scoring='accuracy',verbose=2,n_jobs=4)"
   ]
  },
  {
   "cell_type": "code",
   "execution_count": 221,
   "metadata": {
    "collapsed": false,
    "scrolled": true
   },
   "outputs": [
    {
     "name": "stdout",
     "output_type": "stream",
     "text": [
      "Fitting 10 folds for each of 1080 candidates, totalling 10800 fits\n"
     ]
    },
    {
     "name": "stderr",
     "output_type": "stream",
     "text": [
      "[Parallel(n_jobs=4)]: Done  33 tasks      | elapsed:    9.1s\n",
      "[Parallel(n_jobs=4)]: Done 154 tasks      | elapsed:   17.1s\n",
      "[Parallel(n_jobs=4)]: Done 357 tasks      | elapsed:   30.4s\n",
      "[Parallel(n_jobs=4)]: Done 640 tasks      | elapsed:   49.6s\n",
      "[Parallel(n_jobs=4)]: Done 1005 tasks      | elapsed:  1.3min\n",
      "[Parallel(n_jobs=4)]: Done 1450 tasks      | elapsed:  1.8min\n",
      "[Parallel(n_jobs=4)]: Done 1977 tasks      | elapsed:  2.4min\n",
      "[Parallel(n_jobs=4)]: Done 2584 tasks      | elapsed:  3.1min\n",
      "[Parallel(n_jobs=4)]: Done 3273 tasks      | elapsed:  3.9min\n",
      "[Parallel(n_jobs=4)]: Done 4042 tasks      | elapsed:  4.8min\n",
      "[Parallel(n_jobs=4)]: Done 4893 tasks      | elapsed:  5.7min\n",
      "[Parallel(n_jobs=4)]: Done 5824 tasks      | elapsed:  6.8min\n",
      "[Parallel(n_jobs=4)]: Done 6837 tasks      | elapsed:  8.0min\n",
      "[Parallel(n_jobs=4)]: Done 7930 tasks      | elapsed:  9.3min\n",
      "[Parallel(n_jobs=4)]: Done 9105 tasks      | elapsed: 10.7min\n",
      "[Parallel(n_jobs=4)]: Done 10360 tasks      | elapsed: 12.2min\n",
      "[Parallel(n_jobs=4)]: Done 10800 out of 10800 | elapsed: 12.7min finished\n"
     ]
    },
    {
     "data": {
      "text/plain": [
       "GridSearchCV(cv=10, error_score='raise',\n",
       "       estimator=RandomForestClassifier(bootstrap=True, class_weight=None, criterion='gini',\n",
       "            max_depth=None, max_features='auto', max_leaf_nodes=None,\n",
       "            min_impurity_decrease=0.0, min_impurity_split=None,\n",
       "            min_samples_leaf=1, min_samples_split=2,\n",
       "            min_weight_fraction_leaf=0.0, n_estimators=200, n_jobs=1,\n",
       "            oob_score=False, random_state=888, verbose=0, warm_start=False),\n",
       "       fit_params=None, iid=True, n_jobs=4,\n",
       "       param_grid={'max_depth': [1, 3, 10, 30, 100], 'n_estimators': [200], 'random_state': [888], 'min_samples_split': [2, 3, 4, 5, 6, 7, 8, 9], 'max_leaf_nodes': [10, 30, 100], 'min_samples_leaf': [1, 2, 3, 4, 5, 6, 7, 8, 9]},\n",
       "       pre_dispatch='2*n_jobs', refit=True, return_train_score=True,\n",
       "       scoring='accuracy', verbose=2)"
      ]
     },
     "execution_count": 221,
     "metadata": {},
     "output_type": "execute_result"
    }
   ],
   "source": [
    "grid.fit(X_train,y_train)"
   ]
  },
  {
   "cell_type": "code",
   "execution_count": 223,
   "metadata": {
    "collapsed": false
   },
   "outputs": [
    {
     "name": "stdout",
     "output_type": "stream",
     "text": [
      "Best Score:  0.832772166105\n",
      "Optimal Parameters:  {'max_depth': 10, 'n_estimators': 200, 'min_samples_leaf': 1, 'min_samples_split': 7, 'max_leaf_nodes': 30, 'random_state': 888}\n",
      "Optimal Model:  RandomForestClassifier(bootstrap=True, class_weight=None, criterion='gini',\n",
      "            max_depth=10, max_features='auto', max_leaf_nodes=30,\n",
      "            min_impurity_decrease=0.0, min_impurity_split=None,\n",
      "            min_samples_leaf=1, min_samples_split=7,\n",
      "            min_weight_fraction_leaf=0.0, n_estimators=200, n_jobs=1,\n",
      "            oob_score=False, random_state=888, verbose=0, warm_start=False)\n"
     ]
    }
   ],
   "source": [
    "print('Best Score: ',grid.best_score_)\n",
    "print('Optimal Parameters: ',grid.best_params_)\n",
    "print('Optimal Model: ',grid.best_estimator_)"
   ]
  },
  {
   "cell_type": "markdown",
   "metadata": {},
   "source": [
    "Out of the given parameter options we supplied to it, grid search selected a model with a max depth of 10, minimum samples per leaf of 1, minimum samples per split of 7, and maximum leaf nodes of 30.  This produced an accuracy of about 83% on the training set.  Let's see what we get when we run this model on the test data."
   ]
  },
  {
   "cell_type": "code",
   "execution_count": 224,
   "metadata": {
    "collapsed": true
   },
   "outputs": [],
   "source": [
    "y_pred = grid.predict(X_test)"
   ]
  },
  {
   "cell_type": "code",
   "execution_count": 225,
   "metadata": {
    "collapsed": true
   },
   "outputs": [],
   "source": [
    "export_kaggle(y_pred,'Data/rfc3.csv')"
   ]
  },
  {
   "cell_type": "markdown",
   "metadata": {},
   "source": [
    "This model results in an accuracy score of 0.77511 when run against the test set.  This is definitely the best random forest classifier we've built, but we still haven't beaten the best logistic regression model that we built."
   ]
  },
  {
   "cell_type": "markdown",
   "metadata": {},
   "source": [
    "<a id='5.5'></a>\n",
    "### 5.5 Gradient Boosted Classifier"
   ]
  },
  {
   "cell_type": "markdown",
   "metadata": {},
   "source": [
    "We tried a random forest and got decent results, but still weren't able to beat our best score.  Let's see if breaking out the big guns and using gradient boosting will help."
   ]
  },
  {
   "cell_type": "code",
   "execution_count": 226,
   "metadata": {
    "collapsed": true
   },
   "outputs": [],
   "source": [
    "from sklearn.ensemble import GradientBoostingClassifier"
   ]
  },
  {
   "cell_type": "markdown",
   "metadata": {},
   "source": [
    "First, let's just construct a gradient boosted classifier using 200 estimators and the default values for the rest of the hyperparameters.  We can tune it from there."
   ]
  },
  {
   "cell_type": "code",
   "execution_count": 227,
   "metadata": {
    "collapsed": true
   },
   "outputs": [],
   "source": [
    "gbc = GradientBoostingClassifier(n_estimators=200)"
   ]
  },
  {
   "cell_type": "code",
   "execution_count": 228,
   "metadata": {
    "collapsed": false
   },
   "outputs": [
    {
     "data": {
      "text/plain": [
       "GradientBoostingClassifier(criterion='friedman_mse', init=None,\n",
       "              learning_rate=0.1, loss='deviance', max_depth=3,\n",
       "              max_features=None, max_leaf_nodes=None,\n",
       "              min_impurity_decrease=0.0, min_impurity_split=None,\n",
       "              min_samples_leaf=1, min_samples_split=2,\n",
       "              min_weight_fraction_leaf=0.0, n_estimators=200,\n",
       "              presort='auto', random_state=None, subsample=1.0, verbose=0,\n",
       "              warm_start=False)"
      ]
     },
     "execution_count": 228,
     "metadata": {},
     "output_type": "execute_result"
    }
   ],
   "source": [
    "gbc.fit(X_train,y_train)"
   ]
  },
  {
   "cell_type": "code",
   "execution_count": 230,
   "metadata": {
    "collapsed": false
   },
   "outputs": [],
   "source": [
    "y_pred = gbc.predict(X_test)"
   ]
  },
  {
   "cell_type": "code",
   "execution_count": 231,
   "metadata": {
    "collapsed": true
   },
   "outputs": [],
   "source": [
    "export_kaggle(y_pred,'Data/gbc1.csv')"
   ]
  },
  {
   "cell_type": "markdown",
   "metadata": {},
   "source": [
    "This inital model produces an accuracy of 0.76076, which is the same score we get with the random forest that we created using the same parameters.  Let's see what happens if we pass the optimal RFC parameters to a gradient boosted model."
   ]
  },
  {
   "cell_type": "code",
   "execution_count": 232,
   "metadata": {
    "collapsed": true
   },
   "outputs": [],
   "source": [
    "gbc = GradientBoostingClassifier(max_depth=10,n_estimators=200,min_samples_leaf=1,min_samples_split=7,max_leaf_nodes=30)"
   ]
  },
  {
   "cell_type": "code",
   "execution_count": 233,
   "metadata": {
    "collapsed": false
   },
   "outputs": [
    {
     "data": {
      "text/plain": [
       "GradientBoostingClassifier(criterion='friedman_mse', init=None,\n",
       "              learning_rate=0.1, loss='deviance', max_depth=10,\n",
       "              max_features=None, max_leaf_nodes=30,\n",
       "              min_impurity_decrease=0.0, min_impurity_split=None,\n",
       "              min_samples_leaf=1, min_samples_split=7,\n",
       "              min_weight_fraction_leaf=0.0, n_estimators=200,\n",
       "              presort='auto', random_state=None, subsample=1.0, verbose=0,\n",
       "              warm_start=False)"
      ]
     },
     "execution_count": 233,
     "metadata": {},
     "output_type": "execute_result"
    }
   ],
   "source": [
    "gbc.fit(X_train,y_train)"
   ]
  },
  {
   "cell_type": "code",
   "execution_count": 234,
   "metadata": {
    "collapsed": true
   },
   "outputs": [],
   "source": [
    "y_pred = gbc.predict(X_test)"
   ]
  },
  {
   "cell_type": "code",
   "execution_count": 236,
   "metadata": {
    "collapsed": true
   },
   "outputs": [],
   "source": [
    "export_kaggle(y_pred,'Data/gbc2.csv')"
   ]
  },
  {
   "cell_type": "markdown",
   "metadata": {},
   "source": [
    "This model actually produced a worse score of 0.74162.  Let's try running a grid search to optimize the gradient boosted model instead, but let's also try increasing the number of estimators."
   ]
  },
  {
   "cell_type": "code",
   "execution_count": 237,
   "metadata": {
    "collapsed": true
   },
   "outputs": [],
   "source": [
    "param_grid = dict(learning_rate=[0.1,0.05,0.02,0.01],\n",
    "                  max_depth=[1,3,10],\n",
    "                  max_leaf_nodes=[10,30,100],\n",
    "                  min_samples_leaf=[1,3,10,30],\n",
    "                  min_samples_split=list(range(2,10)))\n",
    "\n",
    "gbc = GradientBoostingClassifier(n_estimators=3000)\n",
    "\n",
    "grid = GridSearchCV(gbc, param_grid, cv=10, scoring='accuracy',verbose=2,n_jobs=4)"
   ]
  },
  {
   "cell_type": "code",
   "execution_count": 238,
   "metadata": {
    "collapsed": false
   },
   "outputs": [
    {
     "name": "stdout",
     "output_type": "stream",
     "text": [
      "Fitting 10 folds for each of 1152 candidates, totalling 11520 fits\n"
     ]
    },
    {
     "name": "stderr",
     "output_type": "stream",
     "text": [
      "[Parallel(n_jobs=4)]: Done  33 tasks      | elapsed:   21.1s\n",
      "[Parallel(n_jobs=4)]: Done 154 tasks      | elapsed:  1.1min\n",
      "[Parallel(n_jobs=4)]: Done 357 tasks      | elapsed:  2.4min\n",
      "[Parallel(n_jobs=4)]: Done 640 tasks      | elapsed:  4.2min\n",
      "[Parallel(n_jobs=4)]: Done 1005 tasks      | elapsed:  6.8min\n",
      "[Parallel(n_jobs=4)]: Done 1450 tasks      | elapsed: 11.8min\n",
      "[Parallel(n_jobs=4)]: Done 1977 tasks      | elapsed: 17.6min\n",
      "[Parallel(n_jobs=4)]: Done 2584 tasks      | elapsed: 27.8min\n",
      "[Parallel(n_jobs=4)]: Done 3273 tasks      | elapsed: 38.6min\n",
      "[Parallel(n_jobs=4)]: Done 4042 tasks      | elapsed: 43.9min\n",
      "[Parallel(n_jobs=4)]: Done 4893 tasks      | elapsed: 52.9min\n",
      "[Parallel(n_jobs=4)]: Done 5824 tasks      | elapsed: 71.8min\n",
      "[Parallel(n_jobs=4)]: Done 6837 tasks      | elapsed: 78.1min\n",
      "[Parallel(n_jobs=4)]: Done 7930 tasks      | elapsed: 89.6min\n",
      "[Parallel(n_jobs=4)]: Done 9105 tasks      | elapsed: 109.1min\n",
      "[Parallel(n_jobs=4)]: Done 10360 tasks      | elapsed: 119.8min\n",
      "[Parallel(n_jobs=4)]: Done 11520 out of 11520 | elapsed: 142.4min finished\n"
     ]
    },
    {
     "data": {
      "text/plain": [
       "GridSearchCV(cv=10, error_score='raise',\n",
       "       estimator=GradientBoostingClassifier(criterion='friedman_mse', init=None,\n",
       "              learning_rate=0.1, loss='deviance', max_depth=3,\n",
       "              max_features=None, max_leaf_nodes=None,\n",
       "              min_impurity_decrease=0.0, min_impurity_split=None,\n",
       "              min_samples_leaf=1, min_samples_split=2,\n",
       "              min_weight_fraction_leaf=0.0, n_estimators=3000,\n",
       "              presort='auto', random_state=None, subsample=1.0, verbose=0,\n",
       "              warm_start=False),\n",
       "       fit_params=None, iid=True, n_jobs=4,\n",
       "       param_grid={'max_leaf_nodes': [10, 30, 100], 'min_samples_leaf': [1, 3, 10, 30], 'min_samples_split': [2, 3, 4, 5, 6, 7, 8, 9], 'learning_rate': [0.1, 0.05, 0.02, 0.01], 'max_depth': [1, 3, 10]},\n",
       "       pre_dispatch='2*n_jobs', refit=True, return_train_score=True,\n",
       "       scoring='accuracy', verbose=2)"
      ]
     },
     "execution_count": 238,
     "metadata": {},
     "output_type": "execute_result"
    }
   ],
   "source": [
    "grid.fit(X_train,y_train)"
   ]
  },
  {
   "cell_type": "code",
   "execution_count": 239,
   "metadata": {
    "collapsed": false
   },
   "outputs": [
    {
     "name": "stdout",
     "output_type": "stream",
     "text": [
      "Best Score:  0.835016835017\n",
      "Optimal Parameters:  {'max_leaf_nodes': 10, 'max_depth': 3, 'min_samples_split': 2, 'learning_rate': 0.01, 'min_samples_leaf': 30}\n",
      "Optimal Model:  GradientBoostingClassifier(criterion='friedman_mse', init=None,\n",
      "              learning_rate=0.01, loss='deviance', max_depth=3,\n",
      "              max_features=None, max_leaf_nodes=10,\n",
      "              min_impurity_decrease=0.0, min_impurity_split=None,\n",
      "              min_samples_leaf=30, min_samples_split=2,\n",
      "              min_weight_fraction_leaf=0.0, n_estimators=3000,\n",
      "              presort='auto', random_state=None, subsample=1.0, verbose=0,\n",
      "              warm_start=False)\n"
     ]
    }
   ],
   "source": [
    "print('Best Score: ',grid.best_score_)\n",
    "print('Optimal Parameters: ',grid.best_params_)\n",
    "print('Optimal Model: ',grid.best_estimator_)"
   ]
  },
  {
   "cell_type": "markdown",
   "metadata": {},
   "source": [
    "Using grid search to select the optimum values for the hyperparameters, we get a model with max_leaf_nodes set to 10, max_depth set to 3, min_samples_split set to 2, min_samples_leaf set to 30 and a learning rate of 0.01.  This resulted in a mean cross validation accuracy score of 83.5%."
   ]
  },
  {
   "cell_type": "code",
   "execution_count": 240,
   "metadata": {
    "collapsed": true
   },
   "outputs": [],
   "source": [
    "y_pred = grid.predict(X_test)"
   ]
  },
  {
   "cell_type": "code",
   "execution_count": 241,
   "metadata": {
    "collapsed": true
   },
   "outputs": [],
   "source": [
    "export_kaggle(y_pred,'Data/gbc3.csv')"
   ]
  },
  {
   "cell_type": "markdown",
   "metadata": {},
   "source": [
    "After tuning the gradient boosted classifier using grid search, we actually get a slightly worse accuracy for the test set than we did with the initial configuration.  This model produces an accuracy score of 0.75119."
   ]
  },
  {
   "cell_type": "markdown",
   "metadata": {},
   "source": [
    "---\n",
    "<a id='6'></a>\n",
    "## 6 Conclusions and Future Work"
   ]
  },
  {
   "cell_type": "code",
   "execution_count": null,
   "metadata": {
    "collapsed": true
   },
   "outputs": [],
   "source": []
  }
 ],
 "metadata": {
  "anaconda-cloud": {},
  "kernelspec": {
   "display_name": "Python [default]",
   "language": "python",
   "name": "python3"
  },
  "language_info": {
   "codemirror_mode": {
    "name": "ipython",
    "version": 3
   },
   "file_extension": ".py",
   "mimetype": "text/x-python",
   "name": "python",
   "nbconvert_exporter": "python",
   "pygments_lexer": "ipython3",
   "version": "3.5.4"
  }
 },
 "nbformat": 4,
 "nbformat_minor": 1
}
